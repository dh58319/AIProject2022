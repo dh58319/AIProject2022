{
  "cells": [
    {
      "cell_type": "code",
      "execution_count": 61,
      "metadata": {
        "id": "NhjEdgyRArVe"
      },
      "outputs": [],
      "source": [
        "import glob\n",
        "import torch\n",
        "from PIL import Image\n",
        "from torch.utils.data import Dataset, DataLoader,random_split,SubsetRandomSampler, ConcatDataset\n",
        "import torch.nn as nn\n",
        "import torch.optim as optim\n",
        "from torchvision import datasets, transforms\n",
        "from torch.autograd import Variable\n",
        "import torch.nn.functional as F\n",
        "import numpy as np\n",
        "import matplotlib.pyplot as plt\n",
        "from torchvision.utils import make_grid\n",
        "from torchsummary import summary\n",
        "import tqdm\n",
        "\n"
      ]
    },
    {
      "cell_type": "code",
      "execution_count": 62,
      "metadata": {
        "colab": {
          "base_uri": "https://localhost:8080/"
        },
        "id": "jLPpYyQbArVg",
        "outputId": "651c27b3-ee5d-47cc-86b9-86f7dbf39e42"
      },
      "outputs": [
        {
          "output_type": "stream",
          "name": "stdout",
          "text": [
            "Drive already mounted at /gdrive; to attempt to forcibly remount, call drive.mount(\"/gdrive\", force_remount=True).\n",
            "/gdrive/MyDrive/challenge\n",
            "/gdrive/MyDrive/challenge\n"
          ]
        }
      ],
      "source": [
        "from google.colab import drive\n",
        "drive.mount('/gdrive')\n",
        "%cd /gdrive/MyDrive/challenge\n",
        "!pwd\n"
      ]
    },
    {
      "cell_type": "code",
      "execution_count": 63,
      "metadata": {
        "id": "wdktrK6AArVh"
      },
      "outputs": [],
      "source": [
        "args={}\n",
        "kwargs={}\n",
        "args['batch_size']=64\n",
        "args['test_batch_size']=64\n",
        "args['epochs']=200  #The number of Epochs is the number of times you go through the full dataset. \n",
        "args['lr']=0.01 #Learning rate is how fast it will decend. \n",
        "args['momentum']=0.5 #SGD momentum (default: 0.5) Momentum is a moving average of our gradients (helps to keep direction).\n",
        "args['seed']=1 #random seed\n",
        "args['log_interval']=100 // args['batch_size']\n",
        "args['cuda']=False\n"
      ]
    },
    {
      "cell_type": "code",
      "execution_count": 64,
      "metadata": {
        "colab": {
          "base_uri": "https://localhost:8080/"
        },
        "id": "C3MDGaZfArVi",
        "outputId": "01ef5899-e23d-49a7-bc58-7998d0a21bfe"
      },
      "outputs": [
        {
          "output_type": "stream",
          "name": "stdout",
          "text": [
            "(50000, 32, 32, 3)\n"
          ]
        }
      ],
      "source": [
        "#load npy files\n",
        "train_dataset = np.load('trainset.npy')\n",
        "train_label = np.load('trainlabel.npy')\n",
        "test_dataset = np.load('testset.npy')\n",
        "\n",
        "print(train_dataset.shape)\n"
      ]
    },
    {
      "cell_type": "code",
      "execution_count": 65,
      "metadata": {
        "id": "EnZH06ebArVi"
      },
      "outputs": [],
      "source": [
        "train_data=[]\n",
        "for idx, data in enumerate(train_dataset):\n",
        "    train_data.append([data,train_label[idx]])"
      ]
    },
    {
      "cell_type": "code",
      "execution_count": 66,
      "metadata": {
        "id": "RLQVUW2AArVj"
      },
      "outputs": [],
      "source": [
        "# Function: Split Data\n",
        "def shuffle_train_valid_split(X, test_size=0.1, shuffle=True, random_state=1004):\n",
        "    test_num = int(len(X) * test_size)\n",
        "    train_num = len(X) - test_num\n",
        "    \n",
        "    if shuffle:\n",
        "        np.random.seed(random_state)\n",
        "        np.random.shuffle(X)\n",
        "        X_train = X[:train_num]\n",
        "        X_valid = X[train_num:]\n",
        "    else:\n",
        "        X_train = X[:train_num]\n",
        "        X_valid = X[train_num:]\n",
        "        \n",
        "    return X_train, X_valid"
      ]
    },
    {
      "cell_type": "code",
      "execution_count": 67,
      "metadata": {
        "colab": {
          "base_uri": "https://localhost:8080/"
        },
        "id": "SgDWQlzVArVj",
        "outputId": "04b44379-0d2b-409f-befb-cc847517a9ab"
      },
      "outputs": [
        {
          "output_type": "stream",
          "name": "stdout",
          "text": [
            "45000\n"
          ]
        }
      ],
      "source": [
        "train_data, valid_data = shuffle_train_valid_split(train_data)\n",
        "\n",
        "print(len(train_data))"
      ]
    },
    {
      "cell_type": "code",
      "execution_count": 68,
      "metadata": {
        "id": "H1vbARPHArVk"
      },
      "outputs": [],
      "source": [
        "# torch.manual_seed(42)\n",
        "\n",
        "\n",
        "# dataset = ConcatDataset([train_data,valid_data])\n",
        "\n",
        "# num_epochs=10\n",
        "# batch_size=128\n",
        "# k=10\n",
        "# splits=KFold(n_splits=k,shuffle=True,random_state=42)\n",
        "# foldperf={}\n",
        "\n",
        "# print(len(train_data))\n",
        "# print(len(valid_data))"
      ]
    },
    {
      "cell_type": "code",
      "execution_count": 69,
      "metadata": {
        "id": "00umWBVsArVl"
      },
      "outputs": [],
      "source": [
        "#custom dataset \n",
        "class CustomDataset(Dataset):\n",
        "    def __init__(self, input, transform=None):\n",
        "        super().__init__()\n",
        "        self.x_data = [data[0] for data in input]\n",
        "        self.y_data = [data[1] for data in input]\n",
        "        self.transform = transform \n",
        "\n",
        "    def __len__(self):\n",
        "        return len(self.x_data)\n",
        "\n",
        "    def __getitem__(self, idx):\n",
        "        x = self.x_data[idx]\n",
        "        y = self.y_data[idx]\n",
        "        if self.transform:\n",
        "            x = self.transform(x)\n",
        "\n",
        "        return x, y\n",
        "        "
      ]
    },
    {
      "cell_type": "code",
      "execution_count": 70,
      "metadata": {
        "id": "unLi3eY2ArVl"
      },
      "outputs": [],
      "source": [
        "#custom dataset \n",
        "class testDataset(Dataset):\n",
        "    def __init__(self, input, transform=None):\n",
        "        super().__init__()\n",
        "        self.x_data =input\n",
        "        self.transform = transform \n",
        "\n",
        "    def __len__(self):\n",
        "        return len(self.x_data)\n",
        "\n",
        "    def __getitem__(self, idx):\n",
        "        x = self.x_data[idx]\n",
        "        if self.transform:\n",
        "            x = self.transform(x)\n",
        "\n",
        "        return x\n",
        "        "
      ]
    },
    {
      "cell_type": "code",
      "execution_count": 71,
      "metadata": {
        "id": "QBJb85RMArVm"
      },
      "outputs": [],
      "source": [
        "transform_train = transforms.Compose([\n",
        "    transforms.ToTensor(),\n",
        "    transforms.RandomHorizontalFlip(p = 0.3),\n",
        "    transforms.RandomRotation(30),\n",
        "    transforms.RandomResizedCrop(28,scale=(0.9,0.9)),\n",
        "    transforms.Normalize([0.485, 0.456, 0.406], [0.229, 0.224, 0.225])\n",
        "])\n",
        "transform_test = transforms.Compose([\n",
        "    transforms.ToTensor(),\n",
        "    transforms.Normalize([0.485, 0.456, 0.406], [0.229, 0.224, 0.225])\n",
        "])\n"
      ]
    },
    {
      "cell_type": "code",
      "execution_count": 72,
      "metadata": {
        "id": "SLo_fQJnArVm"
      },
      "outputs": [],
      "source": [
        "traindata = CustomDataset(train_data, transform=transform_train)\n",
        "validdata = CustomDataset(valid_data, transform=transform_test)\n",
        "testdata = testDataset(test_dataset, transform=transform_test)\n",
        "\n",
        "\n",
        "#data loader\n",
        "train_loader = DataLoader(traindata, batch_size=args['batch_size'], shuffle=True)\n",
        "valid_loader = DataLoader(validdata, batch_size=args['batch_size'], shuffle=True)\n",
        "test_loader = DataLoader(testdata, batch_size=args['batch_size'], shuffle=False)\n"
      ]
    },
    {
      "cell_type": "code",
      "execution_count": 73,
      "metadata": {
        "id": "zZRiIEmDArVn"
      },
      "outputs": [],
      "source": [
        "class Mish(nn.Module):\n",
        "\n",
        "\n",
        "    def __init__(self):\n",
        "        super().__init__()\n",
        "\n",
        "    def forward(self, x):\n",
        "        return x * torch.tanh(F.softplus(x))"
      ]
    },
    {
      "cell_type": "code",
      "execution_count": 74,
      "metadata": {
        "id": "NZedeWDoArVn"
      },
      "outputs": [],
      "source": [
        "import torch\n",
        "import torch.nn as nn\n",
        "class SEUnit(nn.Sequential):\n",
        "    \"\"\" Squeeze and Excitation def.\n",
        "    (hint 1): change nn.Identity() to appropriate class name\n",
        "    \"\"\"\n",
        "    def __init__(self, ch, r=16):\n",
        "        super().__init__()\n",
        "        self.avg_pool = nn.AdaptiveAvgPool2d(1)\n",
        "        self.fc = nn.Sequential(\n",
        "            nn.Linear(ch, int(ch/r), bias=False),\n",
        "            nn.Mish(),\n",
        "            nn.Linear(int(ch / r), ch, bias=False),\n",
        "            nn.Sigmoid()\n",
        "        )\n",
        "\n",
        "    def forward(self, x):\n",
        "        b, c, _, _ = x.size()\n",
        "        y = self.avg_pool(x).view(b, c)\n",
        "        y = self.fc(y).view(b, c, 1, 1)\n",
        "        return x + y.expand_as(x)\n",
        "\n",
        "class DepthSeperabelConv2d(nn.Module):\n",
        "\n",
        "    def __init__(self, input_channels, output_channels, kernel_size, **kwargs):\n",
        "        super().__init__()\n",
        "        self.depthwise = nn.Sequential(\n",
        "            nn.Conv2d(\n",
        "                input_channels,\n",
        "                input_channels,\n",
        "                kernel_size,\n",
        "                groups=input_channels,\n",
        "                **kwargs),\n",
        "            nn.BatchNorm2d(input_channels),\n",
        "            nn.Mish()\n",
        "        )\n",
        "\n",
        "        self.pointwise = nn.Sequential(\n",
        "            nn.Conv2d(input_channels, output_channels, 1),\n",
        "            nn.BatchNorm2d(output_channels),\n",
        "            nn.Mish()\n",
        "        )\n",
        "\n",
        "    def forward(self, x):\n",
        "        x = self.depthwise(x)\n",
        "        x = self.pointwise(x)\n",
        "\n",
        "        return x\n",
        "\n",
        "\n",
        "class BasicConv2d(nn.Module):\n",
        "\n",
        "    def __init__(self, input_channels, output_channels, kernel_size, **kwargs):\n",
        "\n",
        "        super().__init__()\n",
        "        self.conv = nn.Conv2d(\n",
        "            input_channels, output_channels, kernel_size, **kwargs)\n",
        "        self.bn = nn.BatchNorm2d(output_channels)\n",
        "        self.relu = nn.Mish()\n",
        "\n",
        "    def forward(self, x):\n",
        "        x = self.conv(x)\n",
        "        x = self.bn(x)\n",
        "        x = self.relu(x)\n",
        "\n",
        "        return x\n",
        "\n",
        "\n",
        "class MobileNet(nn.Module):\n",
        "\n",
        "    def __init__(self, width_multiplier=1, class_num=100):\n",
        "       super().__init__()\n",
        "\n",
        "       alpha = width_multiplier\n",
        "       self.stem = nn.Sequential(\n",
        "           BasicConv2d(3, int(32 * alpha), 3, padding=1, bias=False),\n",
        "           DepthSeperabelConv2d(\n",
        "               int(32 * alpha),\n",
        "               int(32 * alpha),\n",
        "               3,\n",
        "               padding=1,\n",
        "               bias=False\n",
        "           )\n",
        "       )\n",
        "\n",
        "       #downsample\n",
        "       self.conv1 = nn.Sequential(\n",
        "           DepthSeperabelConv2d(\n",
        "               int(32 * alpha),\n",
        "               int(32 * alpha),\n",
        "               3,\n",
        "               stride=1,\n",
        "               padding=1,\n",
        "               bias=False\n",
        "           ),\n",
        "           DepthSeperabelConv2d(\n",
        "               int(32 * alpha),\n",
        "               int(32 * alpha),\n",
        "               3,\n",
        "               padding=1,\n",
        "               bias=False\n",
        "           )\n",
        "       )\n",
        "\n",
        "       #downsample\n",
        "       self.conv2 = nn.Sequential(\n",
        "           DepthSeperabelConv2d(\n",
        "               int(32 * alpha),\n",
        "               int(32 * alpha),\n",
        "               3,\n",
        "               stride=1,\n",
        "               padding=1,\n",
        "               bias=False\n",
        "           ),\n",
        "           DepthSeperabelConv2d(\n",
        "               int(32 * alpha),\n",
        "               int(64 * alpha),\n",
        "               3,\n",
        "               padding=1,\n",
        "               bias=False\n",
        "           )\n",
        "       )\n",
        "\n",
        "       #downsample\n",
        "       self.conv3 = nn.Sequential(\n",
        "           DepthSeperabelConv2d(\n",
        "               int(64 * alpha),\n",
        "               int(64 * alpha),\n",
        "               3,\n",
        "               stride=1,\n",
        "               padding=1,\n",
        "               bias=False\n",
        "           ),\n",
        "\n",
        "           DepthSeperabelConv2d(\n",
        "               int(64 * alpha),\n",
        "               int(64 * alpha),\n",
        "               3,\n",
        "               padding=1,\n",
        "               bias=False\n",
        "           ),\n",
        "           DepthSeperabelConv2d(\n",
        "               int(64 * alpha),\n",
        "               int(64 * alpha),\n",
        "               3,\n",
        "               padding=1,\n",
        "               bias=False\n",
        "           ),\n",
        "           DepthSeperabelConv2d(\n",
        "               int(64 * alpha),\n",
        "               int(64 * alpha),\n",
        "               3,\n",
        "               padding=1,\n",
        "               bias=False\n",
        "           ),\n",
        "           DepthSeperabelConv2d(\n",
        "               int(64 * alpha),\n",
        "               int(64 * alpha),\n",
        "               3,\n",
        "               padding=1,\n",
        "               bias=False\n",
        "           ),\n",
        "           DepthSeperabelConv2d(\n",
        "               int(64 * alpha),\n",
        "               int(128 * alpha),\n",
        "               3,\n",
        "               padding=1,\n",
        "               bias=False\n",
        "           ),SEUnit(128)\n",
        "       )\n",
        "\n",
        "       #downsample\n",
        "       self.conv4 = nn.Sequential(\n",
        "           DepthSeperabelConv2d(\n",
        "               int(128 * alpha),\n",
        "               int(128 * alpha),\n",
        "               3,\n",
        "               stride=1,\n",
        "               padding=1,\n",
        "               bias=False\n",
        "           ),SEUnit(128),\n",
        "           DepthSeperabelConv2d(\n",
        "               int(128 * alpha),\n",
        "               int(128 * alpha),\n",
        "               3,\n",
        "               padding=1,\n",
        "               bias=False\n",
        "           ),SEUnit(128)\n",
        "       )\n",
        "        \n",
        "       self.fc = nn.Linear(int(128 * alpha), class_num)\n",
        "       self.avg = nn.AdaptiveAvgPool2d(1)\n",
        "       self.pool = nn.MaxPool2d(2, 2)\n",
        "       self.dropout = nn.Dropout(0.2)\n",
        "      #  weight initialization with he_normal\n",
        "       for m in self.modules():\n",
        "        if isinstance(m, nn.Conv2d):\n",
        "            nn.init.kaiming_normal_(m.weight, mode='fan_out')\n",
        "        elif isinstance(m, nn.BatchNorm2d):\n",
        "            m.weight.data.fill_(1)\n",
        "            m.bias.data.zero_()\n",
        "        \n",
        "\n",
        "    def forward(self, x):\n",
        "        x = self.stem(x)\n",
        "\n",
        "        x = self.conv1(x)\n",
        "        x = self.conv2(x)\n",
        "        x = self.conv3(x)\n",
        "        #x = self.pool(x)\n",
        "        x = self.conv4(x)\n",
        "        #x = self.pool(x)\n",
        "        x = self.avg(x)\n",
        "        x = x.view(x.size(0), -1)\n",
        "        x = self.dropout(x)\n",
        "        x = self.fc(x)\n",
        "        return x\n",
        "\n",
        "\n",
        "def mobilenet(alpha=1, class_num=100):\n",
        "    return MobileNet(alpha, class_num)"
      ]
    },
    {
      "cell_type": "code",
      "execution_count": 75,
      "metadata": {
        "colab": {
          "base_uri": "https://localhost:8080/"
        },
        "id": "5KU_Y5aKArVo",
        "outputId": "3fc47758-e7c3-4a7a-9354-2cfe131ca116"
      },
      "outputs": [
        {
          "output_type": "stream",
          "name": "stdout",
          "text": [
            "0\n",
            "torch.Size([64, 3, 28, 28])\n",
            "torch.Size([64])\n"
          ]
        }
      ],
      "source": [
        "for batch, (X,y)in enumerate(train_loader):\n",
        "    print(batch)\n",
        "    print(X.shape)\n",
        "    print(y.shape)\n",
        "    break"
      ]
    },
    {
      "cell_type": "code",
      "execution_count": 76,
      "metadata": {
        "id": "pSplgy9NArVp"
      },
      "outputs": [],
      "source": [
        "device =  \"cuda:0\""
      ]
    },
    {
      "cell_type": "code",
      "execution_count": 77,
      "metadata": {
        "id": "GzCkg3waArVp"
      },
      "outputs": [],
      "source": [
        "\n",
        "def train_loop(dataloader, model, loss_fn, optimizer):\n",
        "    model.train()\n",
        "    size = len(dataloader.dataset)\n",
        "    num_batches = len(dataloader)\n",
        "    train_loss, correct = 0, 0\n",
        "    for batch, (X, y) in tqdm.tqdm(enumerate(dataloader)):\n",
        "        # Compute prediction and loss\n",
        "        pred = model(X.to(device))\n",
        "        loss = loss_fn(pred, y.to(device))\n",
        "        correct += (pred.argmax(1) == y.to(device)).type(torch.float).sum().item()\n",
        "\n",
        "        # Backpropagation\n",
        "        optimizer.zero_grad()\n",
        "        loss.backward()\n",
        "        optimizer.step() \n",
        "        \n",
        "        #print(\"Factor = \",i,\" , Learning Rate = \",optimizer.param_groups[0][\"lr\"])\n",
        "#         if batch % 128 == 0:\n",
        "#             loss, current = loss.item(), batch * len(X)\n",
        "#             print(f\"loss: {loss:>7f}  [{current:>5d}/{size:>5d}]\")\n",
        "     \n",
        "    lrs.append(optimizer.param_groups[0][\"lr\"]) \n",
        "    print(\"lr :\" + str(optimizer.param_groups[0][\"lr\"]))\n",
        "    train_loss /= num_batches\n",
        "    correct /= size\n",
        "    print(f\"Train Error: \\n Accuracy: {(100*correct):>0.1f}%, Avg loss: {loss:>8f} \\n\")\n",
        "    train_acc.append(correct*100)\n",
        "    scheduler.step()\n",
        "\n",
        "\n",
        "def test_loop(dataloader, model, loss_fn):\n",
        "    model.eval()\n",
        "    size = len(dataloader.dataset)\n",
        "    num_batches = len(dataloader)\n",
        "    test_loss, correct = 0, 0\n",
        "    \n",
        "    with torch.no_grad():\n",
        "        for X, y in dataloader:\n",
        "            pred = model(X.to(device))\n",
        "            test_loss += loss_fn(pred, y.to(device)).item()\n",
        "            correct += (pred.argmax(1) == y.to(device)).type(torch.float).sum().item()\n",
        "\n",
        "    test_loss /= num_batches\n",
        "    correct /= size\n",
        "    print(f\"Test Error: \\n Accuracy: {(100*correct):>0.1f}%, Avg loss: {test_loss:>8f} \\n\")\n",
        "    val_acc.append(100*correct)\n",
        "    return correct\n",
        "\n"
      ]
    },
    {
      "cell_type": "code",
      "execution_count": 78,
      "metadata": {
        "colab": {
          "base_uri": "https://localhost:8080/"
        },
        "id": "3hDJho0WArVq",
        "outputId": "6d477e6a-6bea-4213-946e-772a43733e7f"
      },
      "outputs": [
        {
          "output_type": "stream",
          "name": "stdout",
          "text": [
            "Using cuda:0 device\n"
          ]
        }
      ],
      "source": [
        "\n",
        "print(\"Using {} device\".format(device))\n",
        "\n",
        "model = mobilenet().to(device)\n",
        "#model.load_state_dict(torch.load('./fixmodel3.pt'))\n",
        "\n",
        "\n",
        "loss_fn = nn.CrossEntropyLoss()\n",
        "optimizer = optim.AdamW(model.parameters(), lr=0.001)\n",
        "scheduler = optim.lr_scheduler.OneCycleLR(optimizer, max_lr=0.01,total_steps=args['epochs'],steps_per_epoch=len(train_loader), epochs=args['epochs'])\n",
        "lrs = []\n",
        "train_acc=[]\n",
        "val_acc =[]"
      ]
    },
    {
      "cell_type": "code",
      "execution_count": 79,
      "metadata": {
        "colab": {
          "base_uri": "https://localhost:8080/"
        },
        "id": "HGvkb-5aArVq",
        "outputId": "04487756-1c73-4b19-f298-3739fe15afae"
      },
      "outputs": [
        {
          "output_type": "stream",
          "name": "stdout",
          "text": [
            "----------------------------------------------------------------\n",
            "        Layer (type)               Output Shape         Param #\n",
            "================================================================\n",
            "            Conv2d-1           [-1, 32, 32, 32]             864\n",
            "       BatchNorm2d-2           [-1, 32, 32, 32]              64\n",
            "              Mish-3           [-1, 32, 32, 32]               0\n",
            "       BasicConv2d-4           [-1, 32, 32, 32]               0\n",
            "            Conv2d-5           [-1, 32, 32, 32]             288\n",
            "       BatchNorm2d-6           [-1, 32, 32, 32]              64\n",
            "              Mish-7           [-1, 32, 32, 32]               0\n",
            "            Conv2d-8           [-1, 32, 32, 32]           1,056\n",
            "       BatchNorm2d-9           [-1, 32, 32, 32]              64\n",
            "             Mish-10           [-1, 32, 32, 32]               0\n",
            "DepthSeperabelConv2d-11           [-1, 32, 32, 32]               0\n",
            "           Conv2d-12           [-1, 32, 32, 32]             288\n",
            "      BatchNorm2d-13           [-1, 32, 32, 32]              64\n",
            "             Mish-14           [-1, 32, 32, 32]               0\n",
            "           Conv2d-15           [-1, 32, 32, 32]           1,056\n",
            "      BatchNorm2d-16           [-1, 32, 32, 32]              64\n",
            "             Mish-17           [-1, 32, 32, 32]               0\n",
            "DepthSeperabelConv2d-18           [-1, 32, 32, 32]               0\n",
            "           Conv2d-19           [-1, 32, 32, 32]             288\n",
            "      BatchNorm2d-20           [-1, 32, 32, 32]              64\n",
            "             Mish-21           [-1, 32, 32, 32]               0\n",
            "           Conv2d-22           [-1, 32, 32, 32]           1,056\n",
            "      BatchNorm2d-23           [-1, 32, 32, 32]              64\n",
            "             Mish-24           [-1, 32, 32, 32]               0\n",
            "DepthSeperabelConv2d-25           [-1, 32, 32, 32]               0\n",
            "           Conv2d-26           [-1, 32, 32, 32]             288\n",
            "      BatchNorm2d-27           [-1, 32, 32, 32]              64\n",
            "             Mish-28           [-1, 32, 32, 32]               0\n",
            "           Conv2d-29           [-1, 32, 32, 32]           1,056\n",
            "      BatchNorm2d-30           [-1, 32, 32, 32]              64\n",
            "             Mish-31           [-1, 32, 32, 32]               0\n",
            "DepthSeperabelConv2d-32           [-1, 32, 32, 32]               0\n",
            "           Conv2d-33           [-1, 32, 32, 32]             288\n",
            "      BatchNorm2d-34           [-1, 32, 32, 32]              64\n",
            "             Mish-35           [-1, 32, 32, 32]               0\n",
            "           Conv2d-36           [-1, 64, 32, 32]           2,112\n",
            "      BatchNorm2d-37           [-1, 64, 32, 32]             128\n",
            "             Mish-38           [-1, 64, 32, 32]               0\n",
            "DepthSeperabelConv2d-39           [-1, 64, 32, 32]               0\n",
            "           Conv2d-40           [-1, 64, 32, 32]             576\n",
            "      BatchNorm2d-41           [-1, 64, 32, 32]             128\n",
            "             Mish-42           [-1, 64, 32, 32]               0\n",
            "           Conv2d-43           [-1, 64, 32, 32]           4,160\n",
            "      BatchNorm2d-44           [-1, 64, 32, 32]             128\n",
            "             Mish-45           [-1, 64, 32, 32]               0\n",
            "DepthSeperabelConv2d-46           [-1, 64, 32, 32]               0\n",
            "           Conv2d-47           [-1, 64, 32, 32]             576\n",
            "      BatchNorm2d-48           [-1, 64, 32, 32]             128\n",
            "             Mish-49           [-1, 64, 32, 32]               0\n",
            "           Conv2d-50           [-1, 64, 32, 32]           4,160\n",
            "      BatchNorm2d-51           [-1, 64, 32, 32]             128\n",
            "             Mish-52           [-1, 64, 32, 32]               0\n",
            "DepthSeperabelConv2d-53           [-1, 64, 32, 32]               0\n",
            "           Conv2d-54           [-1, 64, 32, 32]             576\n",
            "      BatchNorm2d-55           [-1, 64, 32, 32]             128\n",
            "             Mish-56           [-1, 64, 32, 32]               0\n",
            "           Conv2d-57           [-1, 64, 32, 32]           4,160\n",
            "      BatchNorm2d-58           [-1, 64, 32, 32]             128\n",
            "             Mish-59           [-1, 64, 32, 32]               0\n",
            "DepthSeperabelConv2d-60           [-1, 64, 32, 32]               0\n",
            "           Conv2d-61           [-1, 64, 32, 32]             576\n",
            "      BatchNorm2d-62           [-1, 64, 32, 32]             128\n",
            "             Mish-63           [-1, 64, 32, 32]               0\n",
            "           Conv2d-64           [-1, 64, 32, 32]           4,160\n",
            "      BatchNorm2d-65           [-1, 64, 32, 32]             128\n",
            "             Mish-66           [-1, 64, 32, 32]               0\n",
            "DepthSeperabelConv2d-67           [-1, 64, 32, 32]               0\n",
            "           Conv2d-68           [-1, 64, 32, 32]             576\n",
            "      BatchNorm2d-69           [-1, 64, 32, 32]             128\n",
            "             Mish-70           [-1, 64, 32, 32]               0\n",
            "           Conv2d-71           [-1, 64, 32, 32]           4,160\n",
            "      BatchNorm2d-72           [-1, 64, 32, 32]             128\n",
            "             Mish-73           [-1, 64, 32, 32]               0\n",
            "DepthSeperabelConv2d-74           [-1, 64, 32, 32]               0\n",
            "           Conv2d-75           [-1, 64, 32, 32]             576\n",
            "      BatchNorm2d-76           [-1, 64, 32, 32]             128\n",
            "             Mish-77           [-1, 64, 32, 32]               0\n",
            "           Conv2d-78          [-1, 128, 32, 32]           8,320\n",
            "      BatchNorm2d-79          [-1, 128, 32, 32]             256\n",
            "             Mish-80          [-1, 128, 32, 32]               0\n",
            "DepthSeperabelConv2d-81          [-1, 128, 32, 32]               0\n",
            "AdaptiveAvgPool2d-82            [-1, 128, 1, 1]               0\n",
            "           Linear-83                    [-1, 8]           1,024\n",
            "             Mish-84                    [-1, 8]               0\n",
            "           Linear-85                  [-1, 128]           1,024\n",
            "          Sigmoid-86                  [-1, 128]               0\n",
            "           Conv2d-87          [-1, 128, 32, 32]           1,152\n",
            "      BatchNorm2d-88          [-1, 128, 32, 32]             256\n",
            "             Mish-89          [-1, 128, 32, 32]               0\n",
            "           Conv2d-90          [-1, 128, 32, 32]          16,512\n",
            "      BatchNorm2d-91          [-1, 128, 32, 32]             256\n",
            "             Mish-92          [-1, 128, 32, 32]               0\n",
            "DepthSeperabelConv2d-93          [-1, 128, 32, 32]               0\n",
            "AdaptiveAvgPool2d-94            [-1, 128, 1, 1]               0\n",
            "           Linear-95                    [-1, 8]           1,024\n",
            "             Mish-96                    [-1, 8]               0\n",
            "           Linear-97                  [-1, 128]           1,024\n",
            "          Sigmoid-98                  [-1, 128]               0\n",
            "           Conv2d-99          [-1, 128, 32, 32]           1,152\n",
            "     BatchNorm2d-100          [-1, 128, 32, 32]             256\n",
            "            Mish-101          [-1, 128, 32, 32]               0\n",
            "          Conv2d-102          [-1, 128, 32, 32]          16,512\n",
            "     BatchNorm2d-103          [-1, 128, 32, 32]             256\n",
            "            Mish-104          [-1, 128, 32, 32]               0\n",
            "DepthSeperabelConv2d-105          [-1, 128, 32, 32]               0\n",
            "AdaptiveAvgPool2d-106            [-1, 128, 1, 1]               0\n",
            "          Linear-107                    [-1, 8]           1,024\n",
            "            Mish-108                    [-1, 8]               0\n",
            "          Linear-109                  [-1, 128]           1,024\n",
            "         Sigmoid-110                  [-1, 128]               0\n",
            "AdaptiveAvgPool2d-111            [-1, 128, 1, 1]               0\n",
            "         Dropout-112                  [-1, 128]               0\n",
            "          Linear-113                  [-1, 100]          12,900\n",
            "================================================================\n",
            "Total params: 99,044\n",
            "Trainable params: 99,044\n",
            "Non-trainable params: 0\n",
            "----------------------------------------------------------------\n",
            "Input size (MB): 0.01\n",
            "Forward/backward pass size (MB): 47.76\n",
            "Params size (MB): 0.38\n",
            "Estimated Total Size (MB): 48.15\n",
            "----------------------------------------------------------------\n"
          ]
        }
      ],
      "source": [
        "pytorch_total_params = sum(p.numel() for p in model.parameters())\n",
        "pytorch_total_params\n",
        "\n",
        "summary(model, (3, 32, 32))"
      ]
    },
    {
      "cell_type": "code",
      "execution_count": null,
      "metadata": {
        "colab": {
          "base_uri": "https://localhost:8080/"
        },
        "id": "y6ulXTXWArVr",
        "outputId": "c93b2d7d-2273-4d28-9acc-8434bbbdc7b0"
      },
      "outputs": [
        {
          "metadata": {
            "tags": null
          },
          "name": "stdout",
          "output_type": "stream",
          "text": [
            "Epoch 1\n",
            "-------------------------------\n"
          ]
        },
        {
          "metadata": {
            "tags": null
          },
          "name": "stderr",
          "output_type": "stream",
          "text": [
            "704it [01:14,  9.49it/s]\n"
          ]
        },
        {
          "metadata": {
            "tags": null
          },
          "name": "stdout",
          "output_type": "stream",
          "text": [
            "lr :0.0003999999999999993\n",
            "Train Error: \n",
            " Accuracy: 4.6%, Avg loss: 4.095738 \n",
            "\n",
            "Test Error: \n",
            " Accuracy: 9.1%, Avg loss: 3.910907 \n",
            "\n",
            "---------------------Model saved base correct:0.0906\n",
            "Epoch 2\n",
            "-------------------------------\n"
          ]
        },
        {
          "metadata": {
            "tags": null
          },
          "name": "stderr",
          "output_type": "stream",
          "text": [
            "704it [01:03, 11.16it/s]\n"
          ]
        },
        {
          "metadata": {
            "tags": null
          },
          "name": "stdout",
          "output_type": "stream",
          "text": [
            "lr :0.0004021898344502388\n",
            "Train Error: \n",
            " Accuracy: 9.5%, Avg loss: 3.585655 \n",
            "\n",
            "Test Error: \n",
            " Accuracy: 11.7%, Avg loss: 3.644189 \n",
            "\n",
            "---------------------Model saved base correct:0.1172\n",
            "Epoch 3\n",
            "-------------------------------\n"
          ]
        },
        {
          "metadata": {
            "tags": null
          },
          "name": "stderr",
          "output_type": "stream",
          "text": [
            "704it [01:01, 11.37it/s]\n"
          ]
        },
        {
          "metadata": {
            "tags": null
          },
          "name": "stdout",
          "output_type": "stream",
          "text": [
            "lr :0.0004087573397280747\n",
            "Train Error: \n",
            " Accuracy: 12.4%, Avg loss: 3.487224 \n",
            "\n",
            "Test Error: \n",
            " Accuracy: 14.1%, Avg loss: 3.530820 \n",
            "\n",
            "---------------------Model saved base correct:0.1414\n",
            "Epoch 4\n",
            "-------------------------------\n"
          ]
        },
        {
          "metadata": {
            "tags": null
          },
          "name": "stderr",
          "output_type": "stream",
          "text": [
            "704it [01:03, 11.13it/s]\n"
          ]
        },
        {
          "metadata": {
            "tags": null
          },
          "name": "stdout",
          "output_type": "stream",
          "text": [
            "lr :0.00041969652343796376\n",
            "Train Error: \n",
            " Accuracy: 14.3%, Avg loss: 4.056383 \n",
            "\n",
            "Test Error: \n",
            " Accuracy: 16.0%, Avg loss: 3.438259 \n",
            "\n",
            "---------------------Model saved base correct:0.1598\n",
            "Epoch 5\n",
            "-------------------------------\n"
          ]
        },
        {
          "metadata": {
            "tags": null
          },
          "name": "stderr",
          "output_type": "stream",
          "text": [
            "704it [01:01, 11.37it/s]\n"
          ]
        },
        {
          "metadata": {
            "tags": null
          },
          "name": "stdout",
          "output_type": "stream",
          "text": [
            "lr :0.0004349974043293403\n",
            "Train Error: \n",
            " Accuracy: 16.0%, Avg loss: 3.223755 \n",
            "\n",
            "Test Error: \n",
            " Accuracy: 18.3%, Avg loss: 3.312724 \n",
            "\n",
            "---------------------Model saved base correct:0.1832\n",
            "Epoch 6\n",
            "-------------------------------\n"
          ]
        },
        {
          "metadata": {
            "tags": null
          },
          "name": "stderr",
          "output_type": "stream",
          "text": [
            "704it [01:01, 11.36it/s]\n"
          ]
        },
        {
          "metadata": {
            "tags": null
          },
          "name": "stdout",
          "output_type": "stream",
          "text": [
            "lr :0.0004546460214038348\n",
            "Train Error: \n",
            " Accuracy: 17.5%, Avg loss: 3.589631 \n",
            "\n",
            "Test Error: \n",
            " Accuracy: 19.4%, Avg loss: 3.233406 \n",
            "\n",
            "---------------------Model saved base correct:0.1944\n",
            "Epoch 7\n",
            "-------------------------------\n"
          ]
        },
        {
          "metadata": {
            "tags": null
          },
          "name": "stderr",
          "output_type": "stream",
          "text": [
            "704it [01:03, 11.11it/s]\n"
          ]
        },
        {
          "metadata": {
            "tags": null
          },
          "name": "stdout",
          "output_type": "stream",
          "text": [
            "lr :0.0004786244466537092\n",
            "Train Error: \n",
            " Accuracy: 19.4%, Avg loss: 3.319511 \n",
            "\n",
            "Test Error: \n",
            " Accuracy: 22.3%, Avg loss: 3.152728 \n",
            "\n",
            "---------------------Model saved base correct:0.2226\n",
            "Epoch 8\n",
            "-------------------------------\n"
          ]
        },
        {
          "metadata": {
            "tags": null
          },
          "name": "stderr",
          "output_type": "stream",
          "text": [
            "704it [01:01, 11.40it/s]\n"
          ]
        },
        {
          "metadata": {
            "tags": null
          },
          "name": "stdout",
          "output_type": "stream",
          "text": [
            "lr :0.0005069108014199349\n",
            "Train Error: \n",
            " Accuracy: 21.2%, Avg loss: 3.624138 \n",
            "\n",
            "Test Error: \n",
            " Accuracy: 22.5%, Avg loss: 3.094852 \n",
            "\n",
            "---------------------Model saved base correct:0.2254\n",
            "Epoch 9\n",
            "-------------------------------\n"
          ]
        },
        {
          "metadata": {
            "tags": null
          },
          "name": "stderr",
          "output_type": "stream",
          "text": [
            "704it [01:01, 11.41it/s]\n"
          ]
        },
        {
          "metadata": {
            "tags": null
          },
          "name": "stdout",
          "output_type": "stream",
          "text": [
            "lr :0.00053947927635495\n",
            "Train Error: \n",
            " Accuracy: 22.6%, Avg loss: 3.078033 \n",
            "\n",
            "Test Error: \n",
            " Accuracy: 24.9%, Avg loss: 2.938546 \n",
            "\n",
            "---------------------Model saved base correct:0.2494\n",
            "Epoch 10\n",
            "-------------------------------\n"
          ]
        },
        {
          "metadata": {
            "tags": null
          },
          "name": "stderr",
          "output_type": "stream",
          "text": [
            "704it [01:02, 11.24it/s]\n"
          ]
        },
        {
          "metadata": {
            "tags": null
          },
          "name": "stdout",
          "output_type": "stream",
          "text": [
            "lr :0.0005763001549719208\n",
            "Train Error: \n",
            " Accuracy: 24.4%, Avg loss: 2.883003 \n",
            "\n",
            "Test Error: \n",
            " Accuracy: 27.3%, Avg loss: 2.857484 \n",
            "\n",
            "---------------------Model saved base correct:0.2728\n",
            "Epoch 11\n",
            "-------------------------------\n"
          ]
        },
        {
          "metadata": {
            "tags": null
          },
          "name": "stderr",
          "output_type": "stream",
          "text": [
            "704it [01:04, 10.92it/s]\n"
          ]
        },
        {
          "metadata": {
            "tags": null
          },
          "name": "stdout",
          "output_type": "stream",
          "text": [
            "lr :0.0006173398407589813\n",
            "Train Error: \n",
            " Accuracy: 26.0%, Avg loss: 3.272231 \n",
            "\n",
            "Test Error: \n",
            " Accuracy: 27.5%, Avg loss: 2.819534 \n",
            "\n",
            "---------------------Model saved base correct:0.2752\n",
            "Epoch 12\n",
            "-------------------------------\n"
          ]
        },
        {
          "metadata": {
            "tags": null
          },
          "name": "stderr",
          "output_type": "stream",
          "text": [
            "704it [01:02, 11.35it/s]\n"
          ]
        },
        {
          "metadata": {
            "tags": null
          },
          "name": "stdout",
          "output_type": "stream",
          "text": [
            "lr :0.0006625608878337262\n",
            "Train Error: \n",
            " Accuracy: 26.9%, Avg loss: 2.910746 \n",
            "\n",
            "Test Error: \n",
            " Accuracy: 29.5%, Avg loss: 2.767419 \n",
            "\n",
            "---------------------Model saved base correct:0.2948\n",
            "Epoch 13\n",
            "-------------------------------\n"
          ]
        },
        {
          "metadata": {
            "tags": null
          },
          "name": "stderr",
          "output_type": "stream",
          "text": [
            "704it [01:02, 11.30it/s]\n"
          ]
        },
        {
          "metadata": {
            "tags": null
          },
          "name": "stdout",
          "output_type": "stream",
          "text": [
            "lr :0.0007119220351100072\n",
            "Train Error: \n",
            " Accuracy: 28.4%, Avg loss: 3.552192 \n",
            "\n",
            "Test Error: \n",
            " Accuracy: 30.3%, Avg loss: 2.733659 \n",
            "\n",
            "---------------------Model saved base correct:0.3026\n",
            "Epoch 14\n",
            "-------------------------------\n"
          ]
        },
        {
          "metadata": {
            "tags": null
          },
          "name": "stderr",
          "output_type": "stream",
          "text": [
            "704it [01:02, 11.32it/s]\n"
          ]
        },
        {
          "metadata": {
            "tags": null
          },
          "name": "stdout",
          "output_type": "stream",
          "text": [
            "lr :0.0007653782439458225\n",
            "Train Error: \n",
            " Accuracy: 29.2%, Avg loss: 2.844972 \n",
            "\n",
            "Test Error: \n",
            " Accuracy: 29.8%, Avg loss: 2.684815 \n",
            "\n",
            "Epoch 15\n",
            "-------------------------------\n"
          ]
        },
        {
          "metadata": {
            "tags": null
          },
          "name": "stderr",
          "output_type": "stream",
          "text": [
            "704it [01:04, 10.96it/s]\n"
          ]
        },
        {
          "metadata": {
            "tags": null
          },
          "name": "stdout",
          "output_type": "stream",
          "text": [
            "lr :0.0008228807392379658\n",
            "Train Error: \n",
            " Accuracy: 30.5%, Avg loss: 3.544769 \n",
            "\n",
            "Test Error: \n",
            " Accuracy: 31.8%, Avg loss: 2.626546 \n",
            "\n",
            "---------------------Model saved base correct:0.3176\n",
            "Epoch 16\n",
            "-------------------------------\n"
          ]
        },
        {
          "metadata": {
            "tags": null
          },
          "name": "stderr",
          "output_type": "stream",
          "text": [
            "704it [01:02, 11.35it/s]\n"
          ]
        },
        {
          "metadata": {
            "tags": null
          },
          "name": "stdout",
          "output_type": "stream",
          "text": [
            "lr :0.0008843770539259544\n",
            "Train Error: \n",
            " Accuracy: 31.5%, Avg loss: 2.188840 \n",
            "\n",
            "Test Error: \n",
            " Accuracy: 34.0%, Avg loss: 2.548369 \n",
            "\n",
            "---------------------Model saved base correct:0.3402\n",
            "Epoch 17\n",
            "-------------------------------\n"
          ]
        },
        {
          "metadata": {
            "tags": null
          },
          "name": "stderr",
          "output_type": "stream",
          "text": [
            "704it [01:02, 11.33it/s]\n"
          ]
        },
        {
          "metadata": {
            "tags": null
          },
          "name": "stdout",
          "output_type": "stream",
          "text": [
            "lr :0.0009498110768645929\n",
            "Train Error: \n",
            " Accuracy: 32.7%, Avg loss: 3.238960 \n",
            "\n",
            "Test Error: \n",
            " Accuracy: 34.9%, Avg loss: 2.455141 \n",
            "\n",
            "---------------------Model saved base correct:0.3494\n",
            "Epoch 18\n",
            "-------------------------------\n"
          ]
        },
        {
          "metadata": {
            "tags": null
          },
          "name": "stderr",
          "output_type": "stream",
          "text": [
            "704it [01:02, 11.33it/s]\n"
          ]
        },
        {
          "metadata": {
            "tags": null
          },
          "name": "stdout",
          "output_type": "stream",
          "text": [
            "lr :0.0010191231040215243\n",
            "Train Error: \n",
            " Accuracy: 33.5%, Avg loss: 2.595304 \n",
            "\n",
            "Test Error: \n",
            " Accuracy: 34.7%, Avg loss: 2.472352 \n",
            "\n",
            "Epoch 19\n",
            "-------------------------------\n"
          ]
        },
        {
          "metadata": {
            "tags": null
          },
          "name": "stderr",
          "output_type": "stream",
          "text": [
            "704it [01:03, 11.10it/s]\n"
          ]
        },
        {
          "metadata": {
            "tags": null
          },
          "name": "stdout",
          "output_type": "stream",
          "text": [
            "lr :0.0010922498929530518\n",
            "Train Error: \n",
            " Accuracy: 34.2%, Avg loss: 3.541835 \n",
            "\n",
            "Test Error: \n",
            " Accuracy: 37.4%, Avg loss: 2.412820 \n",
            "\n",
            "---------------------Model saved base correct:0.3736\n",
            "Epoch 20\n",
            "-------------------------------\n"
          ]
        },
        {
          "metadata": {
            "tags": null
          },
          "name": "stderr",
          "output_type": "stream",
          "text": [
            "704it [01:02, 11.34it/s]\n"
          ]
        },
        {
          "metadata": {
            "tags": null
          },
          "name": "stdout",
          "output_type": "stream",
          "text": [
            "lr :0.0011691247205084885\n",
            "Train Error: \n",
            " Accuracy: 35.1%, Avg loss: 1.811927 \n",
            "\n",
            "Test Error: \n",
            " Accuracy: 37.0%, Avg loss: 2.434957 \n",
            "\n",
            "Epoch 21\n",
            "-------------------------------\n"
          ]
        },
        {
          "metadata": {
            "tags": null
          },
          "name": "stderr",
          "output_type": "stream",
          "text": [
            "704it [01:01, 11.42it/s]\n"
          ]
        },
        {
          "metadata": {
            "tags": null
          },
          "name": "stdout",
          "output_type": "stream",
          "text": [
            "lr :0.0012496774437104497\n",
            "Train Error: \n",
            " Accuracy: 35.7%, Avg loss: 1.809179 \n",
            "\n",
            "Test Error: \n",
            " Accuracy: 36.9%, Avg loss: 2.399531 \n",
            "\n",
            "Epoch 22\n",
            "-------------------------------\n"
          ]
        },
        {
          "metadata": {
            "tags": null
          },
          "name": "stderr",
          "output_type": "stream",
          "text": [
            "704it [01:01, 11.42it/s]\n"
          ]
        },
        {
          "metadata": {
            "tags": null
          },
          "name": "stdout",
          "output_type": "stream",
          "text": [
            "lr :0.0013338345637554597\n",
            "Train Error: \n",
            " Accuracy: 36.5%, Avg loss: 2.523930 \n",
            "\n",
            "Test Error: \n",
            " Accuracy: 38.6%, Avg loss: 2.329693 \n",
            "\n",
            "---------------------Model saved base correct:0.3856\n",
            "Epoch 23\n",
            "-------------------------------\n"
          ]
        },
        {
          "metadata": {
            "tags": null
          },
          "name": "stderr",
          "output_type": "stream",
          "text": [
            "704it [01:03, 11.03it/s]\n"
          ]
        },
        {
          "metadata": {
            "tags": null
          },
          "name": "stdout",
          "output_type": "stream",
          "text": [
            "lr :0.0014215192930765591\n",
            "Train Error: \n",
            " Accuracy: 37.5%, Avg loss: 2.187305 \n",
            "\n",
            "Test Error: \n",
            " Accuracy: 36.4%, Avg loss: 2.428651 \n",
            "\n",
            "Epoch 24\n",
            "-------------------------------\n"
          ]
        },
        {
          "metadata": {
            "tags": null
          },
          "name": "stderr",
          "output_type": "stream",
          "text": [
            "704it [01:02, 11.35it/s]\n"
          ]
        },
        {
          "metadata": {
            "tags": null
          },
          "name": "stdout",
          "output_type": "stream",
          "text": [
            "lr :0.001512651625406652\n",
            "Train Error: \n",
            " Accuracy: 38.2%, Avg loss: 1.927750 \n",
            "\n",
            "Test Error: \n",
            " Accuracy: 40.2%, Avg loss: 2.234898 \n",
            "\n",
            "---------------------Model saved base correct:0.4016\n",
            "Epoch 25\n",
            "-------------------------------\n"
          ]
        },
        {
          "metadata": {
            "tags": null
          },
          "name": "stderr",
          "output_type": "stream",
          "text": [
            "704it [01:02, 11.18it/s]\n"
          ]
        },
        {
          "metadata": {
            "tags": null
          },
          "name": "stdout",
          "output_type": "stream",
          "text": [
            "lr :0.001607148408778715\n",
            "Train Error: \n",
            " Accuracy: 38.8%, Avg loss: 1.804088 \n",
            "\n",
            "Test Error: \n",
            " Accuracy: 39.7%, Avg loss: 2.298870 \n",
            "\n",
            "Epoch 26\n",
            "-------------------------------\n"
          ]
        },
        {
          "metadata": {
            "tags": null
          },
          "name": "stderr",
          "output_type": "stream",
          "text": [
            "704it [01:02, 11.29it/s]\n"
          ]
        },
        {
          "metadata": {
            "tags": null
          },
          "name": "stdout",
          "output_type": "stream",
          "text": [
            "lr :0.0017049234213962153\n",
            "Train Error: \n",
            " Accuracy: 39.7%, Avg loss: 2.503354 \n",
            "\n",
            "Test Error: \n",
            " Accuracy: 40.0%, Avg loss: 2.276051 \n",
            "\n",
            "Epoch 27\n",
            "-------------------------------\n"
          ]
        },
        {
          "metadata": {
            "tags": null
          },
          "name": "stderr",
          "output_type": "stream",
          "text": [
            "704it [01:04, 11.00it/s]\n"
          ]
        },
        {
          "metadata": {
            "tags": null
          },
          "name": "stdout",
          "output_type": "stream",
          "text": [
            "lr :0.0018058874503045722\n",
            "Train Error: \n",
            " Accuracy: 40.5%, Avg loss: 2.976006 \n",
            "\n",
            "Test Error: \n",
            " Accuracy: 38.9%, Avg loss: 2.319401 \n",
            "\n",
            "Epoch 28\n",
            "-------------------------------\n"
          ]
        },
        {
          "metadata": {
            "tags": null
          },
          "name": "stderr",
          "output_type": "stream",
          "text": [
            "704it [01:02, 11.33it/s]\n"
          ]
        },
        {
          "metadata": {
            "tags": null
          },
          "name": "stdout",
          "output_type": "stream",
          "text": [
            "lr :0.0019099483727918094\n",
            "Train Error: \n",
            " Accuracy: 41.4%, Avg loss: 2.287463 \n",
            "\n",
            "Test Error: \n",
            " Accuracy: 43.2%, Avg loss: 2.127308 \n",
            "\n",
            "---------------------Model saved base correct:0.4324\n",
            "Epoch 29\n",
            "-------------------------------\n"
          ]
        },
        {
          "metadata": {
            "tags": null
          },
          "name": "stderr",
          "output_type": "stream",
          "text": [
            "704it [01:02, 11.31it/s]\n"
          ]
        },
        {
          "metadata": {
            "tags": null
          },
          "name": "stdout",
          "output_type": "stream",
          "text": [
            "lr :0.0020170112404441828\n",
            "Train Error: \n",
            " Accuracy: 41.8%, Avg loss: 2.449372 \n",
            "\n",
            "Test Error: \n",
            " Accuracy: 43.2%, Avg loss: 2.130530 \n",
            "\n",
            "Epoch 30\n",
            "-------------------------------\n"
          ]
        },
        {
          "metadata": {
            "tags": null
          },
          "name": "stderr",
          "output_type": "stream",
          "text": [
            "704it [01:02, 11.22it/s]\n"
          ]
        },
        {
          "metadata": {
            "tags": null
          },
          "name": "stdout",
          "output_type": "stream",
          "text": [
            "lr :0.002126978365780057\n",
            "Train Error: \n",
            " Accuracy: 42.4%, Avg loss: 2.322583 \n",
            "\n",
            "Test Error: \n",
            " Accuracy: 42.5%, Avg loss: 2.155742 \n",
            "\n",
            "Epoch 31\n",
            "-------------------------------\n"
          ]
        },
        {
          "metadata": {
            "tags": null
          },
          "name": "stderr",
          "output_type": "stream",
          "text": [
            "704it [01:03, 11.11it/s]\n"
          ]
        },
        {
          "metadata": {
            "tags": null
          },
          "name": "stdout",
          "output_type": "stream",
          "text": [
            "lr :0.002239749411382992\n",
            "Train Error: \n",
            " Accuracy: 43.0%, Avg loss: 2.429016 \n",
            "\n",
            "Test Error: \n",
            " Accuracy: 43.1%, Avg loss: 2.125388 \n",
            "\n",
            "Epoch 32\n",
            "-------------------------------\n"
          ]
        },
        {
          "metadata": {
            "tags": null
          },
          "name": "stderr",
          "output_type": "stream",
          "text": [
            "704it [01:04, 10.95it/s]\n"
          ]
        },
        {
          "metadata": {
            "tags": null
          },
          "name": "stdout",
          "output_type": "stream",
          "text": [
            "lr :0.002355221481452718\n",
            "Train Error: \n",
            " Accuracy: 43.7%, Avg loss: 2.815624 \n",
            "\n",
            "Test Error: \n",
            " Accuracy: 44.3%, Avg loss: 2.088048 \n",
            "\n",
            "---------------------Model saved base correct:0.4434\n",
            "Epoch 33\n",
            "-------------------------------\n"
          ]
        },
        {
          "metadata": {
            "tags": null
          },
          "name": "stderr",
          "output_type": "stream",
          "text": [
            "704it [01:03, 11.13it/s]\n"
          ]
        },
        {
          "metadata": {
            "tags": null
          },
          "name": "stdout",
          "output_type": "stream",
          "text": [
            "lr :0.0024732892156904525\n",
            "Train Error: \n",
            " Accuracy: 44.3%, Avg loss: 2.185326 \n",
            "\n",
            "Test Error: \n",
            " Accuracy: 44.7%, Avg loss: 2.057650 \n",
            "\n",
            "---------------------Model saved base correct:0.4472\n",
            "Epoch 34\n",
            "-------------------------------\n"
          ]
        },
        {
          "metadata": {
            "tags": null
          },
          "name": "stderr",
          "output_type": "stream",
          "text": [
            "704it [01:03, 11.10it/s]\n"
          ]
        },
        {
          "metadata": {
            "tags": null
          },
          "name": "stdout",
          "output_type": "stream",
          "text": [
            "lr :0.002593844885432901\n",
            "Train Error: \n",
            " Accuracy: 44.6%, Avg loss: 3.903313 \n",
            "\n",
            "Test Error: \n",
            " Accuracy: 46.6%, Avg loss: 1.963317 \n",
            "\n",
            "---------------------Model saved base correct:0.4656\n",
            "Epoch 35\n",
            "-------------------------------\n"
          ]
        },
        {
          "metadata": {
            "tags": null
          },
          "name": "stderr",
          "output_type": "stream",
          "text": [
            "704it [01:02, 11.29it/s]\n"
          ]
        },
        {
          "metadata": {
            "tags": null
          },
          "name": "stdout",
          "output_type": "stream",
          "text": [
            "lr :0.0027167784919472472\n",
            "Train Error: \n",
            " Accuracy: 45.0%, Avg loss: 2.932360 \n",
            "\n",
            "Test Error: \n",
            " Accuracy: 43.3%, Avg loss: 2.098901 \n",
            "\n",
            "Epoch 36\n",
            "-------------------------------\n"
          ]
        },
        {
          "metadata": {
            "tags": null
          },
          "name": "stderr",
          "output_type": "stream",
          "text": [
            "704it [01:03, 11.05it/s]\n"
          ]
        },
        {
          "metadata": {
            "tags": null
          },
          "name": "stdout",
          "output_type": "stream",
          "text": [
            "lr :0.002841977866797388\n",
            "Train Error: \n",
            " Accuracy: 45.9%, Avg loss: 2.308318 \n",
            "\n",
            "Test Error: \n",
            " Accuracy: 43.3%, Avg loss: 2.112888 \n",
            "\n",
            "Epoch 37\n",
            "-------------------------------\n"
          ]
        },
        {
          "metadata": {
            "tags": null
          },
          "name": "stderr",
          "output_type": "stream",
          "text": [
            "704it [01:02, 11.32it/s]\n"
          ]
        },
        {
          "metadata": {
            "tags": null
          },
          "name": "stdout",
          "output_type": "stream",
          "text": [
            "lr :0.0029693287741899103\n",
            "Train Error: \n",
            " Accuracy: 46.4%, Avg loss: 1.890202 \n",
            "\n",
            "Test Error: \n",
            " Accuracy: 46.7%, Avg loss: 1.944539 \n",
            "\n",
            "---------------------Model saved base correct:0.4674\n",
            "Epoch 38\n",
            "-------------------------------\n"
          ]
        },
        {
          "metadata": {
            "tags": null
          },
          "name": "stderr",
          "output_type": "stream",
          "text": [
            "704it [01:02, 11.30it/s]\n"
          ]
        },
        {
          "metadata": {
            "tags": null
          },
          "name": "stdout",
          "output_type": "stream",
          "text": [
            "lr :0.003098715015206366\n",
            "Train Error: \n",
            " Accuracy: 46.7%, Avg loss: 1.822033 \n",
            "\n",
            "Test Error: \n",
            " Accuracy: 46.1%, Avg loss: 2.050634 \n",
            "\n",
            "Epoch 39\n",
            "-------------------------------\n"
          ]
        },
        {
          "metadata": {
            "tags": null
          },
          "name": "stderr",
          "output_type": "stream",
          "text": [
            "704it [01:02, 11.30it/s]\n"
          ]
        },
        {
          "metadata": {
            "tags": null
          },
          "name": "stdout",
          "output_type": "stream",
          "text": [
            "lr :0.003230018533826766\n",
            "Train Error: \n",
            " Accuracy: 47.2%, Avg loss: 2.937435 \n",
            "\n",
            "Test Error: \n",
            " Accuracy: 47.5%, Avg loss: 1.965567 \n",
            "\n",
            "---------------------Model saved base correct:0.4748\n",
            "Epoch 40\n",
            "-------------------------------\n"
          ]
        },
        {
          "metadata": {
            "tags": null
          },
          "name": "stderr",
          "output_type": "stream",
          "text": [
            "704it [01:04, 10.96it/s]\n"
          ]
        },
        {
          "metadata": {
            "tags": null
          },
          "name": "stdout",
          "output_type": "stream",
          "text": [
            "lr :0.003363119524647569\n",
            "Train Error: \n",
            " Accuracy: 47.6%, Avg loss: 2.187515 \n",
            "\n",
            "Test Error: \n",
            " Accuracy: 46.6%, Avg loss: 2.000754 \n",
            "\n",
            "Epoch 41\n",
            "-------------------------------\n"
          ]
        },
        {
          "metadata": {
            "tags": null
          },
          "name": "stderr",
          "output_type": "stream",
          "text": [
            "704it [01:01, 11.36it/s]\n"
          ]
        },
        {
          "metadata": {
            "tags": null
          },
          "name": "stdout",
          "output_type": "stream",
          "text": [
            "lr :0.0034978965421958285\n",
            "Train Error: \n",
            " Accuracy: 48.0%, Avg loss: 1.596477 \n",
            "\n",
            "Test Error: \n",
            " Accuracy: 45.8%, Avg loss: 2.011294 \n",
            "\n",
            "Epoch 42\n",
            "-------------------------------\n"
          ]
        },
        {
          "metadata": {
            "tags": null
          },
          "name": "stderr",
          "output_type": "stream",
          "text": [
            "704it [01:02, 11.32it/s]\n"
          ]
        },
        {
          "metadata": {
            "tags": null
          },
          "name": "stdout",
          "output_type": "stream",
          "text": [
            "lr :0.0036342266117398263\n",
            "Train Error: \n",
            " Accuracy: 48.2%, Avg loss: 2.518047 \n",
            "\n",
            "Test Error: \n",
            " Accuracy: 44.4%, Avg loss: 2.091858 \n",
            "\n",
            "Epoch 43\n",
            "-------------------------------\n"
          ]
        },
        {
          "metadata": {
            "tags": null
          },
          "name": "stderr",
          "output_type": "stream",
          "text": [
            "704it [01:01, 11.36it/s]\n"
          ]
        },
        {
          "metadata": {
            "tags": null
          },
          "name": "stdout",
          "output_type": "stream",
          "text": [
            "lr :0.0037719853414950252\n",
            "Train Error: \n",
            " Accuracy: 49.0%, Avg loss: 1.826818 \n",
            "\n",
            "Test Error: \n",
            " Accuracy: 46.9%, Avg loss: 1.997890 \n",
            "\n",
            "Epoch 44\n",
            "-------------------------------\n"
          ]
        },
        {
          "metadata": {
            "tags": null
          },
          "name": "stderr",
          "output_type": "stream",
          "text": [
            "704it [01:04, 10.93it/s]\n"
          ]
        },
        {
          "metadata": {
            "tags": null
          },
          "name": "stdout",
          "output_type": "stream",
          "text": [
            "lr :0.003911047036122991\n",
            "Train Error: \n",
            " Accuracy: 48.9%, Avg loss: 3.127624 \n",
            "\n",
            "Test Error: \n",
            " Accuracy: 45.5%, Avg loss: 2.021687 \n",
            "\n",
            "Epoch 45\n",
            "-------------------------------\n"
          ]
        },
        {
          "metadata": {
            "tags": null
          },
          "name": "stderr",
          "output_type": "stream",
          "text": [
            "704it [01:02, 11.33it/s]\n"
          ]
        },
        {
          "metadata": {
            "tags": null
          },
          "name": "stdout",
          "output_type": "stream",
          "text": [
            "lr :0.004051284811419722\n",
            "Train Error: \n",
            " Accuracy: 49.4%, Avg loss: 2.627797 \n",
            "\n",
            "Test Error: \n",
            " Accuracy: 48.8%, Avg loss: 1.908391 \n",
            "\n",
            "---------------------Model saved base correct:0.4878\n",
            "Epoch 46\n",
            "-------------------------------\n"
          ]
        },
        {
          "metadata": {
            "tags": null
          },
          "name": "stderr",
          "output_type": "stream",
          "text": [
            "704it [01:01, 11.40it/s]\n"
          ]
        },
        {
          "metadata": {
            "tags": null
          },
          "name": "stdout",
          "output_type": "stream",
          "text": [
            "lr :0.004192570710088732\n",
            "Train Error: \n",
            " Accuracy: 50.0%, Avg loss: 1.745006 \n",
            "\n",
            "Test Error: \n",
            " Accuracy: 47.5%, Avg loss: 1.944494 \n",
            "\n",
            "Epoch 47\n",
            "-------------------------------\n"
          ]
        },
        {
          "metadata": {
            "tags": null
          },
          "name": "stderr",
          "output_type": "stream",
          "text": [
            "704it [01:01, 11.41it/s]\n"
          ]
        },
        {
          "metadata": {
            "tags": null
          },
          "name": "stdout",
          "output_type": "stream",
          "text": [
            "lr :0.004334775818493251\n",
            "Train Error: \n",
            " Accuracy: 50.1%, Avg loss: 2.017934 \n",
            "\n",
            "Test Error: \n",
            " Accuracy: 48.4%, Avg loss: 1.904966 \n",
            "\n",
            "Epoch 48\n",
            "-------------------------------\n"
          ]
        },
        {
          "metadata": {
            "tags": null
          },
          "name": "stderr",
          "output_type": "stream",
          "text": [
            "704it [01:01, 11.43it/s]\n"
          ]
        },
        {
          "metadata": {
            "tags": null
          },
          "name": "stdout",
          "output_type": "stream",
          "text": [
            "lr :0.004477770384281041\n",
            "Train Error: \n",
            " Accuracy: 50.1%, Avg loss: 2.089920 \n",
            "\n",
            "Test Error: \n",
            " Accuracy: 48.7%, Avg loss: 1.866214 \n",
            "\n",
            "Epoch 49\n",
            "-------------------------------\n"
          ]
        },
        {
          "metadata": {
            "tags": null
          },
          "name": "stderr",
          "output_type": "stream",
          "text": [
            "704it [01:04, 10.98it/s]\n"
          ]
        },
        {
          "metadata": {
            "tags": null
          },
          "name": "stdout",
          "output_type": "stream",
          "text": [
            "lr :0.004621423934774449\n",
            "Train Error: \n",
            " Accuracy: 50.5%, Avg loss: 2.204211 \n",
            "\n",
            "Test Error: \n",
            " Accuracy: 42.7%, Avg loss: 2.229095 \n",
            "\n",
            "Epoch 50\n",
            "-------------------------------\n"
          ]
        },
        {
          "metadata": {
            "tags": null
          },
          "name": "stderr",
          "output_type": "stream",
          "text": [
            "704it [01:01, 11.39it/s]\n"
          ]
        },
        {
          "metadata": {
            "tags": null
          },
          "name": "stdout",
          "output_type": "stream",
          "text": [
            "lr :0.004765605396017738\n",
            "Train Error: \n",
            " Accuracy: 50.6%, Avg loss: 1.337828 \n",
            "\n",
            "Test Error: \n",
            " Accuracy: 48.0%, Avg loss: 1.932163 \n",
            "\n",
            "Epoch 51\n",
            "-------------------------------\n"
          ]
        },
        {
          "metadata": {
            "tags": null
          },
          "name": "stderr",
          "output_type": "stream",
          "text": [
            "704it [01:01, 11.40it/s]\n"
          ]
        },
        {
          "metadata": {
            "tags": null
          },
          "name": "stdout",
          "output_type": "stream",
          "text": [
            "lr :0.0049101832123730265\n",
            "Train Error: \n",
            " Accuracy: 50.7%, Avg loss: 2.897234 \n",
            "\n",
            "Test Error: \n",
            " Accuracy: 49.1%, Avg loss: 1.887770 \n",
            "\n",
            "---------------------Model saved base correct:0.4912\n",
            "Epoch 52\n",
            "-------------------------------\n"
          ]
        },
        {
          "metadata": {
            "tags": null
          },
          "name": "stderr",
          "output_type": "stream",
          "text": [
            "704it [01:02, 11.34it/s]\n"
          ]
        },
        {
          "metadata": {
            "tags": null
          },
          "name": "stdout",
          "output_type": "stream",
          "text": [
            "lr :0.005055025466555733\n",
            "Train Error: \n",
            " Accuracy: 51.0%, Avg loss: 2.218431 \n",
            "\n",
            "Test Error: \n",
            " Accuracy: 47.9%, Avg loss: 1.934851 \n",
            "\n",
            "Epoch 53\n",
            "-------------------------------\n"
          ]
        },
        {
          "metadata": {
            "tags": null
          },
          "name": "stderr",
          "output_type": "stream",
          "text": [
            "704it [01:04, 10.95it/s]\n"
          ]
        },
        {
          "metadata": {
            "tags": null
          },
          "name": "stdout",
          "output_type": "stream",
          "text": [
            "lr :0.0052\n",
            "Train Error: \n",
            " Accuracy: 50.8%, Avg loss: 1.375941 \n",
            "\n",
            "Test Error: \n",
            " Accuracy: 50.9%, Avg loss: 1.800478 \n",
            "\n",
            "---------------------Model saved base correct:0.5092\n",
            "Epoch 54\n",
            "-------------------------------\n"
          ]
        },
        {
          "metadata": {
            "tags": null
          },
          "name": "stderr",
          "output_type": "stream",
          "text": [
            "704it [01:02, 11.29it/s]\n"
          ]
        },
        {
          "metadata": {
            "tags": null
          },
          "name": "stdout",
          "output_type": "stream",
          "text": [
            "lr :0.005344974533444265\n",
            "Train Error: \n",
            " Accuracy: 51.4%, Avg loss: 2.341542 \n",
            "\n",
            "Test Error: \n",
            " Accuracy: 49.2%, Avg loss: 1.842072 \n",
            "\n",
            "Epoch 55\n",
            "-------------------------------\n"
          ]
        },
        {
          "metadata": {
            "tags": null
          },
          "name": "stderr",
          "output_type": "stream",
          "text": [
            "704it [01:02, 11.35it/s]\n"
          ]
        },
        {
          "metadata": {
            "tags": null
          },
          "name": "stdout",
          "output_type": "stream",
          "text": [
            "lr :0.005489816787626974\n",
            "Train Error: \n",
            " Accuracy: 51.4%, Avg loss: 2.148671 \n",
            "\n",
            "Test Error: \n",
            " Accuracy: 49.9%, Avg loss: 1.841040 \n",
            "\n",
            "Epoch 56\n",
            "-------------------------------\n"
          ]
        },
        {
          "metadata": {
            "tags": null
          },
          "name": "stderr",
          "output_type": "stream",
          "text": [
            "704it [01:02, 11.31it/s]\n"
          ]
        },
        {
          "metadata": {
            "tags": null
          },
          "name": "stdout",
          "output_type": "stream",
          "text": [
            "lr :0.005634394603982261\n",
            "Train Error: \n",
            " Accuracy: 51.4%, Avg loss: 2.217510 \n",
            "\n",
            "Test Error: \n",
            " Accuracy: 47.4%, Avg loss: 1.951611 \n",
            "\n",
            "Epoch 57\n",
            "-------------------------------\n"
          ]
        },
        {
          "metadata": {
            "tags": null
          },
          "name": "stderr",
          "output_type": "stream",
          "text": [
            "704it [01:04, 11.00it/s]\n"
          ]
        },
        {
          "metadata": {
            "tags": null
          },
          "name": "stdout",
          "output_type": "stream",
          "text": [
            "lr :0.00577857606522555\n",
            "Train Error: \n",
            " Accuracy: 51.9%, Avg loss: 3.013364 \n",
            "\n",
            "Test Error: \n",
            " Accuracy: 48.2%, Avg loss: 1.929319 \n",
            "\n",
            "Epoch 58\n",
            "-------------------------------\n"
          ]
        },
        {
          "metadata": {
            "tags": null
          },
          "name": "stderr",
          "output_type": "stream",
          "text": [
            "704it [01:02, 11.32it/s]\n"
          ]
        },
        {
          "metadata": {
            "tags": null
          },
          "name": "stdout",
          "output_type": "stream",
          "text": [
            "lr :0.005922229615718959\n",
            "Train Error: \n",
            " Accuracy: 51.9%, Avg loss: 2.723251 \n",
            "\n",
            "Test Error: \n",
            " Accuracy: 49.7%, Avg loss: 1.866808 \n",
            "\n",
            "Epoch 59\n",
            "-------------------------------\n"
          ]
        },
        {
          "metadata": {
            "tags": null
          },
          "name": "stderr",
          "output_type": "stream",
          "text": [
            "704it [01:02, 11.33it/s]\n"
          ]
        },
        {
          "metadata": {
            "tags": null
          },
          "name": "stdout",
          "output_type": "stream",
          "text": [
            "lr :0.006065224181506747\n",
            "Train Error: \n",
            " Accuracy: 51.8%, Avg loss: 1.788900 \n",
            "\n",
            "Test Error: \n",
            " Accuracy: 49.9%, Avg loss: 1.845211 \n",
            "\n",
            "Epoch 60\n",
            "-------------------------------\n"
          ]
        },
        {
          "metadata": {
            "tags": null
          },
          "name": "stderr",
          "output_type": "stream",
          "text": [
            "704it [01:02, 11.35it/s]\n"
          ]
        },
        {
          "metadata": {
            "tags": null
          },
          "name": "stdout",
          "output_type": "stream",
          "text": [
            "lr :0.006207429289911267\n",
            "Train Error: \n",
            " Accuracy: 52.1%, Avg loss: 2.520633 \n",
            "\n",
            "Test Error: \n",
            " Accuracy: 51.1%, Avg loss: 1.816981 \n",
            "\n",
            "---------------------Model saved base correct:0.5106\n",
            "Epoch 61\n",
            "-------------------------------\n"
          ]
        },
        {
          "metadata": {
            "tags": null
          },
          "name": "stderr",
          "output_type": "stream",
          "text": [
            "704it [01:02, 11.32it/s]\n"
          ]
        },
        {
          "metadata": {
            "tags": null
          },
          "name": "stdout",
          "output_type": "stream",
          "text": [
            "lr :0.006348715188580276\n",
            "Train Error: \n",
            " Accuracy: 52.3%, Avg loss: 1.633456 \n",
            "\n",
            "Test Error: \n",
            " Accuracy: 46.3%, Avg loss: 1.995264 \n",
            "\n",
            "Epoch 62\n",
            "-------------------------------\n"
          ]
        },
        {
          "metadata": {
            "tags": null
          },
          "name": "stderr",
          "output_type": "stream",
          "text": [
            "704it [01:03, 11.07it/s]\n"
          ]
        },
        {
          "metadata": {
            "tags": null
          },
          "name": "stdout",
          "output_type": "stream",
          "text": [
            "lr :0.006488952963877009\n",
            "Train Error: \n",
            " Accuracy: 52.1%, Avg loss: 1.939400 \n",
            "\n",
            "Test Error: \n",
            " Accuracy: 39.4%, Avg loss: 2.454631 \n",
            "\n",
            "Epoch 63\n",
            "-------------------------------\n"
          ]
        },
        {
          "metadata": {
            "tags": null
          },
          "name": "stderr",
          "output_type": "stream",
          "text": [
            "704it [01:01, 11.37it/s]\n"
          ]
        },
        {
          "metadata": {
            "tags": null
          },
          "name": "stdout",
          "output_type": "stream",
          "text": [
            "lr :0.006628014658504973\n",
            "Train Error: \n",
            " Accuracy: 52.2%, Avg loss: 1.270977 \n",
            "\n",
            "Test Error: \n",
            " Accuracy: 46.5%, Avg loss: 2.062857 \n",
            "\n",
            "Epoch 64\n",
            "-------------------------------\n"
          ]
        },
        {
          "metadata": {
            "tags": null
          },
          "name": "stderr",
          "output_type": "stream",
          "text": [
            "704it [01:01, 11.41it/s]\n"
          ]
        },
        {
          "metadata": {
            "tags": null
          },
          "name": "stdout",
          "output_type": "stream",
          "text": [
            "lr :0.0067657733882601715\n",
            "Train Error: \n",
            " Accuracy: 52.3%, Avg loss: 1.144332 \n",
            "\n",
            "Test Error: \n",
            " Accuracy: 49.5%, Avg loss: 1.914840 \n",
            "\n",
            "Epoch 65\n",
            "-------------------------------\n"
          ]
        },
        {
          "metadata": {
            "tags": null
          },
          "name": "stderr",
          "output_type": "stream",
          "text": [
            "704it [01:01, 11.40it/s]\n"
          ]
        },
        {
          "metadata": {
            "tags": null
          },
          "name": "stdout",
          "output_type": "stream",
          "text": [
            "lr :0.006902103457804171\n",
            "Train Error: \n",
            " Accuracy: 52.1%, Avg loss: 2.185461 \n",
            "\n",
            "Test Error: \n",
            " Accuracy: 49.9%, Avg loss: 1.864139 \n",
            "\n",
            "Epoch 66\n",
            "-------------------------------\n"
          ]
        },
        {
          "metadata": {
            "tags": null
          },
          "name": "stderr",
          "output_type": "stream",
          "text": [
            "704it [01:04, 10.89it/s]\n"
          ]
        },
        {
          "metadata": {
            "tags": null
          },
          "name": "stdout",
          "output_type": "stream",
          "text": [
            "lr :0.007036880475352431\n",
            "Train Error: \n",
            " Accuracy: 52.3%, Avg loss: 1.541754 \n",
            "\n",
            "Test Error: \n",
            " Accuracy: 45.0%, Avg loss: 2.091703 \n",
            "\n",
            "Epoch 67\n",
            "-------------------------------\n"
          ]
        },
        {
          "metadata": {
            "tags": null
          },
          "name": "stderr",
          "output_type": "stream",
          "text": [
            "704it [01:02, 11.30it/s]\n"
          ]
        },
        {
          "metadata": {
            "tags": null
          },
          "name": "stdout",
          "output_type": "stream",
          "text": [
            "lr :0.007169981466173232\n",
            "Train Error: \n",
            " Accuracy: 52.2%, Avg loss: 1.672134 \n",
            "\n",
            "Test Error: \n",
            " Accuracy: 50.4%, Avg loss: 1.826483 \n",
            "\n",
            "Epoch 68\n",
            "-------------------------------\n"
          ]
        },
        {
          "metadata": {
            "tags": null
          },
          "name": "stderr",
          "output_type": "stream",
          "text": [
            "704it [01:02, 11.27it/s]\n"
          ]
        },
        {
          "metadata": {
            "tags": null
          },
          "name": "stdout",
          "output_type": "stream",
          "text": [
            "lr :0.0073012849847936346\n",
            "Train Error: \n",
            " Accuracy: 52.5%, Avg loss: 1.353671 \n",
            "\n",
            "Test Error: \n",
            " Accuracy: 48.4%, Avg loss: 1.901803 \n",
            "\n",
            "Epoch 69\n",
            "-------------------------------\n"
          ]
        },
        {
          "metadata": {
            "tags": null
          },
          "name": "stderr",
          "output_type": "stream",
          "text": [
            "704it [01:02, 11.29it/s]\n"
          ]
        },
        {
          "metadata": {
            "tags": null
          },
          "name": "stdout",
          "output_type": "stream",
          "text": [
            "lr :0.007430671225810089\n",
            "Train Error: \n",
            " Accuracy: 52.7%, Avg loss: 2.668442 \n",
            "\n",
            "Test Error: \n",
            " Accuracy: 42.7%, Avg loss: 2.315124 \n",
            "\n",
            "Epoch 70\n",
            "-------------------------------\n"
          ]
        },
        {
          "metadata": {
            "tags": null
          },
          "name": "stderr",
          "output_type": "stream",
          "text": [
            "704it [01:04, 10.95it/s]\n"
          ]
        },
        {
          "metadata": {
            "tags": null
          },
          "name": "stdout",
          "output_type": "stream",
          "text": [
            "lr :0.00755802213320261\n",
            "Train Error: \n",
            " Accuracy: 52.7%, Avg loss: 2.459037 \n",
            "\n",
            "Test Error: \n",
            " Accuracy: 44.9%, Avg loss: 2.094687 \n",
            "\n",
            "Epoch 71\n",
            "-------------------------------\n"
          ]
        },
        {
          "metadata": {
            "tags": null
          },
          "name": "stderr",
          "output_type": "stream",
          "text": [
            "704it [01:01, 11.39it/s]\n"
          ]
        },
        {
          "metadata": {
            "tags": null
          },
          "name": "stdout",
          "output_type": "stream",
          "text": [
            "lr :0.007683221508052753\n",
            "Train Error: \n",
            " Accuracy: 52.7%, Avg loss: 1.734726 \n",
            "\n",
            "Test Error: \n",
            " Accuracy: 46.8%, Avg loss: 2.007771 \n",
            "\n",
            "Epoch 72\n",
            "-------------------------------\n"
          ]
        },
        {
          "metadata": {
            "tags": null
          },
          "name": "stderr",
          "output_type": "stream",
          "text": [
            "704it [01:01, 11.39it/s]\n"
          ]
        },
        {
          "metadata": {
            "tags": null
          },
          "name": "stdout",
          "output_type": "stream",
          "text": [
            "lr :0.0078061551145670975\n",
            "Train Error: \n",
            " Accuracy: 52.6%, Avg loss: 2.493718 \n",
            "\n",
            "Test Error: \n",
            " Accuracy: 49.2%, Avg loss: 1.877037 \n",
            "\n",
            "Epoch 73\n",
            "-------------------------------\n"
          ]
        },
        {
          "metadata": {
            "tags": null
          },
          "name": "stderr",
          "output_type": "stream",
          "text": [
            "704it [01:01, 11.41it/s]\n"
          ]
        },
        {
          "metadata": {
            "tags": null
          },
          "name": "stdout",
          "output_type": "stream",
          "text": [
            "lr :0.007926710784309548\n",
            "Train Error: \n",
            " Accuracy: 53.2%, Avg loss: 3.201227 \n",
            "\n",
            "Test Error: \n",
            " Accuracy: 50.3%, Avg loss: 1.812864 \n",
            "\n",
            "Epoch 74\n",
            "-------------------------------\n"
          ]
        },
        {
          "metadata": {
            "tags": null
          },
          "name": "stderr",
          "output_type": "stream",
          "text": [
            "704it [01:01, 11.42it/s]\n"
          ]
        },
        {
          "metadata": {
            "tags": null
          },
          "name": "stdout",
          "output_type": "stream",
          "text": [
            "lr :0.00804477851854728\n",
            "Train Error: \n",
            " Accuracy: 52.5%, Avg loss: 2.212025 \n",
            "\n",
            "Test Error: \n",
            " Accuracy: 48.4%, Avg loss: 1.946080 \n",
            "\n",
            "Epoch 75\n",
            "-------------------------------\n"
          ]
        },
        {
          "metadata": {
            "tags": null
          },
          "name": "stderr",
          "output_type": "stream",
          "text": [
            "704it [01:03, 11.08it/s]\n"
          ]
        },
        {
          "metadata": {
            "tags": null
          },
          "name": "stdout",
          "output_type": "stream",
          "text": [
            "lr :0.008160250588617007\n",
            "Train Error: \n",
            " Accuracy: 53.0%, Avg loss: 1.265422 \n",
            "\n",
            "Test Error: \n",
            " Accuracy: 45.9%, Avg loss: 2.091592 \n",
            "\n",
            "Epoch 76\n",
            "-------------------------------\n"
          ]
        },
        {
          "metadata": {
            "tags": null
          },
          "name": "stderr",
          "output_type": "stream",
          "text": [
            "704it [01:01, 11.43it/s]\n"
          ]
        },
        {
          "metadata": {
            "tags": null
          },
          "name": "stdout",
          "output_type": "stream",
          "text": [
            "lr :0.008273021634219942\n",
            "Train Error: \n",
            " Accuracy: 52.9%, Avg loss: 1.448776 \n",
            "\n",
            "Test Error: \n",
            " Accuracy: 49.6%, Avg loss: 1.865586 \n",
            "\n",
            "Epoch 77\n",
            "-------------------------------\n"
          ]
        },
        {
          "metadata": {
            "tags": null
          },
          "name": "stderr",
          "output_type": "stream",
          "text": [
            "704it [01:01, 11.42it/s]\n"
          ]
        },
        {
          "metadata": {
            "tags": null
          },
          "name": "stdout",
          "output_type": "stream",
          "text": [
            "lr :0.008382988759555815\n",
            "Train Error: \n",
            " Accuracy: 52.7%, Avg loss: 1.563096 \n",
            "\n",
            "Test Error: \n",
            " Accuracy: 45.7%, Avg loss: 2.030662 \n",
            "\n",
            "Epoch 78\n",
            "-------------------------------\n"
          ]
        },
        {
          "metadata": {
            "tags": null
          },
          "name": "stderr",
          "output_type": "stream",
          "text": [
            "704it [01:01, 11.38it/s]\n"
          ]
        },
        {
          "metadata": {
            "tags": null
          },
          "name": "stdout",
          "output_type": "stream",
          "text": [
            "lr :0.008490051627208192\n",
            "Train Error: \n",
            " Accuracy: 52.8%, Avg loss: 3.321560 \n",
            "\n",
            "Test Error: \n",
            " Accuracy: 47.9%, Avg loss: 1.945005 \n",
            "\n",
            "Epoch 79\n",
            "-------------------------------\n"
          ]
        },
        {
          "metadata": {
            "tags": null
          },
          "name": "stderr",
          "output_type": "stream",
          "text": [
            "704it [01:03, 11.07it/s]\n"
          ]
        },
        {
          "metadata": {
            "tags": null
          },
          "name": "stdout",
          "output_type": "stream",
          "text": [
            "lr :0.008594112549695427\n",
            "Train Error: \n",
            " Accuracy: 52.7%, Avg loss: 1.643869 \n",
            "\n",
            "Test Error: \n",
            " Accuracy: 45.4%, Avg loss: 2.073153 \n",
            "\n",
            "Epoch 80\n",
            "-------------------------------\n"
          ]
        },
        {
          "metadata": {
            "tags": null
          },
          "name": "stderr",
          "output_type": "stream",
          "text": [
            "704it [01:01, 11.44it/s]\n"
          ]
        },
        {
          "metadata": {
            "tags": null
          },
          "name": "stdout",
          "output_type": "stream",
          "text": [
            "lr :0.008695076578603784\n",
            "Train Error: \n",
            " Accuracy: 53.1%, Avg loss: 3.280007 \n",
            "\n",
            "Test Error: \n",
            " Accuracy: 47.7%, Avg loss: 1.976576 \n",
            "\n",
            "Epoch 81\n",
            "-------------------------------\n"
          ]
        },
        {
          "metadata": {
            "tags": null
          },
          "name": "stderr",
          "output_type": "stream",
          "text": [
            "704it [01:01, 11.43it/s]\n"
          ]
        },
        {
          "metadata": {
            "tags": null
          },
          "name": "stdout",
          "output_type": "stream",
          "text": [
            "lr :0.008792851591221286\n",
            "Train Error: \n",
            " Accuracy: 53.0%, Avg loss: 1.925028 \n",
            "\n",
            "Test Error: \n",
            " Accuracy: 50.4%, Avg loss: 1.812858 \n",
            "\n",
            "Epoch 82\n",
            "-------------------------------\n"
          ]
        },
        {
          "metadata": {
            "tags": null
          },
          "name": "stderr",
          "output_type": "stream",
          "text": [
            "704it [01:02, 11.30it/s]\n"
          ]
        },
        {
          "metadata": {
            "tags": null
          },
          "name": "stdout",
          "output_type": "stream",
          "text": [
            "lr :0.008887348374593346\n",
            "Train Error: \n",
            " Accuracy: 52.9%, Avg loss: 1.820208 \n",
            "\n",
            "Test Error: \n",
            " Accuracy: 45.8%, Avg loss: 2.014609 \n",
            "\n",
            "Epoch 83\n",
            "-------------------------------\n"
          ]
        },
        {
          "metadata": {
            "tags": null
          },
          "name": "stderr",
          "output_type": "stream",
          "text": [
            "704it [01:04, 10.96it/s]\n"
          ]
        },
        {
          "metadata": {
            "tags": null
          },
          "name": "stdout",
          "output_type": "stream",
          "text": [
            "lr :0.00897848070692344\n",
            "Train Error: \n",
            " Accuracy: 53.1%, Avg loss: 1.984048 \n",
            "\n",
            "Test Error: \n",
            " Accuracy: 49.0%, Avg loss: 1.862810 \n",
            "\n",
            "Epoch 84\n",
            "-------------------------------\n"
          ]
        },
        {
          "metadata": {
            "tags": null
          },
          "name": "stderr",
          "output_type": "stream",
          "text": [
            "704it [01:01, 11.40it/s]\n"
          ]
        },
        {
          "metadata": {
            "tags": null
          },
          "name": "stdout",
          "output_type": "stream",
          "text": [
            "lr :0.009066165436244542\n",
            "Train Error: \n",
            " Accuracy: 52.9%, Avg loss: 2.468712 \n",
            "\n",
            "Test Error: \n",
            " Accuracy: 49.7%, Avg loss: 1.842429 \n",
            "\n",
            "Epoch 85\n",
            "-------------------------------\n"
          ]
        },
        {
          "metadata": {
            "tags": null
          },
          "name": "stderr",
          "output_type": "stream",
          "text": [
            "704it [01:01, 11.39it/s]\n"
          ]
        },
        {
          "metadata": {
            "tags": null
          },
          "name": "stdout",
          "output_type": "stream",
          "text": [
            "lr :0.00915032255628955\n",
            "Train Error: \n",
            " Accuracy: 53.2%, Avg loss: 1.397252 \n",
            "\n",
            "Test Error: \n",
            " Accuracy: 46.6%, Avg loss: 1.976805 \n",
            "\n",
            "Epoch 86\n",
            "-------------------------------\n"
          ]
        },
        {
          "metadata": {
            "tags": null
          },
          "name": "stderr",
          "output_type": "stream",
          "text": [
            "704it [01:02, 11.35it/s]\n"
          ]
        },
        {
          "metadata": {
            "tags": null
          },
          "name": "stdout",
          "output_type": "stream",
          "text": [
            "lr :0.00923087527949151\n",
            "Train Error: \n",
            " Accuracy: 53.2%, Avg loss: 1.393726 \n",
            "\n",
            "Test Error: \n",
            " Accuracy: 38.6%, Avg loss: 2.565084 \n",
            "\n",
            "Epoch 87\n",
            "-------------------------------\n"
          ]
        },
        {
          "metadata": {
            "tags": null
          },
          "name": "stderr",
          "output_type": "stream",
          "text": [
            "704it [01:04, 10.96it/s]\n"
          ]
        },
        {
          "metadata": {
            "tags": null
          },
          "name": "stdout",
          "output_type": "stream",
          "text": [
            "lr :0.009307750107046948\n",
            "Train Error: \n",
            " Accuracy: 53.3%, Avg loss: 2.430963 \n",
            "\n",
            "Test Error: \n",
            " Accuracy: 47.2%, Avg loss: 2.011412 \n",
            "\n",
            "Epoch 88\n",
            "-------------------------------\n"
          ]
        },
        {
          "metadata": {
            "tags": null
          },
          "name": "stderr",
          "output_type": "stream",
          "text": [
            "704it [01:01, 11.36it/s]\n"
          ]
        },
        {
          "metadata": {
            "tags": null
          },
          "name": "stdout",
          "output_type": "stream",
          "text": [
            "lr :0.009380876895978475\n",
            "Train Error: \n",
            " Accuracy: 53.4%, Avg loss: 2.276895 \n",
            "\n",
            "Test Error: \n",
            " Accuracy: 43.9%, Avg loss: 2.185220 \n",
            "\n",
            "Epoch 89\n",
            "-------------------------------\n"
          ]
        },
        {
          "metadata": {
            "tags": null
          },
          "name": "stderr",
          "output_type": "stream",
          "text": [
            "704it [01:01, 11.43it/s]\n"
          ]
        },
        {
          "metadata": {
            "tags": null
          },
          "name": "stdout",
          "output_type": "stream",
          "text": [
            "lr :0.009450188923135407\n",
            "Train Error: \n",
            " Accuracy: 53.6%, Avg loss: 2.196996 \n",
            "\n",
            "Test Error: \n",
            " Accuracy: 42.8%, Avg loss: 2.240374 \n",
            "\n",
            "Epoch 90\n",
            "-------------------------------\n"
          ]
        },
        {
          "metadata": {
            "tags": null
          },
          "name": "stderr",
          "output_type": "stream",
          "text": [
            "704it [01:01, 11.42it/s]\n"
          ]
        },
        {
          "metadata": {
            "tags": null
          },
          "name": "stdout",
          "output_type": "stream",
          "text": [
            "lr :0.009515622946074043\n",
            "Train Error: \n",
            " Accuracy: 53.3%, Avg loss: 1.734569 \n",
            "\n",
            "Test Error: \n",
            " Accuracy: 49.5%, Avg loss: 1.886271 \n",
            "\n",
            "Epoch 91\n",
            "-------------------------------\n"
          ]
        },
        {
          "metadata": {
            "tags": null
          },
          "name": "stderr",
          "output_type": "stream",
          "text": [
            "704it [01:01, 11.40it/s]\n"
          ]
        },
        {
          "metadata": {
            "tags": null
          },
          "name": "stdout",
          "output_type": "stream",
          "text": [
            "lr :0.009577119260762032\n",
            "Train Error: \n",
            " Accuracy: 53.3%, Avg loss: 1.934729 \n",
            "\n",
            "Test Error: \n",
            " Accuracy: 49.2%, Avg loss: 1.869343 \n",
            "\n",
            "Epoch 92\n",
            "-------------------------------\n"
          ]
        },
        {
          "metadata": {
            "tags": null
          },
          "name": "stderr",
          "output_type": "stream",
          "text": [
            "704it [01:03, 11.03it/s]\n"
          ]
        },
        {
          "metadata": {
            "tags": null
          },
          "name": "stdout",
          "output_type": "stream",
          "text": [
            "lr :0.009634621756054177\n",
            "Train Error: \n",
            " Accuracy: 53.6%, Avg loss: 1.898043 \n",
            "\n",
            "Test Error: \n",
            " Accuracy: 46.8%, Avg loss: 2.022303 \n",
            "\n",
            "Epoch 93\n",
            "-------------------------------\n"
          ]
        },
        {
          "metadata": {
            "tags": null
          },
          "name": "stderr",
          "output_type": "stream",
          "text": [
            "704it [01:01, 11.39it/s]\n"
          ]
        },
        {
          "metadata": {
            "tags": null
          },
          "name": "stdout",
          "output_type": "stream",
          "text": [
            "lr :0.00968807796488999\n",
            "Train Error: \n",
            " Accuracy: 53.4%, Avg loss: 1.964534 \n",
            "\n",
            "Test Error: \n",
            " Accuracy: 39.4%, Avg loss: 2.432704 \n",
            "\n",
            "Epoch 94\n",
            "-------------------------------\n"
          ]
        },
        {
          "metadata": {
            "tags": null
          },
          "name": "stderr",
          "output_type": "stream",
          "text": [
            "704it [01:01, 11.40it/s]\n"
          ]
        },
        {
          "metadata": {
            "tags": null
          },
          "name": "stdout",
          "output_type": "stream",
          "text": [
            "lr :0.009737439112166273\n",
            "Train Error: \n",
            " Accuracy: 53.6%, Avg loss: 1.552253 \n",
            "\n",
            "Test Error: \n",
            " Accuracy: 49.4%, Avg loss: 1.875434 \n",
            "\n",
            "Epoch 95\n",
            "-------------------------------\n"
          ]
        },
        {
          "metadata": {
            "tags": null
          },
          "name": "stderr",
          "output_type": "stream",
          "text": [
            "704it [01:01, 11.40it/s]\n"
          ]
        },
        {
          "metadata": {
            "tags": null
          },
          "name": "stdout",
          "output_type": "stream",
          "text": [
            "lr :0.009782660159241018\n",
            "Train Error: \n",
            " Accuracy: 53.7%, Avg loss: 2.309438 \n",
            "\n",
            "Test Error: \n",
            " Accuracy: 49.4%, Avg loss: 1.914229 \n",
            "\n",
            "Epoch 96\n",
            "-------------------------------\n"
          ]
        },
        {
          "metadata": {
            "tags": null
          },
          "name": "stderr",
          "output_type": "stream",
          "text": [
            "704it [01:04, 10.96it/s]\n"
          ]
        },
        {
          "metadata": {
            "tags": null
          },
          "name": "stdout",
          "output_type": "stream",
          "text": [
            "lr :0.009823699845028079\n",
            "Train Error: \n",
            " Accuracy: 53.6%, Avg loss: 1.425817 \n",
            "\n",
            "Test Error: \n",
            " Accuracy: 46.2%, Avg loss: 2.011596 \n",
            "\n",
            "Epoch 97\n",
            "-------------------------------\n"
          ]
        },
        {
          "metadata": {
            "tags": null
          },
          "name": "stderr",
          "output_type": "stream",
          "text": [
            "704it [01:02, 11.32it/s]\n"
          ]
        },
        {
          "metadata": {
            "tags": null
          },
          "name": "stdout",
          "output_type": "stream",
          "text": [
            "lr :0.00986052072364505\n",
            "Train Error: \n",
            " Accuracy: 54.1%, Avg loss: 2.264296 \n",
            "\n",
            "Test Error: \n",
            " Accuracy: 46.8%, Avg loss: 2.043099 \n",
            "\n",
            "Epoch 98\n",
            "-------------------------------\n"
          ]
        },
        {
          "metadata": {
            "tags": null
          },
          "name": "stderr",
          "output_type": "stream",
          "text": [
            "704it [01:01, 11.37it/s]\n"
          ]
        },
        {
          "metadata": {
            "tags": null
          },
          "name": "stdout",
          "output_type": "stream",
          "text": [
            "lr :0.009893089198580065\n",
            "Train Error: \n",
            " Accuracy: 53.8%, Avg loss: 2.941657 \n",
            "\n",
            "Test Error: \n",
            " Accuracy: 46.4%, Avg loss: 2.081170 \n",
            "\n",
            "Epoch 99\n",
            "-------------------------------\n"
          ]
        },
        {
          "metadata": {
            "tags": null
          },
          "name": "stderr",
          "output_type": "stream",
          "text": [
            "704it [01:01, 11.39it/s]\n"
          ]
        },
        {
          "metadata": {
            "tags": null
          },
          "name": "stdout",
          "output_type": "stream",
          "text": [
            "lr :0.009921375553346289\n",
            "Train Error: \n",
            " Accuracy: 53.8%, Avg loss: 1.806499 \n",
            "\n",
            "Test Error: \n",
            " Accuracy: 44.2%, Avg loss: 2.103709 \n",
            "\n",
            "Epoch 100\n",
            "-------------------------------\n"
          ]
        },
        {
          "metadata": {
            "tags": null
          },
          "name": "stderr",
          "output_type": "stream",
          "text": [
            "704it [01:03, 11.05it/s]\n"
          ]
        },
        {
          "metadata": {
            "tags": null
          },
          "name": "stdout",
          "output_type": "stream",
          "text": [
            "lr :0.009945353978596165\n",
            "Train Error: \n",
            " Accuracy: 54.0%, Avg loss: 2.256440 \n",
            "\n",
            "Test Error: \n",
            " Accuracy: 49.4%, Avg loss: 1.883150 \n",
            "\n",
            "Epoch 101\n",
            "-------------------------------\n"
          ]
        },
        {
          "metadata": {
            "tags": null
          },
          "name": "stderr",
          "output_type": "stream",
          "text": [
            "704it [01:02, 11.35it/s]\n"
          ]
        },
        {
          "metadata": {
            "tags": null
          },
          "name": "stdout",
          "output_type": "stream",
          "text": [
            "lr :0.00996500259567066\n",
            "Train Error: \n",
            " Accuracy: 54.1%, Avg loss: 1.617519 \n",
            "\n",
            "Test Error: \n",
            " Accuracy: 47.5%, Avg loss: 1.946553 \n",
            "\n",
            "Epoch 102\n",
            "-------------------------------\n"
          ]
        },
        {
          "metadata": {
            "tags": null
          },
          "name": "stderr",
          "output_type": "stream",
          "text": [
            "704it [01:02, 11.34it/s]\n"
          ]
        },
        {
          "metadata": {
            "tags": null
          },
          "name": "stdout",
          "output_type": "stream",
          "text": [
            "lr :0.009980303476562037\n",
            "Train Error: \n",
            " Accuracy: 53.9%, Avg loss: 1.452318 \n",
            "\n",
            "Test Error: \n",
            " Accuracy: 46.2%, Avg loss: 2.036526 \n",
            "\n",
            "Epoch 103\n",
            "-------------------------------\n"
          ]
        },
        {
          "metadata": {
            "tags": null
          },
          "name": "stderr",
          "output_type": "stream",
          "text": [
            "704it [01:01, 11.38it/s]\n"
          ]
        },
        {
          "metadata": {
            "tags": null
          },
          "name": "stdout",
          "output_type": "stream",
          "text": [
            "lr :0.009991242660271925\n",
            "Train Error: \n",
            " Accuracy: 54.3%, Avg loss: 2.464589 \n",
            "\n",
            "Test Error: \n",
            " Accuracy: 42.9%, Avg loss: 2.241981 \n",
            "\n",
            "Epoch 104\n",
            "-------------------------------\n"
          ]
        },
        {
          "metadata": {
            "tags": null
          },
          "name": "stderr",
          "output_type": "stream",
          "text": [
            "704it [01:01, 11.39it/s]\n"
          ]
        },
        {
          "metadata": {
            "tags": null
          },
          "name": "stdout",
          "output_type": "stream",
          "text": [
            "lr :0.00999781016554976\n",
            "Train Error: \n",
            " Accuracy: 54.0%, Avg loss: 2.027800 \n",
            "\n",
            "Test Error: \n",
            " Accuracy: 46.7%, Avg loss: 1.990219 \n",
            "\n",
            "Epoch 105\n",
            "-------------------------------\n"
          ]
        },
        {
          "metadata": {
            "tags": null
          },
          "name": "stderr",
          "output_type": "stream",
          "text": [
            "704it [01:03, 11.15it/s]\n"
          ]
        },
        {
          "metadata": {
            "tags": null
          },
          "name": "stdout",
          "output_type": "stream",
          "text": [
            "lr :0.01\n",
            "Train Error: \n",
            " Accuracy: 54.6%, Avg loss: 1.707163 \n",
            "\n",
            "Test Error: \n",
            " Accuracy: 47.9%, Avg loss: 1.991111 \n",
            "\n",
            "Epoch 106\n",
            "-------------------------------\n"
          ]
        },
        {
          "metadata": {
            "tags": null
          },
          "name": "stderr",
          "output_type": "stream",
          "text": [
            "704it [01:01, 11.41it/s]\n"
          ]
        },
        {
          "metadata": {
            "tags": null
          },
          "name": "stdout",
          "output_type": "stream",
          "text": [
            "lr :0.009999588945035822\n",
            "Train Error: \n",
            " Accuracy: 54.4%, Avg loss: 1.419087 \n",
            "\n",
            "Test Error: \n",
            " Accuracy: 49.9%, Avg loss: 1.826124 \n",
            "\n",
            "Epoch 107\n",
            "-------------------------------\n"
          ]
        },
        {
          "metadata": {
            "tags": null
          },
          "name": "stderr",
          "output_type": "stream",
          "text": [
            "704it [01:01, 11.41it/s]\n"
          ]
        },
        {
          "metadata": {
            "tags": null
          },
          "name": "stdout",
          "output_type": "stream",
          "text": [
            "lr :0.009998355847730034\n",
            "Train Error: \n",
            " Accuracy: 54.7%, Avg loss: 0.821228 \n",
            "\n",
            "Test Error: \n",
            " Accuracy: 46.4%, Avg loss: 2.042630 \n",
            "\n",
            "Epoch 108\n",
            "-------------------------------\n"
          ]
        },
        {
          "metadata": {
            "tags": null
          },
          "name": "stderr",
          "output_type": "stream",
          "text": [
            "704it [01:01, 11.43it/s]\n"
          ]
        },
        {
          "metadata": {
            "tags": null
          },
          "name": "stdout",
          "output_type": "stream",
          "text": [
            "lr :0.009996300910831755\n",
            "Train Error: \n",
            " Accuracy: 54.3%, Avg loss: 1.795633 \n",
            "\n",
            "Test Error: \n",
            " Accuracy: 49.3%, Avg loss: 1.866268 \n",
            "\n",
            "Epoch 109\n",
            "-------------------------------\n"
          ]
        },
        {
          "metadata": {
            "tags": null
          },
          "name": "stderr",
          "output_type": "stream",
          "text": [
            "704it [01:03, 11.03it/s]\n"
          ]
        },
        {
          "metadata": {
            "tags": null
          },
          "name": "stdout",
          "output_type": "stream",
          "text": [
            "lr :0.009993424472219138\n",
            "Train Error: \n",
            " Accuracy: 54.9%, Avg loss: 1.720876 \n",
            "\n",
            "Test Error: \n",
            " Accuracy: 47.6%, Avg loss: 1.964928 \n",
            "\n",
            "Epoch 110\n",
            "-------------------------------\n"
          ]
        },
        {
          "metadata": {
            "tags": null
          },
          "name": "stderr",
          "output_type": "stream",
          "text": [
            "704it [01:01, 11.36it/s]\n"
          ]
        },
        {
          "metadata": {
            "tags": null
          },
          "name": "stdout",
          "output_type": "stream",
          "text": [
            "lr :0.009989727004843827\n",
            "Train Error: \n",
            " Accuracy: 54.9%, Avg loss: 1.916999 \n",
            "\n",
            "Test Error: \n",
            " Accuracy: 42.9%, Avg loss: 2.241362 \n",
            "\n",
            "Epoch 111\n",
            "-------------------------------\n"
          ]
        },
        {
          "metadata": {
            "tags": null
          },
          "name": "stderr",
          "output_type": "stream",
          "text": [
            "704it [01:01, 11.40it/s]\n"
          ]
        },
        {
          "metadata": {
            "tags": null
          },
          "name": "stdout",
          "output_type": "stream",
          "text": [
            "lr :0.00998520911665318\n",
            "Train Error: \n",
            " Accuracy: 54.9%, Avg loss: 2.630420 \n",
            "\n",
            "Test Error: \n",
            " Accuracy: 37.4%, Avg loss: 2.994469 \n",
            "\n",
            "Epoch 112\n",
            "-------------------------------\n"
          ]
        },
        {
          "metadata": {
            "tags": null
          },
          "name": "stderr",
          "output_type": "stream",
          "text": [
            "704it [01:02, 11.34it/s]\n"
          ]
        },
        {
          "metadata": {
            "tags": null
          },
          "name": "stdout",
          "output_type": "stream",
          "text": [
            "lr :0.009979871550490316\n",
            "Train Error: \n",
            " Accuracy: 54.9%, Avg loss: 1.487860 \n",
            "\n",
            "Test Error: \n",
            " Accuracy: 50.5%, Avg loss: 1.780052 \n",
            "\n",
            "Epoch 113\n",
            "-------------------------------\n"
          ]
        },
        {
          "metadata": {
            "tags": null
          },
          "name": "stderr",
          "output_type": "stream",
          "text": [
            "704it [01:04, 10.96it/s]\n"
          ]
        },
        {
          "metadata": {
            "tags": null
          },
          "name": "stdout",
          "output_type": "stream",
          "text": [
            "lr :0.009973715183971972\n",
            "Train Error: \n",
            " Accuracy: 54.7%, Avg loss: 1.387226 \n",
            "\n",
            "Test Error: \n",
            " Accuracy: 46.9%, Avg loss: 2.087751 \n",
            "\n",
            "Epoch 114\n",
            "-------------------------------\n"
          ]
        },
        {
          "metadata": {
            "tags": null
          },
          "name": "stderr",
          "output_type": "stream",
          "text": [
            "704it [01:02, 11.34it/s]\n"
          ]
        },
        {
          "metadata": {
            "tags": null
          },
          "name": "stdout",
          "output_type": "stream",
          "text": [
            "lr :0.009966741029344205\n",
            "Train Error: \n",
            " Accuracy: 55.0%, Avg loss: 1.354504 \n",
            "\n",
            "Test Error: \n",
            " Accuracy: 45.7%, Avg loss: 2.126367 \n",
            "\n",
            "Epoch 115\n",
            "-------------------------------\n"
          ]
        },
        {
          "metadata": {
            "tags": null
          },
          "name": "stderr",
          "output_type": "stream",
          "text": [
            "704it [01:02, 11.33it/s]\n"
          ]
        },
        {
          "metadata": {
            "tags": null
          },
          "name": "stdout",
          "output_type": "stream",
          "text": [
            "lr :0.009958950233315954\n",
            "Train Error: \n",
            " Accuracy: 55.0%, Avg loss: 2.274571 \n",
            "\n",
            "Test Error: \n",
            " Accuracy: 51.6%, Avg loss: 1.756681 \n",
            "\n",
            "---------------------Model saved base correct:0.5164\n",
            "Epoch 116\n",
            "-------------------------------\n"
          ]
        },
        {
          "metadata": {
            "tags": null
          },
          "name": "stderr",
          "output_type": "stream",
          "text": [
            "704it [01:02, 11.31it/s]\n"
          ]
        },
        {
          "metadata": {
            "tags": null
          },
          "name": "stdout",
          "output_type": "stream",
          "text": [
            "lr :0.009950344076870498\n",
            "Train Error: \n",
            " Accuracy: 55.0%, Avg loss: 2.360266 \n",
            "\n",
            "Test Error: \n",
            " Accuracy: 52.5%, Avg loss: 1.713267 \n",
            "\n",
            "---------------------Model saved base correct:0.5248\n",
            "Epoch 117\n",
            "-------------------------------\n"
          ]
        },
        {
          "metadata": {
            "tags": null
          },
          "name": "stderr",
          "output_type": "stream",
          "text": [
            "704it [01:02, 11.33it/s]\n"
          ]
        },
        {
          "metadata": {
            "tags": null
          },
          "name": "stdout",
          "output_type": "stream",
          "text": [
            "lr :0.009940923975054824\n",
            "Train Error: \n",
            " Accuracy: 55.3%, Avg loss: 1.567907 \n",
            "\n",
            "Test Error: \n",
            " Accuracy: 47.7%, Avg loss: 1.973626 \n",
            "\n",
            "Epoch 118\n",
            "-------------------------------\n"
          ]
        },
        {
          "metadata": {
            "tags": null
          },
          "name": "stderr",
          "output_type": "stream",
          "text": [
            "704it [01:04, 10.98it/s]\n"
          ]
        },
        {
          "metadata": {
            "tags": null
          },
          "name": "stdout",
          "output_type": "stream",
          "text": [
            "lr :0.009930691476746977\n",
            "Train Error: \n",
            " Accuracy: 55.5%, Avg loss: 2.132223 \n",
            "\n",
            "Test Error: \n",
            " Accuracy: 50.7%, Avg loss: 1.831910 \n",
            "\n",
            "Epoch 119\n",
            "-------------------------------\n"
          ]
        },
        {
          "metadata": {
            "tags": null
          },
          "name": "stderr",
          "output_type": "stream",
          "text": [
            "704it [01:01, 11.37it/s]\n"
          ]
        },
        {
          "metadata": {
            "tags": null
          },
          "name": "stdout",
          "output_type": "stream",
          "text": [
            "lr :0.009919648264401377\n",
            "Train Error: \n",
            " Accuracy: 55.2%, Avg loss: 2.230525 \n",
            "\n",
            "Test Error: \n",
            " Accuracy: 49.0%, Avg loss: 1.902561 \n",
            "\n",
            "Epoch 120\n",
            "-------------------------------\n"
          ]
        },
        {
          "metadata": {
            "tags": null
          },
          "name": "stderr",
          "output_type": "stream",
          "text": [
            "704it [01:02, 11.34it/s]\n"
          ]
        },
        {
          "metadata": {
            "tags": null
          },
          "name": "stdout",
          "output_type": "stream",
          "text": [
            "lr :0.009907796153772188\n",
            "Train Error: \n",
            " Accuracy: 55.3%, Avg loss: 1.760613 \n",
            "\n",
            "Test Error: \n",
            " Accuracy: 41.2%, Avg loss: 2.458280 \n",
            "\n",
            "Epoch 121\n",
            "-------------------------------\n"
          ]
        },
        {
          "metadata": {
            "tags": null
          },
          "name": "stderr",
          "output_type": "stream",
          "text": [
            "704it [01:02, 11.30it/s]\n"
          ]
        },
        {
          "metadata": {
            "tags": null
          },
          "name": "stdout",
          "output_type": "stream",
          "text": [
            "lr :0.009895137093614769\n",
            "Train Error: \n",
            " Accuracy: 55.5%, Avg loss: 3.115510 \n",
            "\n",
            "Test Error: \n",
            " Accuracy: 49.4%, Avg loss: 1.906133 \n",
            "\n",
            "Epoch 122\n",
            "-------------------------------\n"
          ]
        },
        {
          "metadata": {
            "tags": null
          },
          "name": "stderr",
          "output_type": "stream",
          "text": [
            "704it [01:04, 10.99it/s]\n"
          ]
        },
        {
          "metadata": {
            "tags": null
          },
          "name": "stdout",
          "output_type": "stream",
          "text": [
            "lr :0.009881673165365253\n",
            "Train Error: \n",
            " Accuracy: 55.4%, Avg loss: 1.498474 \n",
            "\n",
            "Test Error: \n",
            " Accuracy: 44.7%, Avg loss: 2.124647 \n",
            "\n",
            "Epoch 123\n",
            "-------------------------------\n"
          ]
        },
        {
          "metadata": {
            "tags": null
          },
          "name": "stderr",
          "output_type": "stream",
          "text": [
            "704it [01:01, 11.44it/s]\n"
          ]
        },
        {
          "metadata": {
            "tags": null
          },
          "name": "stdout",
          "output_type": "stream",
          "text": [
            "lr :0.009867406582798314\n",
            "Train Error: \n",
            " Accuracy: 55.6%, Avg loss: 1.484041 \n",
            "\n",
            "Test Error: \n",
            " Accuracy: 50.2%, Avg loss: 1.830282 \n",
            "\n",
            "Epoch 124\n",
            "-------------------------------\n"
          ]
        },
        {
          "metadata": {
            "tags": null
          },
          "name": "stderr",
          "output_type": "stream",
          "text": [
            "704it [01:01, 11.41it/s]\n"
          ]
        },
        {
          "metadata": {
            "tags": null
          },
          "name": "stdout",
          "output_type": "stream",
          "text": [
            "lr :0.00985233969166317\n",
            "Train Error: \n",
            " Accuracy: 55.7%, Avg loss: 2.079397 \n",
            "\n",
            "Test Error: \n",
            " Accuracy: 46.6%, Avg loss: 2.040275 \n",
            "\n",
            "Epoch 125\n",
            "-------------------------------\n"
          ]
        },
        {
          "metadata": {
            "tags": null
          },
          "name": "stderr",
          "output_type": "stream",
          "text": [
            "704it [01:01, 11.45it/s]\n"
          ]
        },
        {
          "metadata": {
            "tags": null
          },
          "name": "stdout",
          "output_type": "stream",
          "text": [
            "lr :0.009836474969297886\n",
            "Train Error: \n",
            " Accuracy: 55.8%, Avg loss: 1.229612 \n",
            "\n",
            "Test Error: \n",
            " Accuracy: 44.2%, Avg loss: 2.170849 \n",
            "\n",
            "Epoch 126\n",
            "-------------------------------\n"
          ]
        },
        {
          "metadata": {
            "tags": null
          },
          "name": "stderr",
          "output_type": "stream",
          "text": [
            "704it [01:01, 11.40it/s]\n"
          ]
        },
        {
          "metadata": {
            "tags": null
          },
          "name": "stdout",
          "output_type": "stream",
          "text": [
            "lr :0.009819815024222052\n",
            "Train Error: \n",
            " Accuracy: 56.0%, Avg loss: 2.573604 \n",
            "\n",
            "Test Error: \n",
            " Accuracy: 49.2%, Avg loss: 1.917251 \n",
            "\n",
            "Epoch 127\n",
            "-------------------------------\n"
          ]
        },
        {
          "metadata": {
            "tags": null
          },
          "name": "stderr",
          "output_type": "stream",
          "text": [
            "704it [01:04, 10.89it/s]\n"
          ]
        },
        {
          "metadata": {
            "tags": null
          },
          "name": "stdout",
          "output_type": "stream",
          "text": [
            "lr :0.009802362595707876\n",
            "Train Error: \n",
            " Accuracy: 56.3%, Avg loss: 1.220613 \n",
            "\n",
            "Test Error: \n",
            " Accuracy: 46.4%, Avg loss: 2.041348 \n",
            "\n",
            "Epoch 128\n",
            "-------------------------------\n"
          ]
        },
        {
          "metadata": {
            "tags": null
          },
          "name": "stderr",
          "output_type": "stream",
          "text": [
            "704it [01:02, 11.19it/s]\n"
          ]
        },
        {
          "metadata": {
            "tags": null
          },
          "name": "stdout",
          "output_type": "stream",
          "text": [
            "lr :0.009784120553329785\n",
            "Train Error: \n",
            " Accuracy: 55.9%, Avg loss: 1.917575 \n",
            "\n",
            "Test Error: \n",
            " Accuracy: 45.6%, Avg loss: 2.081718 \n",
            "\n",
            "Epoch 129\n",
            "-------------------------------\n"
          ]
        },
        {
          "metadata": {
            "tags": null
          },
          "name": "stderr",
          "output_type": "stream",
          "text": [
            "704it [01:02, 11.22it/s]\n"
          ]
        },
        {
          "metadata": {
            "tags": null
          },
          "name": "stdout",
          "output_type": "stream",
          "text": [
            "lr :0.00976509189649261\n",
            "Train Error: \n",
            " Accuracy: 56.0%, Avg loss: 2.628097 \n",
            "\n",
            "Test Error: \n",
            " Accuracy: 48.8%, Avg loss: 1.906818 \n",
            "\n",
            "Epoch 130\n",
            "-------------------------------\n"
          ]
        },
        {
          "metadata": {
            "tags": null
          },
          "name": "stderr",
          "output_type": "stream",
          "text": [
            "704it [01:02, 11.27it/s]\n"
          ]
        },
        {
          "metadata": {
            "tags": null
          },
          "name": "stdout",
          "output_type": "stream",
          "text": [
            "lr :0.009745279753938404\n",
            "Train Error: \n",
            " Accuracy: 56.1%, Avg loss: 1.944261 \n",
            "\n",
            "Test Error: \n",
            " Accuracy: 51.4%, Avg loss: 1.782350 \n",
            "\n",
            "Epoch 131\n",
            "-------------------------------\n"
          ]
        },
        {
          "metadata": {
            "tags": null
          },
          "name": "stderr",
          "output_type": "stream",
          "text": [
            "704it [01:04, 10.94it/s]\n"
          ]
        },
        {
          "metadata": {
            "tags": null
          },
          "name": "stdout",
          "output_type": "stream",
          "text": [
            "lr :0.009724687383232018\n",
            "Train Error: \n",
            " Accuracy: 56.2%, Avg loss: 2.017880 \n",
            "\n",
            "Test Error: \n",
            " Accuracy: 44.7%, Avg loss: 2.128448 \n",
            "\n",
            "Epoch 132\n",
            "-------------------------------\n"
          ]
        },
        {
          "metadata": {
            "tags": null
          },
          "name": "stderr",
          "output_type": "stream",
          "text": [
            "704it [01:01, 11.36it/s]\n"
          ]
        },
        {
          "metadata": {
            "tags": null
          },
          "name": "stdout",
          "output_type": "stream",
          "text": [
            "lr :0.009703318170225479\n",
            "Train Error: \n",
            " Accuracy: 56.3%, Avg loss: 1.283779 \n",
            "\n",
            "Test Error: \n",
            " Accuracy: 46.3%, Avg loss: 2.051464 \n",
            "\n",
            "Epoch 133\n",
            "-------------------------------\n"
          ]
        },
        {
          "metadata": {
            "tags": null
          },
          "name": "stderr",
          "output_type": "stream",
          "text": [
            "704it [01:01, 11.38it/s]\n"
          ]
        },
        {
          "metadata": {
            "tags": null
          },
          "name": "stdout",
          "output_type": "stream",
          "text": [
            "lr :0.009681175628501274\n",
            "Train Error: \n",
            " Accuracy: 56.1%, Avg loss: 1.062657 \n",
            "\n",
            "Test Error: \n",
            " Accuracy: 47.7%, Avg loss: 1.965970 \n",
            "\n",
            "Epoch 134\n",
            "-------------------------------\n"
          ]
        },
        {
          "metadata": {
            "tags": null
          },
          "name": "stderr",
          "output_type": "stream",
          "text": [
            "704it [01:01, 11.42it/s]\n"
          ]
        },
        {
          "metadata": {
            "tags": null
          },
          "name": "stdout",
          "output_type": "stream",
          "text": [
            "lr :0.009658263398794643\n",
            "Train Error: \n",
            " Accuracy: 56.4%, Avg loss: 3.157358 \n",
            "\n",
            "Test Error: \n",
            " Accuracy: 49.7%, Avg loss: 1.897360 \n",
            "\n",
            "Epoch 135\n",
            "-------------------------------\n"
          ]
        },
        {
          "metadata": {
            "tags": null
          },
          "name": "stderr",
          "output_type": "stream",
          "text": [
            "704it [01:02, 11.32it/s]\n"
          ]
        },
        {
          "metadata": {
            "tags": null
          },
          "name": "stdout",
          "output_type": "stream",
          "text": [
            "lr :0.009634585248394962\n",
            "Train Error: \n",
            " Accuracy: 56.6%, Avg loss: 2.483525 \n",
            "\n",
            "Test Error: \n",
            " Accuracy: 49.1%, Avg loss: 1.844382 \n",
            "\n",
            "Epoch 136\n",
            "-------------------------------\n"
          ]
        },
        {
          "metadata": {
            "tags": null
          },
          "name": "stderr",
          "output_type": "stream",
          "text": [
            "704it [01:02, 11.33it/s]\n"
          ]
        },
        {
          "metadata": {
            "tags": null
          },
          "name": "stdout",
          "output_type": "stream",
          "text": [
            "lr :0.00961014507052631\n",
            "Train Error: \n",
            " Accuracy: 56.5%, Avg loss: 1.900688 \n",
            "\n",
            "Test Error: \n",
            " Accuracy: 44.5%, Avg loss: 2.153242 \n",
            "\n",
            "Epoch 137\n",
            "-------------------------------\n"
          ]
        },
        {
          "metadata": {
            "tags": null
          },
          "name": "stderr",
          "output_type": "stream",
          "text": [
            "704it [01:01, 11.44it/s]\n"
          ]
        },
        {
          "metadata": {
            "tags": null
          },
          "name": "stdout",
          "output_type": "stream",
          "text": [
            "lr :0.009584946883707332\n",
            "Train Error: \n",
            " Accuracy: 56.5%, Avg loss: 2.815923 \n",
            "\n",
            "Test Error: \n",
            " Accuracy: 47.5%, Avg loss: 2.001030 \n",
            "\n",
            "Epoch 138\n",
            "-------------------------------\n"
          ]
        },
        {
          "metadata": {
            "tags": null
          },
          "name": "stderr",
          "output_type": "stream",
          "text": [
            "704it [01:01, 11.42it/s]\n"
          ]
        },
        {
          "metadata": {
            "tags": null
          },
          "name": "stdout",
          "output_type": "stream",
          "text": [
            "lr :0.009558994831090517\n",
            "Train Error: \n",
            " Accuracy: 56.7%, Avg loss: 2.357261 \n",
            "\n",
            "Test Error: \n",
            " Accuracy: 46.9%, Avg loss: 2.089423 \n",
            "\n",
            "Epoch 139\n",
            "-------------------------------\n"
          ]
        },
        {
          "metadata": {
            "tags": null
          },
          "name": "stderr",
          "output_type": "stream",
          "text": [
            "704it [01:01, 11.42it/s]\n"
          ]
        },
        {
          "metadata": {
            "tags": null
          },
          "name": "stdout",
          "output_type": "stream",
          "text": [
            "lr :0.009532293179780955\n",
            "Train Error: \n",
            " Accuracy: 56.7%, Avg loss: 1.800300 \n",
            "\n",
            "Test Error: \n",
            " Accuracy: 50.0%, Avg loss: 1.843896 \n",
            "\n",
            "Epoch 140\n",
            "-------------------------------\n"
          ]
        },
        {
          "metadata": {
            "tags": null
          },
          "name": "stderr",
          "output_type": "stream",
          "text": [
            "704it [01:03, 11.06it/s]\n"
          ]
        },
        {
          "metadata": {
            "tags": null
          },
          "name": "stdout",
          "output_type": "stream",
          "text": [
            "lr :0.009504846320134737\n",
            "Train Error: \n",
            " Accuracy: 56.8%, Avg loss: 2.079504 \n",
            "\n",
            "Test Error: \n",
            " Accuracy: 50.3%, Avg loss: 1.811170 \n",
            "\n",
            "Epoch 141\n",
            "-------------------------------\n"
          ]
        },
        {
          "metadata": {
            "tags": null
          },
          "name": "stderr",
          "output_type": "stream",
          "text": [
            "704it [01:01, 11.41it/s]\n"
          ]
        },
        {
          "metadata": {
            "tags": null
          },
          "name": "stdout",
          "output_type": "stream",
          "text": [
            "lr :0.00947665876503708\n",
            "Train Error: \n",
            " Accuracy: 56.9%, Avg loss: 1.361257 \n",
            "\n",
            "Test Error: \n",
            " Accuracy: 46.2%, Avg loss: 2.042745 \n",
            "\n",
            "Epoch 142\n",
            "-------------------------------\n"
          ]
        },
        {
          "metadata": {
            "tags": null
          },
          "name": "stderr",
          "output_type": "stream",
          "text": [
            "704it [01:01, 11.43it/s]\n"
          ]
        },
        {
          "metadata": {
            "tags": null
          },
          "name": "stdout",
          "output_type": "stream",
          "text": [
            "lr :0.0094477351491603\n",
            "Train Error: \n",
            " Accuracy: 57.1%, Avg loss: 1.790751 \n",
            "\n",
            "Test Error: \n",
            " Accuracy: 49.0%, Avg loss: 1.947786 \n",
            "\n",
            "Epoch 143\n",
            "-------------------------------\n"
          ]
        },
        {
          "metadata": {
            "tags": null
          },
          "name": "stderr",
          "output_type": "stream",
          "text": [
            "704it [01:02, 11.34it/s]\n"
          ]
        },
        {
          "metadata": {
            "tags": null
          },
          "name": "stdout",
          "output_type": "stream",
          "text": [
            "lr :0.009418080228201774\n",
            "Train Error: \n",
            " Accuracy: 56.9%, Avg loss: 1.563324 \n",
            "\n",
            "Test Error: \n",
            " Accuracy: 48.2%, Avg loss: 2.065571 \n",
            "\n",
            "Epoch 144\n",
            "-------------------------------\n"
          ]
        },
        {
          "metadata": {
            "tags": null
          },
          "name": "stderr",
          "output_type": "stream",
          "text": [
            "704it [01:03, 11.17it/s]\n"
          ]
        },
        {
          "metadata": {
            "tags": null
          },
          "name": "stdout",
          "output_type": "stream",
          "text": [
            "lr :0.009387698878101999\n",
            "Train Error: \n",
            " Accuracy: 57.1%, Avg loss: 1.979460 \n",
            "\n",
            "Test Error: \n",
            " Accuracy: 50.2%, Avg loss: 1.850181 \n",
            "\n",
            "Epoch 145\n",
            "-------------------------------\n"
          ]
        },
        {
          "metadata": {
            "tags": null
          },
          "name": "stderr",
          "output_type": "stream",
          "text": [
            "704it [01:05, 10.82it/s]\n"
          ]
        },
        {
          "metadata": {
            "tags": null
          },
          "name": "stdout",
          "output_type": "stream",
          "text": [
            "lr :0.009356596094242865\n",
            "Train Error: \n",
            " Accuracy: 57.4%, Avg loss: 1.601899 \n",
            "\n",
            "Test Error: \n",
            " Accuracy: 46.4%, Avg loss: 2.050146 \n",
            "\n",
            "Epoch 146\n",
            "-------------------------------\n"
          ]
        },
        {
          "metadata": {
            "tags": null
          },
          "name": "stderr",
          "output_type": "stream",
          "text": [
            "704it [01:02, 11.18it/s]\n"
          ]
        },
        {
          "metadata": {
            "tags": null
          },
          "name": "stdout",
          "output_type": "stream",
          "text": [
            "lr :0.009324776990626308\n",
            "Train Error: \n",
            " Accuracy: 57.3%, Avg loss: 1.675053 \n",
            "\n",
            "Test Error: \n",
            " Accuracy: 46.7%, Avg loss: 2.045627 \n",
            "\n",
            "Epoch 147\n",
            "-------------------------------\n"
          ]
        },
        {
          "metadata": {
            "tags": null
          },
          "name": "stderr",
          "output_type": "stream",
          "text": [
            "704it [01:03, 11.14it/s]\n"
          ]
        },
        {
          "metadata": {
            "tags": null
          },
          "name": "stdout",
          "output_type": "stream",
          "text": [
            "lr :0.009292246799033458\n",
            "Train Error: \n",
            " Accuracy: 57.2%, Avg loss: 1.089530 \n",
            "\n",
            "Test Error: \n",
            " Accuracy: 50.0%, Avg loss: 1.869612 \n",
            "\n",
            "Epoch 148\n",
            "-------------------------------\n"
          ]
        },
        {
          "metadata": {
            "tags": null
          },
          "name": "stderr",
          "output_type": "stream",
          "text": [
            "704it [01:03, 11.16it/s]\n"
          ]
        },
        {
          "metadata": {
            "tags": null
          },
          "name": "stdout",
          "output_type": "stream",
          "text": [
            "lr :0.009259010868164405\n",
            "Train Error: \n",
            " Accuracy: 57.1%, Avg loss: 2.553211 \n",
            "\n",
            "Test Error: \n",
            " Accuracy: 48.0%, Avg loss: 2.023866 \n",
            "\n",
            "Epoch 149\n",
            "-------------------------------\n"
          ]
        },
        {
          "metadata": {
            "tags": null
          },
          "name": "stderr",
          "output_type": "stream",
          "text": [
            "704it [01:06, 10.55it/s]\n"
          ]
        },
        {
          "metadata": {
            "tags": null
          },
          "name": "stdout",
          "output_type": "stream",
          "text": [
            "lr :0.009225074662758754\n",
            "Train Error: \n",
            " Accuracy: 57.3%, Avg loss: 2.082752 \n",
            "\n",
            "Test Error: \n",
            " Accuracy: 49.4%, Avg loss: 1.940587 \n",
            "\n",
            "Epoch 150\n",
            "-------------------------------\n"
          ]
        },
        {
          "metadata": {
            "tags": null
          },
          "name": "stderr",
          "output_type": "stream",
          "text": [
            "704it [01:02, 11.23it/s]\n"
          ]
        },
        {
          "metadata": {
            "tags": null
          },
          "name": "stdout",
          "output_type": "stream",
          "text": [
            "lr :0.009190443762697105\n",
            "Train Error: \n",
            " Accuracy: 57.4%, Avg loss: 2.770201 \n",
            "\n",
            "Test Error: \n",
            " Accuracy: 50.8%, Avg loss: 1.880890 \n",
            "\n",
            "Epoch 151\n",
            "-------------------------------\n"
          ]
        },
        {
          "metadata": {
            "tags": null
          },
          "name": "stderr",
          "output_type": "stream",
          "text": [
            "704it [01:02, 11.33it/s]\n"
          ]
        },
        {
          "metadata": {
            "tags": null
          },
          "name": "stdout",
          "output_type": "stream",
          "text": [
            "lr :0.00915512386208359\n",
            "Train Error: \n",
            " Accuracy: 57.8%, Avg loss: 0.850843 \n",
            "\n",
            "Test Error: \n",
            " Accuracy: 45.9%, Avg loss: 2.114461 \n",
            "\n",
            "Epoch 152\n",
            "-------------------------------\n"
          ]
        },
        {
          "metadata": {
            "tags": null
          },
          "name": "stderr",
          "output_type": "stream",
          "text": [
            "704it [01:02, 11.35it/s]\n"
          ]
        },
        {
          "metadata": {
            "tags": null
          },
          "name": "stdout",
          "output_type": "stream",
          "text": [
            "lr :0.009119120768309629\n",
            "Train Error: \n",
            " Accuracy: 57.8%, Avg loss: 1.575636 \n",
            "\n",
            "Test Error: \n",
            " Accuracy: 45.6%, Avg loss: 2.081074 \n",
            "\n",
            "Epoch 153\n",
            "-------------------------------\n"
          ]
        },
        {
          "metadata": {
            "tags": null
          },
          "name": "stderr",
          "output_type": "stream",
          "text": [
            "704it [01:01, 11.41it/s]\n"
          ]
        },
        {
          "metadata": {
            "tags": null
          },
          "name": "stdout",
          "output_type": "stream",
          "text": [
            "lr :0.00908244040109907\n",
            "Train Error: \n",
            " Accuracy: 57.6%, Avg loss: 2.318137 \n",
            "\n",
            "Test Error: \n",
            " Accuracy: 51.4%, Avg loss: 1.794004 \n",
            "\n",
            "Epoch 154\n",
            "-------------------------------\n"
          ]
        },
        {
          "metadata": {
            "tags": null
          },
          "name": "stderr",
          "output_type": "stream",
          "text": [
            "704it [01:03, 11.04it/s]\n"
          ]
        },
        {
          "metadata": {
            "tags": null
          },
          "name": "stdout",
          "output_type": "stream",
          "text": [
            "lr :0.00904508879153485\n",
            "Train Error: \n",
            " Accuracy: 57.7%, Avg loss: 2.517246 \n",
            "\n",
            "Test Error: \n",
            " Accuracy: 46.7%, Avg loss: 1.967205 \n",
            "\n",
            "Epoch 155\n",
            "-------------------------------\n"
          ]
        },
        {
          "metadata": {
            "tags": null
          },
          "name": "stderr",
          "output_type": "stream",
          "text": [
            "704it [01:01, 11.37it/s]\n"
          ]
        },
        {
          "metadata": {
            "tags": null
          },
          "name": "stdout",
          "output_type": "stream",
          "text": [
            "lr :0.009007072081067345\n",
            "Train Error: \n",
            " Accuracy: 58.0%, Avg loss: 1.798934 \n",
            "\n",
            "Test Error: \n",
            " Accuracy: 47.0%, Avg loss: 2.019112 \n",
            "\n",
            "Epoch 156\n",
            "-------------------------------\n"
          ]
        },
        {
          "metadata": {
            "tags": null
          },
          "name": "stderr",
          "output_type": "stream",
          "text": [
            "704it [01:01, 11.40it/s]\n"
          ]
        },
        {
          "metadata": {
            "tags": null
          },
          "name": "stdout",
          "output_type": "stream",
          "text": [
            "lr :0.008968396520504587\n",
            "Train Error: \n",
            " Accuracy: 58.0%, Avg loss: 1.810891 \n",
            "\n",
            "Test Error: \n",
            " Accuracy: 49.9%, Avg loss: 1.859625 \n",
            "\n",
            "Epoch 157\n",
            "-------------------------------\n"
          ]
        },
        {
          "metadata": {
            "tags": null
          },
          "name": "stderr",
          "output_type": "stream",
          "text": [
            "704it [01:01, 11.39it/s]\n"
          ]
        },
        {
          "metadata": {
            "tags": null
          },
          "name": "stdout",
          "output_type": "stream",
          "text": [
            "lr :0.008929068468984471\n",
            "Train Error: \n",
            " Accuracy: 57.8%, Avg loss: 2.120191 \n",
            "\n",
            "Test Error: \n",
            " Accuracy: 49.7%, Avg loss: 1.924371 \n",
            "\n",
            "Epoch 158\n",
            "-------------------------------\n"
          ]
        },
        {
          "metadata": {
            "tags": null
          },
          "name": "stderr",
          "output_type": "stream",
          "text": [
            "704it [01:04, 10.93it/s]\n"
          ]
        },
        {
          "metadata": {
            "tags": null
          },
          "name": "stdout",
          "output_type": "stream",
          "text": [
            "lr :0.00888909439292919\n",
            "Train Error: \n",
            " Accuracy: 58.2%, Avg loss: 1.453808 \n",
            "\n",
            "Test Error: \n",
            " Accuracy: 46.3%, Avg loss: 2.226482 \n",
            "\n",
            "Epoch 159\n",
            "-------------------------------\n"
          ]
        },
        {
          "metadata": {
            "tags": null
          },
          "name": "stderr",
          "output_type": "stream",
          "text": [
            "704it [01:02, 11.22it/s]\n"
          ]
        },
        {
          "metadata": {
            "tags": null
          },
          "name": "stdout",
          "output_type": "stream",
          "text": [
            "lr :0.008848480864981995\n",
            "Train Error: \n",
            " Accuracy: 58.1%, Avg loss: 1.061502 \n",
            "\n",
            "Test Error: \n",
            " Accuracy: 48.4%, Avg loss: 1.931545 \n",
            "\n",
            "Epoch 160\n",
            "-------------------------------\n"
          ]
        },
        {
          "metadata": {
            "tags": null
          },
          "name": "stderr",
          "output_type": "stream",
          "text": [
            "704it [01:02, 11.31it/s]\n"
          ]
        },
        {
          "metadata": {
            "tags": null
          },
          "name": "stdout",
          "output_type": "stream",
          "text": [
            "lr :0.008807234562926505\n",
            "Train Error: \n",
            " Accuracy: 58.5%, Avg loss: 1.587567 \n",
            "\n",
            "Test Error: \n",
            " Accuracy: 46.7%, Avg loss: 1.993956 \n",
            "\n",
            "Epoch 161\n",
            "-------------------------------\n"
          ]
        },
        {
          "metadata": {
            "tags": null
          },
          "name": "stderr",
          "output_type": "stream",
          "text": [
            "704it [01:02, 11.32it/s]\n"
          ]
        },
        {
          "metadata": {
            "tags": null
          },
          "name": "stdout",
          "output_type": "stream",
          "text": [
            "lr :0.008765362268588735\n",
            "Train Error: \n",
            " Accuracy: 58.4%, Avg loss: 1.785198 \n",
            "\n",
            "Test Error: \n",
            " Accuracy: 50.9%, Avg loss: 1.851123 \n",
            "\n",
            "Epoch 162\n",
            "-------------------------------\n"
          ]
        },
        {
          "metadata": {
            "tags": null
          },
          "name": "stderr",
          "output_type": "stream",
          "text": [
            "704it [01:01, 11.36it/s]\n"
          ]
        },
        {
          "metadata": {
            "tags": null
          },
          "name": "stdout",
          "output_type": "stream",
          "text": [
            "lr :0.008722870866722002\n",
            "Train Error: \n",
            " Accuracy: 58.4%, Avg loss: 1.370666 \n",
            "\n",
            "Test Error: \n",
            " Accuracy: 50.7%, Avg loss: 1.852514 \n",
            "\n",
            "Epoch 163\n",
            "-------------------------------\n"
          ]
        },
        {
          "metadata": {
            "tags": null
          },
          "name": "stderr",
          "output_type": "stream",
          "text": [
            "704it [01:03, 11.05it/s]\n"
          ]
        },
        {
          "metadata": {
            "tags": null
          },
          "name": "stdout",
          "output_type": "stream",
          "text": [
            "lr :0.008679767343874923\n",
            "Train Error: \n",
            " Accuracy: 58.6%, Avg loss: 1.263644 \n",
            "\n",
            "Test Error: \n",
            " Accuracy: 52.4%, Avg loss: 1.750980 \n",
            "\n",
            "Epoch 164\n",
            "-------------------------------\n"
          ]
        },
        {
          "metadata": {
            "tags": null
          },
          "name": "stderr",
          "output_type": "stream",
          "text": [
            "704it [01:01, 11.48it/s]\n"
          ]
        },
        {
          "metadata": {
            "tags": null
          },
          "name": "stdout",
          "output_type": "stream",
          "text": [
            "lr :0.00863605878724266\n",
            "Train Error: \n",
            " Accuracy: 58.8%, Avg loss: 1.361170 \n",
            "\n",
            "Test Error: \n",
            " Accuracy: 47.3%, Avg loss: 1.996411 \n",
            "\n",
            "Epoch 165\n",
            "-------------------------------\n"
          ]
        },
        {
          "metadata": {
            "tags": null
          },
          "name": "stderr",
          "output_type": "stream",
          "text": [
            "704it [01:00, 11.54it/s]\n"
          ]
        },
        {
          "metadata": {
            "tags": null
          },
          "name": "stdout",
          "output_type": "stream",
          "text": [
            "lr :0.008591752383501636\n",
            "Train Error: \n",
            " Accuracy: 58.6%, Avg loss: 1.141705 \n",
            "\n",
            "Test Error: \n",
            " Accuracy: 40.2%, Avg loss: 2.398601 \n",
            "\n",
            "Epoch 166\n",
            "-------------------------------\n"
          ]
        },
        {
          "metadata": {
            "tags": null
          },
          "name": "stderr",
          "output_type": "stream",
          "text": [
            "704it [01:00, 11.56it/s]\n"
          ]
        },
        {
          "metadata": {
            "tags": null
          },
          "name": "stdout",
          "output_type": "stream",
          "text": [
            "lr :0.008546855417627869\n",
            "Train Error: \n",
            " Accuracy: 58.4%, Avg loss: 2.934886 \n",
            "\n",
            "Test Error: \n",
            " Accuracy: 48.0%, Avg loss: 2.016398 \n",
            "\n",
            "Epoch 167\n",
            "-------------------------------\n"
          ]
        },
        {
          "metadata": {
            "tags": null
          },
          "name": "stderr",
          "output_type": "stream",
          "text": [
            "704it [01:01, 11.53it/s]\n"
          ]
        },
        {
          "metadata": {
            "tags": null
          },
          "name": "stdout",
          "output_type": "stream",
          "text": [
            "lr :0.008501375271699167\n",
            "Train Error: \n",
            " Accuracy: 58.8%, Avg loss: 1.944965 \n",
            "\n",
            "Test Error: \n",
            " Accuracy: 47.5%, Avg loss: 1.968751 \n",
            "\n",
            "Epoch 168\n",
            "-------------------------------\n"
          ]
        },
        {
          "metadata": {
            "tags": null
          },
          "name": "stderr",
          "output_type": "stream",
          "text": [
            "704it [01:03, 11.12it/s]\n"
          ]
        },
        {
          "metadata": {
            "tags": null
          },
          "name": "stdout",
          "output_type": "stream",
          "text": [
            "lr :0.008455319423681345\n",
            "Train Error: \n",
            " Accuracy: 59.0%, Avg loss: 2.112530 \n",
            "\n",
            "Test Error: \n",
            " Accuracy: 52.2%, Avg loss: 1.765541 \n",
            "\n",
            "Epoch 169\n",
            "-------------------------------\n"
          ]
        },
        {
          "metadata": {
            "tags": null
          },
          "name": "stderr",
          "output_type": "stream",
          "text": [
            "704it [01:01, 11.40it/s]\n"
          ]
        },
        {
          "metadata": {
            "tags": null
          },
          "name": "stdout",
          "output_type": "stream",
          "text": [
            "lr :0.008408695446198674\n",
            "Train Error: \n",
            " Accuracy: 58.6%, Avg loss: 1.516929 \n",
            "\n",
            "Test Error: \n",
            " Accuracy: 53.5%, Avg loss: 1.725112 \n",
            "\n",
            "---------------------Model saved base correct:0.5348\n",
            "Epoch 170\n",
            "-------------------------------\n"
          ]
        },
        {
          "metadata": {
            "tags": null
          },
          "name": "stderr",
          "output_type": "stream",
          "text": [
            "704it [01:01, 11.39it/s]\n"
          ]
        },
        {
          "metadata": {
            "tags": null
          },
          "name": "stdout",
          "output_type": "stream",
          "text": [
            "lr :0.008361511005288778\n",
            "Train Error: \n",
            " Accuracy: 59.2%, Avg loss: 1.478258 \n",
            "\n",
            "Test Error: \n",
            " Accuracy: 52.4%, Avg loss: 1.754943 \n",
            "\n",
            "Epoch 171\n",
            "-------------------------------\n"
          ]
        },
        {
          "metadata": {
            "tags": null
          },
          "name": "stderr",
          "output_type": "stream",
          "text": [
            "704it [01:01, 11.44it/s]\n"
          ]
        },
        {
          "metadata": {
            "tags": null
          },
          "name": "stdout",
          "output_type": "stream",
          "text": [
            "lr :0.008313773859142158\n",
            "Train Error: \n",
            " Accuracy: 59.0%, Avg loss: 2.593418 \n",
            "\n",
            "Test Error: \n",
            " Accuracy: 52.8%, Avg loss: 1.744807 \n",
            "\n",
            "Epoch 172\n",
            "-------------------------------\n"
          ]
        },
        {
          "metadata": {
            "tags": null
          },
          "name": "stderr",
          "output_type": "stream",
          "text": [
            "704it [01:02, 11.18it/s]\n"
          ]
        },
        {
          "metadata": {
            "tags": null
          },
          "name": "stdout",
          "output_type": "stream",
          "text": [
            "lr :0.008265491856826568\n",
            "Train Error: \n",
            " Accuracy: 59.2%, Avg loss: 1.732268 \n",
            "\n",
            "Test Error: \n",
            " Accuracy: 50.3%, Avg loss: 1.832754 \n",
            "\n",
            "Epoch 173\n",
            "-------------------------------\n"
          ]
        },
        {
          "metadata": {
            "tags": null
          },
          "name": "stderr",
          "output_type": "stream",
          "text": [
            "704it [01:01, 11.41it/s]\n"
          ]
        },
        {
          "metadata": {
            "tags": null
          },
          "name": "stdout",
          "output_type": "stream",
          "text": [
            "lr :0.008216672936996456\n",
            "Train Error: \n",
            " Accuracy: 59.2%, Avg loss: 1.595506 \n",
            "\n",
            "Test Error: \n",
            " Accuracy: 48.1%, Avg loss: 2.013428 \n",
            "\n",
            "Epoch 174\n",
            "-------------------------------\n"
          ]
        },
        {
          "metadata": {
            "tags": null
          },
          "name": "stderr",
          "output_type": "stream",
          "text": [
            "704it [01:01, 11.37it/s]\n"
          ]
        },
        {
          "metadata": {
            "tags": null
          },
          "name": "stdout",
          "output_type": "stream",
          "text": [
            "lr :0.008167325126587667\n",
            "Train Error: \n",
            " Accuracy: 59.2%, Avg loss: 2.416333 \n",
            "\n",
            "Test Error: \n",
            " Accuracy: 50.3%, Avg loss: 1.860805 \n",
            "\n",
            "Epoch 175\n",
            "-------------------------------\n"
          ]
        },
        {
          "metadata": {
            "tags": null
          },
          "name": "stderr",
          "output_type": "stream",
          "text": [
            "704it [01:02, 11.32it/s]\n"
          ]
        },
        {
          "metadata": {
            "tags": null
          },
          "name": "stdout",
          "output_type": "stream",
          "text": [
            "lr :0.008117456539497631\n",
            "Train Error: \n",
            " Accuracy: 59.3%, Avg loss: 1.551969 \n",
            "\n",
            "Test Error: \n",
            " Accuracy: 52.3%, Avg loss: 1.759407 \n",
            "\n",
            "Epoch 176\n",
            "-------------------------------\n"
          ]
        },
        {
          "metadata": {
            "tags": null
          },
          "name": "stderr",
          "output_type": "stream",
          "text": [
            "704it [01:02, 11.35it/s]\n"
          ]
        },
        {
          "metadata": {
            "tags": null
          },
          "name": "stdout",
          "output_type": "stream",
          "text": [
            "lr :0.008067075375251259\n",
            "Train Error: \n",
            " Accuracy: 59.7%, Avg loss: 1.070323 \n",
            "\n",
            "Test Error: \n",
            " Accuracy: 50.3%, Avg loss: 1.801179 \n",
            "\n",
            "Epoch 177\n",
            "-------------------------------\n"
          ]
        },
        {
          "metadata": {
            "tags": null
          },
          "name": "stderr",
          "output_type": "stream",
          "text": [
            "704it [01:03, 11.09it/s]\n"
          ]
        },
        {
          "metadata": {
            "tags": null
          },
          "name": "stdout",
          "output_type": "stream",
          "text": [
            "lr :0.008016189917652752\n",
            "Train Error: \n",
            " Accuracy: 59.6%, Avg loss: 1.904264 \n",
            "\n",
            "Test Error: \n",
            " Accuracy: 54.5%, Avg loss: 1.635750 \n",
            "\n",
            "---------------------Model saved base correct:0.5454\n",
            "Epoch 178\n",
            "-------------------------------\n"
          ]
        },
        {
          "metadata": {
            "tags": null
          },
          "name": "stderr",
          "output_type": "stream",
          "text": [
            "704it [01:02, 11.33it/s]\n"
          ]
        },
        {
          "metadata": {
            "tags": null
          },
          "name": "stdout",
          "output_type": "stream",
          "text": [
            "lr :0.007964808533423559\n",
            "Train Error: \n",
            " Accuracy: 59.8%, Avg loss: 2.973540 \n",
            "\n",
            "Test Error: \n",
            " Accuracy: 46.1%, Avg loss: 2.186726 \n",
            "\n",
            "Epoch 179\n",
            "-------------------------------\n"
          ]
        },
        {
          "metadata": {
            "tags": null
          },
          "name": "stderr",
          "output_type": "stream",
          "text": [
            "704it [01:02, 11.30it/s]\n"
          ]
        },
        {
          "metadata": {
            "tags": null
          },
          "name": "stdout",
          "output_type": "stream",
          "text": [
            "lr :0.00791293967082669\n",
            "Train Error: \n",
            " Accuracy: 59.8%, Avg loss: 1.330462 \n",
            "\n",
            "Test Error: \n",
            " Accuracy: 51.0%, Avg loss: 1.918035 \n",
            "\n",
            "Epoch 180\n",
            "-------------------------------\n"
          ]
        },
        {
          "metadata": {
            "tags": null
          },
          "name": "stderr",
          "output_type": "stream",
          "text": [
            "704it [01:01, 11.36it/s]\n"
          ]
        },
        {
          "metadata": {
            "tags": null
          },
          "name": "stdout",
          "output_type": "stream",
          "text": [
            "lr :0.007860591858277645\n",
            "Train Error: \n",
            " Accuracy: 59.9%, Avg loss: 1.333086 \n",
            "\n",
            "Test Error: \n",
            " Accuracy: 54.4%, Avg loss: 1.664715 \n",
            "\n",
            "Epoch 181\n",
            "-------------------------------\n"
          ]
        },
        {
          "metadata": {
            "tags": null
          },
          "name": "stderr",
          "output_type": "stream",
          "text": [
            "704it [01:01, 11.38it/s]\n"
          ]
        },
        {
          "metadata": {
            "tags": null
          },
          "name": "stdout",
          "output_type": "stream",
          "text": [
            "lr :0.007807773702942138\n",
            "Train Error: \n",
            " Accuracy: 60.1%, Avg loss: 1.285452 \n",
            "\n",
            "Test Error: \n",
            " Accuracy: 56.1%, Avg loss: 1.576768 \n",
            "\n",
            "---------------------Model saved base correct:0.5614\n",
            "Epoch 182\n",
            "-------------------------------\n"
          ]
        },
        {
          "metadata": {
            "tags": null
          },
          "name": "stderr",
          "output_type": "stream",
          "text": [
            "704it [01:03, 11.08it/s]\n"
          ]
        },
        {
          "metadata": {
            "tags": null
          },
          "name": "stdout",
          "output_type": "stream",
          "text": [
            "lr :0.007754493889320884\n",
            "Train Error: \n",
            " Accuracy: 60.3%, Avg loss: 1.459499 \n",
            "\n",
            "Test Error: \n",
            " Accuracy: 50.2%, Avg loss: 1.895422 \n",
            "\n",
            "Epoch 183\n",
            "-------------------------------\n"
          ]
        },
        {
          "metadata": {
            "tags": null
          },
          "name": "stderr",
          "output_type": "stream",
          "text": [
            "704it [01:01, 11.39it/s]\n"
          ]
        },
        {
          "metadata": {
            "tags": null
          },
          "name": "stdout",
          "output_type": "stream",
          "text": [
            "lr :0.007700761177821678\n",
            "Train Error: \n",
            " Accuracy: 60.3%, Avg loss: 1.300470 \n",
            "\n",
            "Test Error: \n",
            " Accuracy: 51.2%, Avg loss: 1.773714 \n",
            "\n",
            "Epoch 184\n",
            "-------------------------------\n"
          ]
        },
        {
          "metadata": {
            "tags": null
          },
          "name": "stderr",
          "output_type": "stream",
          "text": [
            "704it [01:02, 11.33it/s]\n"
          ]
        },
        {
          "metadata": {
            "tags": null
          },
          "name": "stdout",
          "output_type": "stream",
          "text": [
            "lr :0.007646584403318979\n",
            "Train Error: \n",
            " Accuracy: 60.1%, Avg loss: 2.323887 \n",
            "\n",
            "Test Error: \n",
            " Accuracy: 51.3%, Avg loss: 1.820149 \n",
            "\n",
            "Epoch 185\n",
            "-------------------------------\n"
          ]
        },
        {
          "metadata": {
            "tags": null
          },
          "name": "stderr",
          "output_type": "stream",
          "text": [
            "704it [01:02, 11.34it/s]\n"
          ]
        },
        {
          "metadata": {
            "tags": null
          },
          "name": "stdout",
          "output_type": "stream",
          "text": [
            "lr :0.00759197247370126\n",
            "Train Error: \n",
            " Accuracy: 60.5%, Avg loss: 0.916939 \n",
            "\n",
            "Test Error: \n",
            " Accuracy: 50.6%, Avg loss: 1.829639 \n",
            "\n",
            "Epoch 186\n",
            "-------------------------------\n"
          ]
        },
        {
          "metadata": {
            "tags": null
          },
          "name": "stderr",
          "output_type": "stream",
          "text": [
            "704it [01:03, 11.14it/s]\n"
          ]
        },
        {
          "metadata": {
            "tags": null
          },
          "name": "stdout",
          "output_type": "stream",
          "text": [
            "lr :0.007536934368406347\n",
            "Train Error: \n",
            " Accuracy: 60.8%, Avg loss: 2.678548 \n",
            "\n",
            "Test Error: \n",
            " Accuracy: 53.9%, Avg loss: 1.720484 \n",
            "\n",
            "Epoch 187\n",
            "-------------------------------\n"
          ]
        },
        {
          "metadata": {
            "tags": null
          },
          "name": "stderr",
          "output_type": "stream",
          "text": [
            "704it [01:01, 11.45it/s]\n"
          ]
        },
        {
          "metadata": {
            "tags": null
          },
          "name": "stdout",
          "output_type": "stream",
          "text": [
            "lr :0.007481479136945\n",
            "Train Error: \n",
            " Accuracy: 60.6%, Avg loss: 3.285961 \n",
            "\n",
            "Test Error: \n",
            " Accuracy: 50.7%, Avg loss: 1.893808 \n",
            "\n",
            "Epoch 188\n",
            "-------------------------------\n"
          ]
        },
        {
          "metadata": {
            "tags": null
          },
          "name": "stderr",
          "output_type": "stream",
          "text": [
            "704it [01:01, 11.42it/s]\n"
          ]
        },
        {
          "metadata": {
            "tags": null
          },
          "name": "stdout",
          "output_type": "stream",
          "text": [
            "lr :0.007425615897412961\n",
            "Train Error: \n",
            " Accuracy: 60.6%, Avg loss: 3.630914 \n",
            "\n",
            "Test Error: \n",
            " Accuracy: 54.3%, Avg loss: 1.710226 \n",
            "\n",
            "Epoch 189\n",
            "-------------------------------\n"
          ]
        },
        {
          "metadata": {
            "tags": null
          },
          "name": "stderr",
          "output_type": "stream",
          "text": [
            "704it [01:01, 11.42it/s]\n"
          ]
        },
        {
          "metadata": {
            "tags": null
          },
          "name": "stdout",
          "output_type": "stream",
          "text": [
            "lr :0.007369353834991744\n",
            "Train Error: \n",
            " Accuracy: 60.6%, Avg loss: 2.615420 \n",
            "\n",
            "Test Error: \n",
            " Accuracy: 53.4%, Avg loss: 1.716260 \n",
            "\n",
            "Epoch 190\n",
            "-------------------------------\n"
          ]
        },
        {
          "metadata": {
            "tags": null
          },
          "name": "stderr",
          "output_type": "stream",
          "text": [
            "704it [01:01, 11.44it/s]\n"
          ]
        },
        {
          "metadata": {
            "tags": null
          },
          "name": "stdout",
          "output_type": "stream",
          "text": [
            "lr :0.007312702200438372\n",
            "Train Error: \n",
            " Accuracy: 60.8%, Avg loss: 2.125380 \n",
            "\n",
            "Test Error: \n",
            " Accuracy: 52.3%, Avg loss: 1.759573 \n",
            "\n",
            "Epoch 191\n",
            "-------------------------------\n"
          ]
        },
        {
          "metadata": {
            "tags": null
          },
          "name": "stderr",
          "output_type": "stream",
          "text": [
            "704it [01:03, 11.04it/s]\n"
          ]
        },
        {
          "metadata": {
            "tags": null
          },
          "name": "stdout",
          "output_type": "stream",
          "text": [
            "lr :0.007255670308564348\n",
            "Train Error: \n",
            " Accuracy: 60.7%, Avg loss: 2.574211 \n",
            "\n",
            "Test Error: \n",
            " Accuracy: 51.6%, Avg loss: 1.808255 \n",
            "\n",
            "Epoch 192\n",
            "-------------------------------\n"
          ]
        },
        {
          "metadata": {
            "tags": null
          },
          "name": "stderr",
          "output_type": "stream",
          "text": [
            "704it [01:01, 11.37it/s]\n"
          ]
        },
        {
          "metadata": {
            "tags": null
          },
          "name": "stdout",
          "output_type": "stream",
          "text": [
            "lr :0.007198267536704092\n",
            "Train Error: \n",
            " Accuracy: 61.0%, Avg loss: 2.092227 \n",
            "\n",
            "Test Error: \n",
            " Accuracy: 59.3%, Avg loss: 1.444200 \n",
            "\n",
            "---------------------Model saved base correct:0.5926\n",
            "Epoch 193\n",
            "-------------------------------\n"
          ]
        },
        {
          "metadata": {
            "tags": null
          },
          "name": "stderr",
          "output_type": "stream",
          "text": [
            "704it [01:01, 11.40it/s]\n"
          ]
        },
        {
          "metadata": {
            "tags": null
          },
          "name": "stdout",
          "output_type": "stream",
          "text": [
            "lr :0.007140503323173088\n",
            "Train Error: \n",
            " Accuracy: 61.3%, Avg loss: 1.650998 \n",
            "\n",
            "Test Error: \n",
            " Accuracy: 49.4%, Avg loss: 1.916075 \n",
            "\n",
            "Epoch 194\n",
            "-------------------------------\n"
          ]
        },
        {
          "metadata": {
            "tags": null
          },
          "name": "stderr",
          "output_type": "stream",
          "text": [
            "704it [01:01, 11.37it/s]\n"
          ]
        },
        {
          "metadata": {
            "tags": null
          },
          "name": "stdout",
          "output_type": "stream",
          "text": [
            "lr :0.007082387165716015\n",
            "Train Error: \n",
            " Accuracy: 61.5%, Avg loss: 1.322360 \n",
            "\n",
            "Test Error: \n",
            " Accuracy: 51.9%, Avg loss: 1.796898 \n",
            "\n",
            "Epoch 195\n",
            "-------------------------------\n"
          ]
        },
        {
          "metadata": {
            "tags": null
          },
          "name": "stderr",
          "output_type": "stream",
          "text": [
            "704it [01:02, 11.35it/s]\n"
          ]
        },
        {
          "metadata": {
            "tags": null
          },
          "name": "stdout",
          "output_type": "stream",
          "text": [
            "lr :0.007023928619945106\n",
            "Train Error: \n",
            " Accuracy: 61.2%, Avg loss: 1.127765 \n",
            "\n",
            "Test Error: \n",
            " Accuracy: 53.8%, Avg loss: 1.692969 \n",
            "\n",
            "Epoch 196\n",
            "-------------------------------\n"
          ]
        },
        {
          "metadata": {
            "tags": null
          },
          "name": "stderr",
          "output_type": "stream",
          "text": [
            "704it [01:03, 11.11it/s]\n"
          ]
        },
        {
          "metadata": {
            "tags": null
          },
          "name": "stdout",
          "output_type": "stream",
          "text": [
            "lr :0.006965137297768985\n",
            "Train Error: \n",
            " Accuracy: 61.3%, Avg loss: 1.160487 \n",
            "\n",
            "Test Error: \n",
            " Accuracy: 53.1%, Avg loss: 1.702941 \n",
            "\n",
            "Epoch 197\n",
            "-------------------------------\n"
          ]
        },
        {
          "metadata": {
            "tags": null
          },
          "name": "stderr",
          "output_type": "stream",
          "text": [
            "704it [01:01, 11.42it/s]\n"
          ]
        },
        {
          "metadata": {
            "tags": null
          },
          "name": "stdout",
          "output_type": "stream",
          "text": [
            "lr :0.0069060228658122495\n",
            "Train Error: \n",
            " Accuracy: 61.5%, Avg loss: 2.457804 \n",
            "\n",
            "Test Error: \n",
            " Accuracy: 49.6%, Avg loss: 1.919343 \n",
            "\n",
            "Epoch 198\n",
            "-------------------------------\n"
          ]
        },
        {
          "metadata": {
            "tags": null
          },
          "name": "stderr",
          "output_type": "stream",
          "text": [
            "704it [01:00, 11.55it/s]\n"
          ]
        },
        {
          "metadata": {
            "tags": null
          },
          "name": "stdout",
          "output_type": "stream",
          "text": [
            "lr :0.006846595043826061\n",
            "Train Error: \n",
            " Accuracy: 61.8%, Avg loss: 1.663400 \n",
            "\n",
            "Test Error: \n",
            " Accuracy: 54.5%, Avg loss: 1.695094 \n",
            "\n",
            "Epoch 199\n",
            "-------------------------------\n"
          ]
        },
        {
          "metadata": {
            "tags": null
          },
          "name": "stderr",
          "output_type": "stream",
          "text": [
            "704it [01:00, 11.55it/s]\n"
          ]
        },
        {
          "metadata": {
            "tags": null
          },
          "name": "stdout",
          "output_type": "stream",
          "text": [
            "lr :0.006786863603090003\n",
            "Train Error: \n",
            " Accuracy: 61.4%, Avg loss: 3.215226 \n",
            "\n",
            "Test Error: \n",
            " Accuracy: 55.0%, Avg loss: 1.664279 \n",
            "\n",
            "Epoch 200\n",
            "-------------------------------\n"
          ]
        },
        {
          "metadata": {
            "tags": null
          },
          "name": "stderr",
          "output_type": "stream",
          "text": [
            "704it [01:02, 11.32it/s]\n"
          ]
        },
        {
          "metadata": {
            "tags": null
          },
          "name": "stdout",
          "output_type": "stream",
          "text": [
            "lr :0.0067268383648054495\n",
            "Train Error: \n",
            " Accuracy: 61.8%, Avg loss: 1.933797 \n",
            "\n",
            "Test Error: \n",
            " Accuracy: 54.3%, Avg loss: 1.737494 \n",
            "\n",
            "Epoch 201\n",
            "-------------------------------\n"
          ]
        },
        {
          "metadata": {
            "tags": null
          },
          "name": "stderr",
          "output_type": "stream",
          "text": [
            "704it [01:00, 11.57it/s]\n"
          ]
        },
        {
          "metadata": {
            "tags": null
          },
          "name": "stdout",
          "output_type": "stream",
          "text": [
            "lr :0.006666529198480751\n",
            "Train Error: \n",
            " Accuracy: 62.0%, Avg loss: 1.766026 \n",
            "\n",
            "Test Error: \n",
            " Accuracy: 55.6%, Avg loss: 1.593588 \n",
            "\n",
            "Epoch 202\n",
            "-------------------------------\n"
          ]
        },
        {
          "metadata": {
            "tags": null
          },
          "name": "stderr",
          "output_type": "stream",
          "text": [
            "704it [01:01, 11.50it/s]\n"
          ]
        },
        {
          "metadata": {
            "tags": null
          },
          "name": "stdout",
          "output_type": "stream",
          "text": [
            "lr :0.0066059460203084525\n",
            "Train Error: \n",
            " Accuracy: 62.1%, Avg loss: 1.686038 \n",
            "\n",
            "Test Error: \n",
            " Accuracy: 57.0%, Avg loss: 1.562562 \n",
            "\n",
            "Epoch 203\n",
            "-------------------------------\n"
          ]
        },
        {
          "metadata": {
            "tags": null
          },
          "name": "stderr",
          "output_type": "stream",
          "text": [
            "704it [01:01, 11.49it/s]\n"
          ]
        },
        {
          "metadata": {
            "tags": null
          },
          "name": "stdout",
          "output_type": "stream",
          "text": [
            "lr :0.00654509879153485\n",
            "Train Error: \n",
            " Accuracy: 62.0%, Avg loss: 1.942862 \n",
            "\n",
            "Test Error: \n",
            " Accuracy: 56.2%, Avg loss: 1.595871 \n",
            "\n",
            "Epoch 204\n",
            "-------------------------------\n"
          ]
        },
        {
          "metadata": {
            "tags": null
          },
          "name": "stderr",
          "output_type": "stream",
          "text": [
            "704it [01:00, 11.58it/s]\n"
          ]
        },
        {
          "metadata": {
            "tags": null
          },
          "name": "stdout",
          "output_type": "stream",
          "text": [
            "lr :0.0064839975168221415\n",
            "Train Error: \n",
            " Accuracy: 62.3%, Avg loss: 2.134511 \n",
            "\n",
            "Test Error: \n",
            " Accuracy: 50.1%, Avg loss: 1.893424 \n",
            "\n",
            "Epoch 205\n",
            "-------------------------------\n"
          ]
        },
        {
          "metadata": {
            "tags": null
          },
          "name": "stderr",
          "output_type": "stream",
          "text": [
            "704it [01:02, 11.32it/s]\n"
          ]
        },
        {
          "metadata": {
            "tags": null
          },
          "name": "stdout",
          "output_type": "stream",
          "text": [
            "lr :0.00642265224260343\n",
            "Train Error: \n",
            " Accuracy: 62.4%, Avg loss: 1.783946 \n",
            "\n",
            "Test Error: \n",
            " Accuracy: 56.4%, Avg loss: 1.596920 \n",
            "\n",
            "Epoch 206\n",
            "-------------------------------\n"
          ]
        },
        {
          "metadata": {
            "tags": null
          },
          "name": "stderr",
          "output_type": "stream",
          "text": [
            "704it [01:00, 11.60it/s]\n"
          ]
        },
        {
          "metadata": {
            "tags": null
          },
          "name": "stdout",
          "output_type": "stream",
          "text": [
            "lr :0.006361073055430857\n",
            "Train Error: \n",
            " Accuracy: 62.2%, Avg loss: 1.616147 \n",
            "\n",
            "Test Error: \n",
            " Accuracy: 49.9%, Avg loss: 1.874728 \n",
            "\n",
            "Epoch 207\n",
            "-------------------------------\n"
          ]
        },
        {
          "metadata": {
            "tags": null
          },
          "name": "stderr",
          "output_type": "stream",
          "text": [
            "704it [01:00, 11.59it/s]\n"
          ]
        },
        {
          "metadata": {
            "tags": null
          },
          "name": "stdout",
          "output_type": "stream",
          "text": [
            "lr :0.006299270080317156\n",
            "Train Error: \n",
            " Accuracy: 62.7%, Avg loss: 1.420594 \n",
            "\n",
            "Test Error: \n",
            " Accuracy: 56.3%, Avg loss: 1.568106 \n",
            "\n",
            "Epoch 208\n",
            "-------------------------------\n"
          ]
        },
        {
          "metadata": {
            "tags": null
          },
          "name": "stderr",
          "output_type": "stream",
          "text": [
            "704it [01:01, 11.43it/s]\n"
          ]
        },
        {
          "metadata": {
            "tags": null
          },
          "name": "stdout",
          "output_type": "stream",
          "text": [
            "lr :0.00623725347907086\n",
            "Train Error: \n",
            " Accuracy: 62.9%, Avg loss: 1.364790 \n",
            "\n",
            "Test Error: \n",
            " Accuracy: 55.6%, Avg loss: 1.611459 \n",
            "\n",
            "Epoch 209\n",
            "-------------------------------\n"
          ]
        },
        {
          "metadata": {
            "tags": null
          },
          "name": "stderr",
          "output_type": "stream",
          "text": [
            "704it [01:01, 11.52it/s]\n"
          ]
        },
        {
          "metadata": {
            "tags": null
          },
          "name": "stdout",
          "output_type": "stream",
          "text": [
            "lr :0.006175033448625481\n",
            "Train Error: \n",
            " Accuracy: 62.7%, Avg loss: 1.600736 \n",
            "\n",
            "Test Error: \n",
            " Accuracy: 52.7%, Avg loss: 1.737235 \n",
            "\n",
            "Epoch 210\n",
            "-------------------------------\n"
          ]
        },
        {
          "metadata": {
            "tags": null
          },
          "name": "stderr",
          "output_type": "stream",
          "text": [
            "704it [01:02, 11.25it/s]\n"
          ]
        },
        {
          "metadata": {
            "tags": null
          },
          "name": "stdout",
          "output_type": "stream",
          "text": [
            "lr :0.0061126202193628925\n",
            "Train Error: \n",
            " Accuracy: 62.6%, Avg loss: 1.482210 \n",
            "\n",
            "Test Error: \n",
            " Accuracy: 53.7%, Avg loss: 1.664628 \n",
            "\n",
            "Epoch 211\n",
            "-------------------------------\n"
          ]
        },
        {
          "metadata": {
            "tags": null
          },
          "name": "stderr",
          "output_type": "stream",
          "text": [
            "704it [01:01, 11.50it/s]\n"
          ]
        },
        {
          "metadata": {
            "tags": null
          },
          "name": "stdout",
          "output_type": "stream",
          "text": [
            "lr :0.006050024053431233\n",
            "Train Error: \n",
            " Accuracy: 63.3%, Avg loss: 1.768594 \n",
            "\n",
            "Test Error: \n",
            " Accuracy: 55.6%, Avg loss: 1.592850 \n",
            "\n",
            "Epoch 212\n",
            "-------------------------------\n"
          ]
        },
        {
          "metadata": {
            "tags": null
          },
          "name": "stderr",
          "output_type": "stream",
          "text": [
            "704it [01:01, 11.53it/s]\n"
          ]
        },
        {
          "metadata": {
            "tags": null
          },
          "name": "stdout",
          "output_type": "stream",
          "text": [
            "lr :0.0059872552430575675\n",
            "Train Error: \n",
            " Accuracy: 62.9%, Avg loss: 1.099866 \n",
            "\n",
            "Test Error: \n",
            " Accuracy: 54.0%, Avg loss: 1.689495 \n",
            "\n",
            "Epoch 213\n",
            "-------------------------------\n"
          ]
        },
        {
          "metadata": {
            "tags": null
          },
          "name": "stderr",
          "output_type": "stream",
          "text": [
            "704it [01:01, 11.45it/s]\n"
          ]
        },
        {
          "metadata": {
            "tags": null
          },
          "name": "stdout",
          "output_type": "stream",
          "text": [
            "lr :0.00592432410885562\n",
            "Train Error: \n",
            " Accuracy: 63.2%, Avg loss: 1.838506 \n",
            "\n",
            "Test Error: \n",
            " Accuracy: 55.3%, Avg loss: 1.606390 \n",
            "\n",
            "Epoch 214\n",
            "-------------------------------\n"
          ]
        },
        {
          "metadata": {
            "tags": null
          },
          "name": "stderr",
          "output_type": "stream",
          "text": [
            "704it [01:03, 11.17it/s]\n"
          ]
        },
        {
          "metadata": {
            "tags": null
          },
          "name": "stdout",
          "output_type": "stream",
          "text": [
            "lr :0.005861240998128823\n",
            "Train Error: \n",
            " Accuracy: 63.3%, Avg loss: 2.466029 \n",
            "\n",
            "Test Error: \n",
            " Accuracy: 56.2%, Avg loss: 1.601987 \n",
            "\n",
            "Epoch 215\n",
            "-------------------------------\n"
          ]
        },
        {
          "metadata": {
            "tags": null
          },
          "name": "stderr",
          "output_type": "stream",
          "text": [
            "704it [01:01, 11.54it/s]\n"
          ]
        },
        {
          "metadata": {
            "tags": null
          },
          "name": "stdout",
          "output_type": "stream",
          "text": [
            "lr :0.005798016283168996\n",
            "Train Error: \n",
            " Accuracy: 63.5%, Avg loss: 2.844957 \n",
            "\n",
            "Test Error: \n",
            " Accuracy: 55.4%, Avg loss: 1.627354 \n",
            "\n",
            "Epoch 216\n",
            "-------------------------------\n"
          ]
        },
        {
          "metadata": {
            "tags": null
          },
          "name": "stderr",
          "output_type": "stream",
          "text": [
            "704it [01:00, 11.58it/s]\n"
          ]
        },
        {
          "metadata": {
            "tags": null
          },
          "name": "stdout",
          "output_type": "stream",
          "text": [
            "lr :0.005734660359550898\n",
            "Train Error: \n",
            " Accuracy: 63.7%, Avg loss: 1.548954 \n",
            "\n",
            "Test Error: \n",
            " Accuracy: 53.1%, Avg loss: 1.761791 \n",
            "\n",
            "Epoch 217\n",
            "-------------------------------\n"
          ]
        },
        {
          "metadata": {
            "tags": null
          },
          "name": "stderr",
          "output_type": "stream",
          "text": [
            "704it [01:00, 11.57it/s]\n"
          ]
        },
        {
          "metadata": {
            "tags": null
          },
          "name": "stdout",
          "output_type": "stream",
          "text": [
            "lr :0.005671183644422961\n",
            "Train Error: \n",
            " Accuracy: 63.7%, Avg loss: 2.505947 \n",
            "\n",
            "Test Error: \n",
            " Accuracy: 53.4%, Avg loss: 1.721329 \n",
            "\n",
            "Epoch 218\n",
            "-------------------------------\n"
          ]
        },
        {
          "metadata": {
            "tags": null
          },
          "name": "stderr",
          "output_type": "stream",
          "text": [
            "704it [01:00, 11.60it/s]\n"
          ]
        },
        {
          "metadata": {
            "tags": null
          },
          "name": "stdout",
          "output_type": "stream",
          "text": [
            "lr :0.005607596574794482\n",
            "Train Error: \n",
            " Accuracy: 63.7%, Avg loss: 1.589473 \n",
            "\n",
            "Test Error: \n",
            " Accuracy: 57.6%, Avg loss: 1.518600 \n",
            "\n",
            "Epoch 219\n",
            "-------------------------------\n"
          ]
        },
        {
          "metadata": {
            "tags": null
          },
          "name": "stderr",
          "output_type": "stream",
          "text": [
            "704it [01:02, 11.29it/s]\n"
          ]
        },
        {
          "metadata": {
            "tags": null
          },
          "name": "stdout",
          "output_type": "stream",
          "text": [
            "lr :0.00554390960581953\n",
            "Train Error: \n",
            " Accuracy: 64.0%, Avg loss: 2.323551 \n",
            "\n",
            "Test Error: \n",
            " Accuracy: 51.9%, Avg loss: 1.799294 \n",
            "\n",
            "Epoch 220\n",
            "-------------------------------\n"
          ]
        },
        {
          "metadata": {
            "tags": null
          },
          "name": "stderr",
          "output_type": "stream",
          "text": [
            "704it [01:00, 11.62it/s]\n"
          ]
        },
        {
          "metadata": {
            "tags": null
          },
          "name": "stdout",
          "output_type": "stream",
          "text": [
            "lr :0.00548013320907789\n",
            "Train Error: \n",
            " Accuracy: 64.1%, Avg loss: 1.245083 \n",
            "\n",
            "Test Error: \n",
            " Accuracy: 49.1%, Avg loss: 1.982115 \n",
            "\n",
            "Epoch 221\n",
            "-------------------------------\n"
          ]
        },
        {
          "metadata": {
            "tags": null
          },
          "name": "stderr",
          "output_type": "stream",
          "text": [
            "704it [01:01, 11.54it/s]\n"
          ]
        },
        {
          "metadata": {
            "tags": null
          },
          "name": "stdout",
          "output_type": "stream",
          "text": [
            "lr :0.005416277870853303\n",
            "Train Error: \n",
            " Accuracy: 64.3%, Avg loss: 2.265910 \n",
            "\n",
            "Test Error: \n",
            " Accuracy: 52.6%, Avg loss: 1.807066 \n",
            "\n",
            "Epoch 222\n",
            "-------------------------------\n"
          ]
        },
        {
          "metadata": {
            "tags": null
          },
          "name": "stderr",
          "output_type": "stream",
          "text": [
            "704it [01:01, 11.46it/s]\n"
          ]
        },
        {
          "metadata": {
            "tags": null
          },
          "name": "stdout",
          "output_type": "stream",
          "text": [
            "lr :0.0053523540904092705\n",
            "Train Error: \n",
            " Accuracy: 64.1%, Avg loss: 1.398812 \n",
            "\n",
            "Test Error: \n",
            " Accuracy: 58.1%, Avg loss: 1.549152 \n",
            "\n",
            "Epoch 223\n",
            "-------------------------------\n"
          ]
        },
        {
          "metadata": {
            "tags": null
          },
          "name": "stderr",
          "output_type": "stream",
          "text": [
            "704it [01:02, 11.33it/s]\n"
          ]
        },
        {
          "metadata": {
            "tags": null
          },
          "name": "stdout",
          "output_type": "stream",
          "text": [
            "lr :0.005288372378262746\n",
            "Train Error: \n",
            " Accuracy: 64.4%, Avg loss: 0.726745 \n",
            "\n",
            "Test Error: \n",
            " Accuracy: 58.3%, Avg loss: 1.545095 \n",
            "\n",
            "Epoch 224\n",
            "-------------------------------\n"
          ]
        },
        {
          "metadata": {
            "tags": null
          },
          "name": "stderr",
          "output_type": "stream",
          "text": [
            "704it [01:03, 11.17it/s]\n"
          ]
        },
        {
          "metadata": {
            "tags": null
          },
          "name": "stdout",
          "output_type": "stream",
          "text": [
            "lr :0.005224343254455968\n",
            "Train Error: \n",
            " Accuracy: 64.5%, Avg loss: 1.408349 \n",
            "\n",
            "Test Error: \n",
            " Accuracy: 56.6%, Avg loss: 1.557688 \n",
            "\n",
            "Epoch 225\n",
            "-------------------------------\n"
          ]
        },
        {
          "metadata": {
            "tags": null
          },
          "name": "stderr",
          "output_type": "stream",
          "text": [
            "704it [01:01, 11.39it/s]\n"
          ]
        },
        {
          "metadata": {
            "tags": null
          },
          "name": "stdout",
          "output_type": "stream",
          "text": [
            "lr :0.005160277246826726\n",
            "Train Error: \n",
            " Accuracy: 64.7%, Avg loss: 1.106786 \n",
            "\n",
            "Test Error: \n",
            " Accuracy: 55.4%, Avg loss: 1.623010 \n",
            "\n",
            "Epoch 226\n",
            "-------------------------------\n"
          ]
        },
        {
          "metadata": {
            "tags": null
          },
          "name": "stderr",
          "output_type": "stream",
          "text": [
            "704it [01:01, 11.38it/s]\n"
          ]
        },
        {
          "metadata": {
            "tags": null
          },
          "name": "stdout",
          "output_type": "stream",
          "text": [
            "lr :0.005096184889277339\n",
            "Train Error: \n",
            " Accuracy: 64.7%, Avg loss: 1.909832 \n",
            "\n",
            "Test Error: \n",
            " Accuracy: 55.6%, Avg loss: 1.652645 \n",
            "\n",
            "Epoch 227\n",
            "-------------------------------\n"
          ]
        },
        {
          "metadata": {
            "tags": null
          },
          "name": "stderr",
          "output_type": "stream",
          "text": [
            "704it [01:01, 11.41it/s]\n"
          ]
        },
        {
          "metadata": {
            "tags": null
          },
          "name": "stdout",
          "output_type": "stream",
          "text": [
            "lr :0.0050320767200426626\n",
            "Train Error: \n",
            " Accuracy: 64.7%, Avg loss: 1.636115 \n",
            "\n",
            "Test Error: \n",
            " Accuracy: 59.1%, Avg loss: 1.458139 \n",
            "\n",
            "Epoch 228\n",
            "-------------------------------\n"
          ]
        },
        {
          "metadata": {
            "tags": null
          },
          "name": "stderr",
          "output_type": "stream",
          "text": [
            "704it [01:01, 11.43it/s]\n"
          ]
        },
        {
          "metadata": {
            "tags": null
          },
          "name": "stdout",
          "output_type": "stream",
          "text": [
            "lr :0.004967963279957337\n",
            "Train Error: \n",
            " Accuracy: 64.7%, Avg loss: 2.122366 \n",
            "\n",
            "Test Error: \n",
            " Accuracy: 55.0%, Avg loss: 1.637366 \n",
            "\n",
            "Epoch 229\n",
            "-------------------------------\n"
          ]
        },
        {
          "metadata": {
            "tags": null
          },
          "name": "stderr",
          "output_type": "stream",
          "text": [
            "704it [01:02, 11.22it/s]\n"
          ]
        },
        {
          "metadata": {
            "tags": null
          },
          "name": "stdout",
          "output_type": "stream",
          "text": [
            "lr :0.004903855110722661\n",
            "Train Error: \n",
            " Accuracy: 65.1%, Avg loss: 0.856277 \n",
            "\n",
            "Test Error: \n",
            " Accuracy: 53.7%, Avg loss: 1.768994 \n",
            "\n",
            "Epoch 230\n",
            "-------------------------------\n"
          ]
        },
        {
          "metadata": {
            "tags": null
          },
          "name": "stderr",
          "output_type": "stream",
          "text": [
            "704it [01:01, 11.39it/s]\n"
          ]
        },
        {
          "metadata": {
            "tags": null
          },
          "name": "stdout",
          "output_type": "stream",
          "text": [
            "lr :0.0048397627531732755\n",
            "Train Error: \n",
            " Accuracy: 65.0%, Avg loss: 1.969233 \n",
            "\n",
            "Test Error: \n",
            " Accuracy: 59.9%, Avg loss: 1.454810 \n",
            "\n",
            "---------------------Model saved base correct:0.5986\n",
            "Epoch 231\n",
            "-------------------------------\n"
          ]
        },
        {
          "metadata": {
            "tags": null
          },
          "name": "stderr",
          "output_type": "stream",
          "text": [
            "704it [01:01, 11.41it/s]\n"
          ]
        },
        {
          "metadata": {
            "tags": null
          },
          "name": "stdout",
          "output_type": "stream",
          "text": [
            "lr :0.004775696745544034\n",
            "Train Error: \n",
            " Accuracy: 65.1%, Avg loss: 1.353803 \n",
            "\n",
            "Test Error: \n",
            " Accuracy: 57.8%, Avg loss: 1.582112 \n",
            "\n",
            "Epoch 232\n",
            "-------------------------------\n"
          ]
        },
        {
          "metadata": {
            "tags": null
          },
          "name": "stderr",
          "output_type": "stream",
          "text": [
            "704it [01:01, 11.45it/s]\n"
          ]
        },
        {
          "metadata": {
            "tags": null
          },
          "name": "stdout",
          "output_type": "stream",
          "text": [
            "lr :0.0047116676217372555\n",
            "Train Error: \n",
            " Accuracy: 65.4%, Avg loss: 1.326148 \n",
            "\n",
            "Test Error: \n",
            " Accuracy: 56.9%, Avg loss: 1.597662 \n",
            "\n",
            "Epoch 233\n",
            "-------------------------------\n"
          ]
        },
        {
          "metadata": {
            "tags": null
          },
          "name": "stderr",
          "output_type": "stream",
          "text": [
            "704it [01:02, 11.22it/s]\n"
          ]
        },
        {
          "metadata": {
            "tags": null
          },
          "name": "stdout",
          "output_type": "stream",
          "text": [
            "lr :0.004647685909590729\n",
            "Train Error: \n",
            " Accuracy: 65.6%, Avg loss: 0.495913 \n",
            "\n",
            "Test Error: \n",
            " Accuracy: 58.0%, Avg loss: 1.518374 \n",
            "\n",
            "Epoch 234\n",
            "-------------------------------\n"
          ]
        },
        {
          "metadata": {
            "tags": null
          },
          "name": "stderr",
          "output_type": "stream",
          "text": [
            "704it [01:01, 11.49it/s]\n"
          ]
        },
        {
          "metadata": {
            "tags": null
          },
          "name": "stdout",
          "output_type": "stream",
          "text": [
            "lr :0.004583762129146698\n",
            "Train Error: \n",
            " Accuracy: 65.5%, Avg loss: 1.595746 \n",
            "\n",
            "Test Error: \n",
            " Accuracy: 58.6%, Avg loss: 1.458482 \n",
            "\n",
            "Epoch 235\n",
            "-------------------------------\n"
          ]
        },
        {
          "metadata": {
            "tags": null
          },
          "name": "stderr",
          "output_type": "stream",
          "text": [
            "704it [01:01, 11.51it/s]\n"
          ]
        },
        {
          "metadata": {
            "tags": null
          },
          "name": "stdout",
          "output_type": "stream",
          "text": [
            "lr :0.00451990679092211\n",
            "Train Error: \n",
            " Accuracy: 65.9%, Avg loss: 3.562093 \n",
            "\n",
            "Test Error: \n",
            " Accuracy: 56.1%, Avg loss: 1.608270 \n",
            "\n",
            "Epoch 236\n",
            "-------------------------------\n"
          ]
        },
        {
          "metadata": {
            "tags": null
          },
          "name": "stderr",
          "output_type": "stream",
          "text": [
            "704it [01:01, 11.51it/s]\n"
          ]
        },
        {
          "metadata": {
            "tags": null
          },
          "name": "stdout",
          "output_type": "stream",
          "text": [
            "lr :0.004456130394180471\n",
            "Train Error: \n",
            " Accuracy: 65.9%, Avg loss: 1.497262 \n",
            "\n",
            "Test Error: \n",
            " Accuracy: 59.3%, Avg loss: 1.488100 \n",
            "\n",
            "Epoch 237\n",
            "-------------------------------\n"
          ]
        },
        {
          "metadata": {
            "tags": null
          },
          "name": "stderr",
          "output_type": "stream",
          "text": [
            "704it [01:01, 11.51it/s]\n"
          ]
        },
        {
          "metadata": {
            "tags": null
          },
          "name": "stdout",
          "output_type": "stream",
          "text": [
            "lr :0.004392443425205519\n",
            "Train Error: \n",
            " Accuracy: 66.1%, Avg loss: 2.768121 \n",
            "\n",
            "Test Error: \n",
            " Accuracy: 55.7%, Avg loss: 1.632119 \n",
            "\n",
            "Epoch 238\n",
            "-------------------------------\n"
          ]
        },
        {
          "metadata": {
            "tags": null
          },
          "name": "stderr",
          "output_type": "stream",
          "text": [
            "704it [01:02, 11.23it/s]\n"
          ]
        },
        {
          "metadata": {
            "tags": null
          },
          "name": "stdout",
          "output_type": "stream",
          "text": [
            "lr :0.004328856355577041\n",
            "Train Error: \n",
            " Accuracy: 66.2%, Avg loss: 2.254616 \n",
            "\n",
            "Test Error: \n",
            " Accuracy: 56.9%, Avg loss: 1.582377 \n",
            "\n",
            "Epoch 239\n",
            "-------------------------------\n"
          ]
        },
        {
          "metadata": {
            "tags": null
          },
          "name": "stderr",
          "output_type": "stream",
          "text": [
            "704it [01:01, 11.54it/s]\n"
          ]
        },
        {
          "metadata": {
            "tags": null
          },
          "name": "stdout",
          "output_type": "stream",
          "text": [
            "lr :0.004265379640449103\n",
            "Train Error: \n",
            " Accuracy: 66.7%, Avg loss: 1.898591 \n",
            "\n",
            "Test Error: \n",
            " Accuracy: 61.9%, Avg loss: 1.373687 \n",
            "\n",
            "---------------------Model saved base correct:0.619\n",
            "Epoch 240\n",
            "-------------------------------\n"
          ]
        },
        {
          "metadata": {
            "tags": null
          },
          "name": "stderr",
          "output_type": "stream",
          "text": [
            "704it [01:01, 11.37it/s]\n"
          ]
        },
        {
          "metadata": {
            "tags": null
          },
          "name": "stdout",
          "output_type": "stream",
          "text": [
            "lr :0.004202023716831005\n",
            "Train Error: \n",
            " Accuracy: 66.5%, Avg loss: 2.132621 \n",
            "\n",
            "Test Error: \n",
            " Accuracy: 59.6%, Avg loss: 1.468374 \n",
            "\n",
            "Epoch 241\n",
            "-------------------------------\n"
          ]
        },
        {
          "metadata": {
            "tags": null
          },
          "name": "stderr",
          "output_type": "stream",
          "text": [
            "704it [01:01, 11.41it/s]\n"
          ]
        },
        {
          "metadata": {
            "tags": null
          },
          "name": "stdout",
          "output_type": "stream",
          "text": [
            "lr :0.004138799001871178\n",
            "Train Error: \n",
            " Accuracy: 66.5%, Avg loss: 1.692580 \n",
            "\n",
            "Test Error: \n",
            " Accuracy: 60.2%, Avg loss: 1.458907 \n",
            "\n",
            "Epoch 242\n",
            "-------------------------------\n"
          ]
        },
        {
          "metadata": {
            "tags": null
          },
          "name": "stderr",
          "output_type": "stream",
          "text": [
            "704it [01:01, 11.41it/s]\n"
          ]
        },
        {
          "metadata": {
            "tags": null
          },
          "name": "stdout",
          "output_type": "stream",
          "text": [
            "lr :0.00407571589114438\n",
            "Train Error: \n",
            " Accuracy: 66.7%, Avg loss: 1.323476 \n",
            "\n",
            "Test Error: \n",
            " Accuracy: 62.3%, Avg loss: 1.352064 \n",
            "\n",
            "---------------------Model saved base correct:0.6226\n",
            "Epoch 243\n",
            "-------------------------------\n"
          ]
        },
        {
          "metadata": {
            "tags": null
          },
          "name": "stderr",
          "output_type": "stream",
          "text": [
            "704it [01:03, 11.09it/s]\n"
          ]
        },
        {
          "metadata": {
            "tags": null
          },
          "name": "stdout",
          "output_type": "stream",
          "text": [
            "lr :0.0040127847569424325\n",
            "Train Error: \n",
            " Accuracy: 66.8%, Avg loss: 1.998172 \n",
            "\n",
            "Test Error: \n",
            " Accuracy: 58.5%, Avg loss: 1.555215 \n",
            "\n",
            "Epoch 244\n",
            "-------------------------------\n"
          ]
        },
        {
          "metadata": {
            "tags": null
          },
          "name": "stderr",
          "output_type": "stream",
          "text": [
            "704it [01:01, 11.41it/s]\n"
          ]
        },
        {
          "metadata": {
            "tags": null
          },
          "name": "stdout",
          "output_type": "stream",
          "text": [
            "lr :0.003950015946568767\n",
            "Train Error: \n",
            " Accuracy: 67.1%, Avg loss: 0.737108 \n",
            "\n",
            "Test Error: \n",
            " Accuracy: 54.8%, Avg loss: 1.663765 \n",
            "\n",
            "Epoch 245\n",
            "-------------------------------\n"
          ]
        },
        {
          "metadata": {
            "tags": null
          },
          "name": "stderr",
          "output_type": "stream",
          "text": [
            "704it [01:01, 11.50it/s]\n"
          ]
        },
        {
          "metadata": {
            "tags": null
          },
          "name": "stdout",
          "output_type": "stream",
          "text": [
            "lr :0.003887419780637108\n",
            "Train Error: \n",
            " Accuracy: 67.3%, Avg loss: 1.183393 \n",
            "\n",
            "Test Error: \n",
            " Accuracy: 56.6%, Avg loss: 1.591007 \n",
            "\n",
            "Epoch 246\n",
            "-------------------------------\n"
          ]
        },
        {
          "metadata": {
            "tags": null
          },
          "name": "stderr",
          "output_type": "stream",
          "text": [
            "704it [01:00, 11.59it/s]\n"
          ]
        },
        {
          "metadata": {
            "tags": null
          },
          "name": "stdout",
          "output_type": "stream",
          "text": [
            "lr :0.003825006551374519\n",
            "Train Error: \n",
            " Accuracy: 67.3%, Avg loss: 1.458626 \n",
            "\n",
            "Test Error: \n",
            " Accuracy: 59.7%, Avg loss: 1.477194 \n",
            "\n",
            "Epoch 247\n",
            "-------------------------------\n"
          ]
        },
        {
          "metadata": {
            "tags": null
          },
          "name": "stderr",
          "output_type": "stream",
          "text": [
            "704it [01:02, 11.33it/s]\n"
          ]
        },
        {
          "metadata": {
            "tags": null
          },
          "name": "stdout",
          "output_type": "stream",
          "text": [
            "lr :0.0037627865209291416\n",
            "Train Error: \n",
            " Accuracy: 67.6%, Avg loss: 1.445371 \n",
            "\n",
            "Test Error: \n",
            " Accuracy: 60.0%, Avg loss: 1.467187 \n",
            "\n",
            "Epoch 248\n",
            "-------------------------------\n"
          ]
        },
        {
          "metadata": {
            "tags": null
          },
          "name": "stderr",
          "output_type": "stream",
          "text": [
            "704it [01:01, 11.47it/s]\n"
          ]
        },
        {
          "metadata": {
            "tags": null
          },
          "name": "stdout",
          "output_type": "stream",
          "text": [
            "lr :0.003700769919682846\n",
            "Train Error: \n",
            " Accuracy: 67.5%, Avg loss: 0.726516 \n",
            "\n",
            "Test Error: \n",
            " Accuracy: 63.2%, Avg loss: 1.326160 \n",
            "\n",
            "---------------------Model saved base correct:0.6322\n",
            "Epoch 249\n",
            "-------------------------------\n"
          ]
        },
        {
          "metadata": {
            "tags": null
          },
          "name": "stderr",
          "output_type": "stream",
          "text": [
            "704it [01:01, 11.50it/s]\n"
          ]
        },
        {
          "metadata": {
            "tags": null
          },
          "name": "stdout",
          "output_type": "stream",
          "text": [
            "lr :0.0036389669445691434\n",
            "Train Error: \n",
            " Accuracy: 67.8%, Avg loss: 2.831510 \n",
            "\n",
            "Test Error: \n",
            " Accuracy: 59.8%, Avg loss: 1.476811 \n",
            "\n",
            "Epoch 250\n",
            "-------------------------------\n"
          ]
        },
        {
          "metadata": {
            "tags": null
          },
          "name": "stderr",
          "output_type": "stream",
          "text": [
            "704it [01:00, 11.54it/s]\n"
          ]
        },
        {
          "metadata": {
            "tags": null
          },
          "name": "stdout",
          "output_type": "stream",
          "text": [
            "lr :0.003577387757396571\n",
            "Train Error: \n",
            " Accuracy: 68.1%, Avg loss: 2.219835 \n",
            "\n",
            "Test Error: \n",
            " Accuracy: 58.6%, Avg loss: 1.511331 \n",
            "\n",
            "Epoch 251\n",
            "-------------------------------\n"
          ]
        },
        {
          "metadata": {
            "tags": null
          },
          "name": "stderr",
          "output_type": "stream",
          "text": [
            "704it [01:00, 11.63it/s]\n"
          ]
        },
        {
          "metadata": {
            "tags": null
          },
          "name": "stdout",
          "output_type": "stream",
          "text": [
            "lr :0.0035160424831778584\n",
            "Train Error: \n",
            " Accuracy: 67.9%, Avg loss: 0.583259 \n",
            "\n",
            "Test Error: \n",
            " Accuracy: 59.7%, Avg loss: 1.429114 \n",
            "\n",
            "Epoch 252\n",
            "-------------------------------\n"
          ]
        },
        {
          "metadata": {
            "tags": null
          },
          "name": "stderr",
          "output_type": "stream",
          "text": [
            "704it [01:01, 11.41it/s]\n"
          ]
        },
        {
          "metadata": {
            "tags": null
          },
          "name": "stdout",
          "output_type": "stream",
          "text": [
            "lr :0.003454941208465151\n",
            "Train Error: \n",
            " Accuracy: 68.3%, Avg loss: 1.819400 \n",
            "\n",
            "Test Error: \n",
            " Accuracy: 61.6%, Avg loss: 1.375532 \n",
            "\n",
            "Epoch 253\n",
            "-------------------------------\n"
          ]
        },
        {
          "metadata": {
            "tags": null
          },
          "name": "stderr",
          "output_type": "stream",
          "text": [
            "704it [01:01, 11.48it/s]\n"
          ]
        },
        {
          "metadata": {
            "tags": null
          },
          "name": "stdout",
          "output_type": "stream",
          "text": [
            "lr :0.0033940939796915487\n",
            "Train Error: \n",
            " Accuracy: 68.3%, Avg loss: 3.151060 \n",
            "\n",
            "Test Error: \n",
            " Accuracy: 63.2%, Avg loss: 1.314239 \n",
            "\n",
            "Epoch 254\n",
            "-------------------------------\n"
          ]
        },
        {
          "metadata": {
            "tags": null
          },
          "name": "stderr",
          "output_type": "stream",
          "text": [
            "704it [01:00, 11.56it/s]\n"
          ]
        },
        {
          "metadata": {
            "tags": null
          },
          "name": "stdout",
          "output_type": "stream",
          "text": [
            "lr :0.0033335108015192507\n",
            "Train Error: \n",
            " Accuracy: 68.7%, Avg loss: 1.033520 \n",
            "\n",
            "Test Error: \n",
            " Accuracy: 60.4%, Avg loss: 1.430529 \n",
            "\n",
            "Epoch 255\n",
            "-------------------------------\n"
          ]
        },
        {
          "metadata": {
            "tags": null
          },
          "name": "stderr",
          "output_type": "stream",
          "text": [
            "704it [01:01, 11.50it/s]\n"
          ]
        },
        {
          "metadata": {
            "tags": null
          },
          "name": "stdout",
          "output_type": "stream",
          "text": [
            "lr :0.0032732016351945514\n",
            "Train Error: \n",
            " Accuracy: 68.5%, Avg loss: 1.707134 \n",
            "\n",
            "Test Error: \n",
            " Accuracy: 59.4%, Avg loss: 1.476470 \n",
            "\n",
            "Epoch 256\n",
            "-------------------------------\n"
          ]
        },
        {
          "metadata": {
            "tags": null
          },
          "name": "stderr",
          "output_type": "stream",
          "text": [
            "704it [01:01, 11.52it/s]\n"
          ]
        },
        {
          "metadata": {
            "tags": null
          },
          "name": "stdout",
          "output_type": "stream",
          "text": [
            "lr :0.003213176396909999\n",
            "Train Error: \n",
            " Accuracy: 69.0%, Avg loss: 1.579249 \n",
            "\n",
            "Test Error: \n",
            " Accuracy: 59.1%, Avg loss: 1.449060 \n",
            "\n",
            "Epoch 257\n",
            "-------------------------------\n"
          ]
        },
        {
          "metadata": {
            "tags": null
          },
          "name": "stderr",
          "output_type": "stream",
          "text": [
            "704it [01:02, 11.24it/s]\n"
          ]
        },
        {
          "metadata": {
            "tags": null
          },
          "name": "stdout",
          "output_type": "stream",
          "text": [
            "lr :0.00315344495617394\n",
            "Train Error: \n",
            " Accuracy: 68.8%, Avg loss: 2.496126 \n",
            "\n",
            "Test Error: \n",
            " Accuracy: 59.9%, Avg loss: 1.460795 \n",
            "\n",
            "Epoch 258\n",
            "-------------------------------\n"
          ]
        },
        {
          "metadata": {
            "tags": null
          },
          "name": "stderr",
          "output_type": "stream",
          "text": [
            "704it [01:01, 11.49it/s]\n"
          ]
        },
        {
          "metadata": {
            "tags": null
          },
          "name": "stdout",
          "output_type": "stream",
          "text": [
            "lr :0.0030940171341877513\n",
            "Train Error: \n",
            " Accuracy: 69.4%, Avg loss: 1.117019 \n",
            "\n",
            "Test Error: \n",
            " Accuracy: 61.8%, Avg loss: 1.366753 \n",
            "\n",
            "Epoch 259\n",
            "-------------------------------\n"
          ]
        },
        {
          "metadata": {
            "tags": null
          },
          "name": "stderr",
          "output_type": "stream",
          "text": [
            "704it [01:02, 11.31it/s]\n"
          ]
        },
        {
          "metadata": {
            "tags": null
          },
          "name": "stdout",
          "output_type": "stream",
          "text": [
            "lr :0.003034902702231016\n",
            "Train Error: \n",
            " Accuracy: 69.3%, Avg loss: 1.460032 \n",
            "\n",
            "Test Error: \n",
            " Accuracy: 61.5%, Avg loss: 1.386368 \n",
            "\n",
            "Epoch 260\n",
            "-------------------------------\n"
          ]
        },
        {
          "metadata": {
            "tags": null
          },
          "name": "stderr",
          "output_type": "stream",
          "text": [
            "704it [01:02, 11.30it/s]\n"
          ]
        },
        {
          "metadata": {
            "tags": null
          },
          "name": "stdout",
          "output_type": "stream",
          "text": [
            "lr :0.0029761113800548934\n",
            "Train Error: \n",
            " Accuracy: 69.4%, Avg loss: 1.036716 \n",
            "\n",
            "Test Error: \n",
            " Accuracy: 61.3%, Avg loss: 1.382852 \n",
            "\n",
            "Epoch 261\n",
            "-------------------------------\n"
          ]
        },
        {
          "metadata": {
            "tags": null
          },
          "name": "stderr",
          "output_type": "stream",
          "text": [
            "704it [01:03, 11.02it/s]\n"
          ]
        },
        {
          "metadata": {
            "tags": null
          },
          "name": "stdout",
          "output_type": "stream",
          "text": [
            "lr :0.002917652834283987\n",
            "Train Error: \n",
            " Accuracy: 69.8%, Avg loss: 1.566804 \n",
            "\n",
            "Test Error: \n",
            " Accuracy: 61.9%, Avg loss: 1.361770 \n",
            "\n",
            "Epoch 262\n",
            "-------------------------------\n"
          ]
        },
        {
          "metadata": {
            "tags": null
          },
          "name": "stderr",
          "output_type": "stream",
          "text": [
            "704it [01:02, 11.27it/s]\n"
          ]
        },
        {
          "metadata": {
            "tags": null
          },
          "name": "stdout",
          "output_type": "stream",
          "text": [
            "lr :0.0028595366768269146\n",
            "Train Error: \n",
            " Accuracy: 69.8%, Avg loss: 1.931638 \n",
            "\n",
            "Test Error: \n",
            " Accuracy: 61.8%, Avg loss: 1.351462 \n",
            "\n",
            "Epoch 263\n",
            "-------------------------------\n"
          ]
        },
        {
          "metadata": {
            "tags": null
          },
          "name": "stderr",
          "output_type": "stream",
          "text": [
            "704it [01:02, 11.30it/s]\n"
          ]
        },
        {
          "metadata": {
            "tags": null
          },
          "name": "stdout",
          "output_type": "stream",
          "text": [
            "lr :0.002801772463295909\n",
            "Train Error: \n",
            " Accuracy: 69.6%, Avg loss: 2.352171 \n",
            "\n",
            "Test Error: \n",
            " Accuracy: 61.1%, Avg loss: 1.384558 \n",
            "\n",
            "Epoch 264\n",
            "-------------------------------\n"
          ]
        },
        {
          "metadata": {
            "tags": null
          },
          "name": "stderr",
          "output_type": "stream",
          "text": [
            "704it [01:02, 11.34it/s]\n"
          ]
        },
        {
          "metadata": {
            "tags": null
          },
          "name": "stdout",
          "output_type": "stream",
          "text": [
            "lr :0.0027443696914356513\n",
            "Train Error: \n",
            " Accuracy: 69.9%, Avg loss: 1.984890 \n",
            "\n",
            "Test Error: \n",
            " Accuracy: 63.7%, Avg loss: 1.292841 \n",
            "\n",
            "---------------------Model saved base correct:0.6366\n",
            "Epoch 265\n",
            "-------------------------------\n"
          ]
        },
        {
          "metadata": {
            "tags": null
          },
          "name": "stderr",
          "output_type": "stream",
          "text": [
            "704it [01:01, 11.40it/s]\n"
          ]
        },
        {
          "metadata": {
            "tags": null
          },
          "name": "stdout",
          "output_type": "stream",
          "text": [
            "lr :0.00268733779956163\n",
            "Train Error: \n",
            " Accuracy: 70.3%, Avg loss: 2.028188 \n",
            "\n",
            "Test Error: \n",
            " Accuracy: 61.9%, Avg loss: 1.358376 \n",
            "\n",
            "Epoch 266\n",
            "-------------------------------\n"
          ]
        },
        {
          "metadata": {
            "tags": null
          },
          "name": "stderr",
          "output_type": "stream",
          "text": [
            "704it [01:03, 11.17it/s]\n"
          ]
        },
        {
          "metadata": {
            "tags": null
          },
          "name": "stdout",
          "output_type": "stream",
          "text": [
            "lr :0.0026306861650082568\n",
            "Train Error: \n",
            " Accuracy: 70.1%, Avg loss: 1.783409 \n",
            "\n",
            "Test Error: \n",
            " Accuracy: 63.6%, Avg loss: 1.306869 \n",
            "\n",
            "Epoch 267\n",
            "-------------------------------\n"
          ]
        },
        {
          "metadata": {
            "tags": null
          },
          "name": "stderr",
          "output_type": "stream",
          "text": [
            "704it [01:01, 11.45it/s]\n"
          ]
        },
        {
          "metadata": {
            "tags": null
          },
          "name": "stdout",
          "output_type": "stream",
          "text": [
            "lr :0.0025744241025870388\n",
            "Train Error: \n",
            " Accuracy: 70.5%, Avg loss: 1.803889 \n",
            "\n",
            "Test Error: \n",
            " Accuracy: 62.1%, Avg loss: 1.351398 \n",
            "\n",
            "Epoch 268\n",
            "-------------------------------\n"
          ]
        },
        {
          "metadata": {
            "tags": null
          },
          "name": "stderr",
          "output_type": "stream",
          "text": [
            "704it [01:01, 11.52it/s]\n"
          ]
        },
        {
          "metadata": {
            "tags": null
          },
          "name": "stdout",
          "output_type": "stream",
          "text": [
            "lr :0.002518560863055003\n",
            "Train Error: \n",
            " Accuracy: 70.2%, Avg loss: 1.497640 \n",
            "\n",
            "Test Error: \n",
            " Accuracy: 60.4%, Avg loss: 1.393298 \n",
            "\n",
            "Epoch 269\n",
            "-------------------------------\n"
          ]
        },
        {
          "metadata": {
            "tags": null
          },
          "name": "stderr",
          "output_type": "stream",
          "text": [
            "704it [01:00, 11.62it/s]\n"
          ]
        },
        {
          "metadata": {
            "tags": null
          },
          "name": "stdout",
          "output_type": "stream",
          "text": [
            "lr :0.0024631056315936547\n",
            "Train Error: \n",
            " Accuracy: 70.7%, Avg loss: 2.556151 \n",
            "\n",
            "Test Error: \n",
            " Accuracy: 60.9%, Avg loss: 1.387938 \n",
            "\n",
            "Epoch 270\n",
            "-------------------------------\n"
          ]
        },
        {
          "metadata": {
            "tags": null
          },
          "name": "stderr",
          "output_type": "stream",
          "text": [
            "704it [01:01, 11.53it/s]\n"
          ]
        },
        {
          "metadata": {
            "tags": null
          },
          "name": "stdout",
          "output_type": "stream",
          "text": [
            "lr :0.0024080675262987414\n",
            "Train Error: \n",
            " Accuracy: 71.2%, Avg loss: 0.828205 \n",
            "\n",
            "Test Error: \n",
            " Accuracy: 62.2%, Avg loss: 1.384194 \n",
            "\n",
            "Epoch 271\n",
            "-------------------------------\n"
          ]
        },
        {
          "metadata": {
            "tags": null
          },
          "name": "stderr",
          "output_type": "stream",
          "text": [
            "704it [01:01, 11.52it/s]\n"
          ]
        },
        {
          "metadata": {
            "tags": null
          },
          "name": "stdout",
          "output_type": "stream",
          "text": [
            "lr :0.0023534555966810214\n",
            "Train Error: \n",
            " Accuracy: 71.2%, Avg loss: 1.897511 \n",
            "\n",
            "Test Error: \n",
            " Accuracy: 62.5%, Avg loss: 1.306810 \n",
            "\n",
            "Epoch 272\n",
            "-------------------------------\n"
          ]
        },
        {
          "metadata": {
            "tags": null
          },
          "name": "stderr",
          "output_type": "stream",
          "text": [
            "704it [01:01, 11.53it/s]\n"
          ]
        },
        {
          "metadata": {
            "tags": null
          },
          "name": "stdout",
          "output_type": "stream",
          "text": [
            "lr :0.0022992788221783238\n",
            "Train Error: \n",
            " Accuracy: 71.2%, Avg loss: 0.486762 \n",
            "\n",
            "Test Error: \n",
            " Accuracy: 61.3%, Avg loss: 1.380696 \n",
            "\n",
            "Epoch 273\n",
            "-------------------------------\n"
          ]
        },
        {
          "metadata": {
            "tags": null
          },
          "name": "stderr",
          "output_type": "stream",
          "text": [
            "704it [01:00, 11.60it/s]\n"
          ]
        },
        {
          "metadata": {
            "tags": null
          },
          "name": "stdout",
          "output_type": "stream",
          "text": [
            "lr :0.002245546110679117\n",
            "Train Error: \n",
            " Accuracy: 71.5%, Avg loss: 2.454506 \n",
            "\n",
            "Test Error: \n",
            " Accuracy: 62.9%, Avg loss: 1.351770 \n",
            "\n",
            "Epoch 274\n",
            "-------------------------------\n"
          ]
        },
        {
          "metadata": {
            "tags": null
          },
          "name": "stderr",
          "output_type": "stream",
          "text": [
            "704it [01:01, 11.48it/s]\n"
          ]
        },
        {
          "metadata": {
            "tags": null
          },
          "name": "stdout",
          "output_type": "stream",
          "text": [
            "lr :0.0021922662970578623\n",
            "Train Error: \n",
            " Accuracy: 71.7%, Avg loss: 1.173869 \n",
            "\n",
            "Test Error: \n",
            " Accuracy: 63.1%, Avg loss: 1.288862 \n",
            "\n",
            "Epoch 275\n",
            "-------------------------------\n"
          ]
        },
        {
          "metadata": {
            "tags": null
          },
          "name": "stderr",
          "output_type": "stream",
          "text": [
            "704it [01:02, 11.26it/s]\n"
          ]
        },
        {
          "metadata": {
            "tags": null
          },
          "name": "stdout",
          "output_type": "stream",
          "text": [
            "lr :0.0021394481417223556\n",
            "Train Error: \n",
            " Accuracy: 72.0%, Avg loss: 2.141450 \n",
            "\n",
            "Test Error: \n",
            " Accuracy: 63.3%, Avg loss: 1.326857 \n",
            "\n",
            "Epoch 276\n",
            "-------------------------------\n"
          ]
        },
        {
          "metadata": {
            "tags": null
          },
          "name": "stderr",
          "output_type": "stream",
          "text": [
            "704it [01:00, 11.60it/s]\n"
          ]
        },
        {
          "metadata": {
            "tags": null
          },
          "name": "stdout",
          "output_type": "stream",
          "text": [
            "lr :0.0020871003291733107\n",
            "Train Error: \n",
            " Accuracy: 72.0%, Avg loss: 1.699337 \n",
            "\n",
            "Test Error: \n",
            " Accuracy: 62.7%, Avg loss: 1.338717 \n",
            "\n",
            "Epoch 277\n",
            "-------------------------------\n"
          ]
        },
        {
          "metadata": {
            "tags": null
          },
          "name": "stderr",
          "output_type": "stream",
          "text": [
            "704it [01:00, 11.64it/s]\n"
          ]
        },
        {
          "metadata": {
            "tags": null
          },
          "name": "stdout",
          "output_type": "stream",
          "text": [
            "lr :0.002035231466576442\n",
            "Train Error: \n",
            " Accuracy: 71.9%, Avg loss: 1.193905 \n",
            "\n",
            "Test Error: \n",
            " Accuracy: 63.2%, Avg loss: 1.312400 \n",
            "\n",
            "Epoch 278\n",
            "-------------------------------\n"
          ]
        },
        {
          "metadata": {
            "tags": null
          },
          "name": "stderr",
          "output_type": "stream",
          "text": [
            "704it [01:00, 11.66it/s]\n"
          ]
        },
        {
          "metadata": {
            "tags": null
          },
          "name": "stdout",
          "output_type": "stream",
          "text": [
            "lr :0.0019838500823472476\n",
            "Train Error: \n",
            " Accuracy: 72.6%, Avg loss: 1.070798 \n",
            "\n",
            "Test Error: \n",
            " Accuracy: 62.9%, Avg loss: 1.311709 \n",
            "\n",
            "Epoch 279\n",
            "-------------------------------\n"
          ]
        },
        {
          "metadata": {
            "tags": null
          },
          "name": "stderr",
          "output_type": "stream",
          "text": [
            "704it [01:01, 11.53it/s]\n"
          ]
        },
        {
          "metadata": {
            "tags": null
          },
          "name": "stdout",
          "output_type": "stream",
          "text": [
            "lr :0.0019329646247487422\n",
            "Train Error: \n",
            " Accuracy: 72.4%, Avg loss: 1.091298 \n",
            "\n",
            "Test Error: \n",
            " Accuracy: 64.6%, Avg loss: 1.257696 \n",
            "\n",
            "---------------------Model saved base correct:0.6462\n",
            "Epoch 280\n",
            "-------------------------------\n"
          ]
        },
        {
          "metadata": {
            "tags": null
          },
          "name": "stderr",
          "output_type": "stream",
          "text": [
            "704it [01:02, 11.24it/s]\n"
          ]
        },
        {
          "metadata": {
            "tags": null
          },
          "name": "stdout",
          "output_type": "stream",
          "text": [
            "lr :0.00188258346050237\n",
            "Train Error: \n",
            " Accuracy: 72.7%, Avg loss: 1.077538 \n",
            "\n",
            "Test Error: \n",
            " Accuracy: 64.4%, Avg loss: 1.279733 \n",
            "\n",
            "Epoch 281\n",
            "-------------------------------\n"
          ]
        },
        {
          "metadata": {
            "tags": null
          },
          "name": "stderr",
          "output_type": "stream",
          "text": [
            "704it [01:01, 11.45it/s]\n"
          ]
        },
        {
          "metadata": {
            "tags": null
          },
          "name": "stdout",
          "output_type": "stream",
          "text": [
            "lr :0.0018327148734123358\n",
            "Train Error: \n",
            " Accuracy: 72.6%, Avg loss: 1.681612 \n",
            "\n",
            "Test Error: \n",
            " Accuracy: 63.8%, Avg loss: 1.293661 \n",
            "\n",
            "Epoch 282\n",
            "-------------------------------\n"
          ]
        },
        {
          "metadata": {
            "tags": null
          },
          "name": "stderr",
          "output_type": "stream",
          "text": [
            "704it [01:01, 11.46it/s]\n"
          ]
        },
        {
          "metadata": {
            "tags": null
          },
          "name": "stdout",
          "output_type": "stream",
          "text": [
            "lr :0.0017833670630035456\n",
            "Train Error: \n",
            " Accuracy: 72.9%, Avg loss: 1.153305 \n",
            "\n",
            "Test Error: \n",
            " Accuracy: 64.4%, Avg loss: 1.279179 \n",
            "\n",
            "Epoch 283\n",
            "-------------------------------\n"
          ]
        },
        {
          "metadata": {
            "tags": null
          },
          "name": "stderr",
          "output_type": "stream",
          "text": [
            "704it [01:01, 11.50it/s]\n"
          ]
        },
        {
          "metadata": {
            "tags": null
          },
          "name": "stdout",
          "output_type": "stream",
          "text": [
            "lr :0.0017345481431734313\n",
            "Train Error: \n",
            " Accuracy: 73.2%, Avg loss: 1.516940 \n",
            "\n",
            "Test Error: \n",
            " Accuracy: 64.8%, Avg loss: 1.250730 \n",
            "\n",
            "---------------------Model saved base correct:0.6478\n",
            "Epoch 284\n",
            "-------------------------------\n"
          ]
        },
        {
          "metadata": {
            "tags": null
          },
          "name": "stderr",
          "output_type": "stream",
          "text": [
            "704it [01:02, 11.23it/s]\n"
          ]
        },
        {
          "metadata": {
            "tags": null
          },
          "name": "stdout",
          "output_type": "stream",
          "text": [
            "lr :0.0016862661408578424\n",
            "Train Error: \n",
            " Accuracy: 73.4%, Avg loss: 2.433222 \n",
            "\n",
            "Test Error: \n",
            " Accuracy: 62.5%, Avg loss: 1.358196 \n",
            "\n",
            "Epoch 285\n",
            "-------------------------------\n"
          ]
        },
        {
          "metadata": {
            "tags": null
          },
          "name": "stderr",
          "output_type": "stream",
          "text": [
            "704it [01:01, 11.39it/s]\n"
          ]
        },
        {
          "metadata": {
            "tags": null
          },
          "name": "stdout",
          "output_type": "stream",
          "text": [
            "lr :0.0016385289947112207\n",
            "Train Error: \n",
            " Accuracy: 73.2%, Avg loss: 1.417578 \n",
            "\n",
            "Test Error: \n",
            " Accuracy: 64.7%, Avg loss: 1.269960 \n",
            "\n",
            "Epoch 286\n",
            "-------------------------------\n"
          ]
        },
        {
          "metadata": {
            "tags": null
          },
          "name": "stderr",
          "output_type": "stream",
          "text": [
            "704it [01:01, 11.48it/s]\n"
          ]
        },
        {
          "metadata": {
            "tags": null
          },
          "name": "stdout",
          "output_type": "stream",
          "text": [
            "lr :0.001591344553801327\n",
            "Train Error: \n",
            " Accuracy: 73.5%, Avg loss: 0.870044 \n",
            "\n",
            "Test Error: \n",
            " Accuracy: 63.8%, Avg loss: 1.274945 \n",
            "\n",
            "Epoch 287\n",
            "-------------------------------\n"
          ]
        },
        {
          "metadata": {
            "tags": null
          },
          "name": "stderr",
          "output_type": "stream",
          "text": [
            "704it [01:01, 11.42it/s]\n"
          ]
        },
        {
          "metadata": {
            "tags": null
          },
          "name": "stdout",
          "output_type": "stream",
          "text": [
            "lr :0.0015447205763186565\n",
            "Train Error: \n",
            " Accuracy: 74.1%, Avg loss: 1.537784 \n",
            "\n",
            "Test Error: \n",
            " Accuracy: 64.5%, Avg loss: 1.272683 \n",
            "\n",
            "Epoch 288\n",
            "-------------------------------\n"
          ]
        },
        {
          "metadata": {
            "tags": null
          },
          "name": "stderr",
          "output_type": "stream",
          "text": [
            "704it [01:01, 11.44it/s]\n"
          ]
        },
        {
          "metadata": {
            "tags": null
          },
          "name": "stdout",
          "output_type": "stream",
          "text": [
            "lr :0.0014986647283008355\n",
            "Train Error: \n",
            " Accuracy: 74.2%, Avg loss: 2.096524 \n",
            "\n",
            "Test Error: \n",
            " Accuracy: 65.1%, Avg loss: 1.249434 \n",
            "\n",
            "---------------------Model saved base correct:0.6506\n",
            "Epoch 289\n",
            "-------------------------------\n"
          ]
        },
        {
          "metadata": {
            "tags": null
          },
          "name": "stderr",
          "output_type": "stream",
          "text": [
            "704it [01:03, 11.06it/s]\n"
          ]
        },
        {
          "metadata": {
            "tags": null
          },
          "name": "stdout",
          "output_type": "stream",
          "text": [
            "lr :0.001453184582372131\n",
            "Train Error: \n",
            " Accuracy: 74.4%, Avg loss: 1.030809 \n",
            "\n",
            "Test Error: \n",
            " Accuracy: 64.2%, Avg loss: 1.263506 \n",
            "\n",
            "Epoch 290\n",
            "-------------------------------\n"
          ]
        },
        {
          "metadata": {
            "tags": null
          },
          "name": "stderr",
          "output_type": "stream",
          "text": [
            "704it [01:02, 11.34it/s]\n"
          ]
        },
        {
          "metadata": {
            "tags": null
          },
          "name": "stdout",
          "output_type": "stream",
          "text": [
            "lr :0.0014082876164983645\n",
            "Train Error: \n",
            " Accuracy: 74.2%, Avg loss: 0.551047 \n",
            "\n",
            "Test Error: \n",
            " Accuracy: 62.7%, Avg loss: 1.343868 \n",
            "\n",
            "Epoch 291\n",
            "-------------------------------\n"
          ]
        },
        {
          "metadata": {
            "tags": null
          },
          "name": "stderr",
          "output_type": "stream",
          "text": [
            "704it [01:01, 11.41it/s]\n"
          ]
        },
        {
          "metadata": {
            "tags": null
          },
          "name": "stdout",
          "output_type": "stream",
          "text": [
            "lr :0.001363981212757339\n",
            "Train Error: \n",
            " Accuracy: 74.6%, Avg loss: 1.407593 \n",
            "\n",
            "Test Error: \n",
            " Accuracy: 65.0%, Avg loss: 1.281211 \n",
            "\n",
            "Epoch 292\n",
            "-------------------------------\n"
          ]
        },
        {
          "metadata": {
            "tags": null
          },
          "name": "stderr",
          "output_type": "stream",
          "text": [
            "704it [01:01, 11.41it/s]\n"
          ]
        },
        {
          "metadata": {
            "tags": null
          },
          "name": "stdout",
          "output_type": "stream",
          "text": [
            "lr :0.001320272656125077\n",
            "Train Error: \n",
            " Accuracy: 75.0%, Avg loss: 1.470380 \n",
            "\n",
            "Test Error: \n",
            " Accuracy: 64.9%, Avg loss: 1.256333 \n",
            "\n",
            "Epoch 293\n",
            "-------------------------------\n"
          ]
        },
        {
          "metadata": {
            "tags": null
          },
          "name": "stderr",
          "output_type": "stream",
          "text": [
            "704it [01:01, 11.43it/s]\n"
          ]
        },
        {
          "metadata": {
            "tags": null
          },
          "name": "stdout",
          "output_type": "stream",
          "text": [
            "lr :0.0012771691332779983\n",
            "Train Error: \n",
            " Accuracy: 74.7%, Avg loss: 1.036656 \n",
            "\n",
            "Test Error: \n",
            " Accuracy: 64.6%, Avg loss: 1.279559 \n",
            "\n",
            "Epoch 294\n",
            "-------------------------------\n"
          ]
        },
        {
          "metadata": {
            "tags": null
          },
          "name": "stderr",
          "output_type": "stream",
          "text": [
            "704it [01:02, 11.29it/s]\n"
          ]
        },
        {
          "metadata": {
            "tags": null
          },
          "name": "stdout",
          "output_type": "stream",
          "text": [
            "lr :0.0012346777314112658\n",
            "Train Error: \n",
            " Accuracy: 74.8%, Avg loss: 1.332433 \n",
            "\n",
            "Test Error: \n",
            " Accuracy: 64.5%, Avg loss: 1.284436 \n",
            "\n",
            "Epoch 295\n",
            "-------------------------------\n"
          ]
        },
        {
          "metadata": {
            "tags": null
          },
          "name": "stderr",
          "output_type": "stream",
          "text": [
            "704it [01:01, 11.46it/s]\n"
          ]
        },
        {
          "metadata": {
            "tags": null
          },
          "name": "stdout",
          "output_type": "stream",
          "text": [
            "lr :0.0011928054370734954\n",
            "Train Error: \n",
            " Accuracy: 74.9%, Avg loss: 1.225461 \n",
            "\n",
            "Test Error: \n",
            " Accuracy: 64.9%, Avg loss: 1.260682 \n",
            "\n",
            "Epoch 296\n",
            "-------------------------------\n"
          ]
        },
        {
          "metadata": {
            "tags": null
          },
          "name": "stderr",
          "output_type": "stream",
          "text": [
            "704it [01:01, 11.47it/s]\n"
          ]
        },
        {
          "metadata": {
            "tags": null
          },
          "name": "stdout",
          "output_type": "stream",
          "text": [
            "lr :0.0011515591350180054\n",
            "Train Error: \n",
            " Accuracy: 75.5%, Avg loss: 1.558899 \n",
            "\n",
            "Test Error: \n",
            " Accuracy: 64.7%, Avg loss: 1.261023 \n",
            "\n",
            "Epoch 297\n",
            "-------------------------------\n"
          ]
        },
        {
          "metadata": {
            "tags": null
          },
          "name": "stderr",
          "output_type": "stream",
          "text": [
            "704it [01:01, 11.52it/s]\n"
          ]
        },
        {
          "metadata": {
            "tags": null
          },
          "name": "stdout",
          "output_type": "stream",
          "text": [
            "lr :0.0011109456070708104\n",
            "Train Error: \n",
            " Accuracy: 75.4%, Avg loss: 1.175312 \n",
            "\n",
            "Test Error: \n",
            " Accuracy: 65.3%, Avg loss: 1.231614 \n",
            "\n",
            "---------------------Model saved base correct:0.653\n",
            "Epoch 298\n",
            "-------------------------------\n"
          ]
        },
        {
          "metadata": {
            "tags": null
          },
          "name": "stderr",
          "output_type": "stream",
          "text": [
            "704it [01:02, 11.30it/s]\n"
          ]
        },
        {
          "metadata": {
            "tags": null
          },
          "name": "stdout",
          "output_type": "stream",
          "text": [
            "lr :0.0010709715310155293\n",
            "Train Error: \n",
            " Accuracy: 75.7%, Avg loss: 2.044873 \n",
            "\n",
            "Test Error: \n",
            " Accuracy: 64.4%, Avg loss: 1.270224 \n",
            "\n",
            "Epoch 299\n",
            "-------------------------------\n"
          ]
        },
        {
          "metadata": {
            "tags": null
          },
          "name": "stderr",
          "output_type": "stream",
          "text": [
            "704it [01:00, 11.64it/s]\n"
          ]
        },
        {
          "metadata": {
            "tags": null
          },
          "name": "stdout",
          "output_type": "stream",
          "text": [
            "lr :0.0010316434794954152\n",
            "Train Error: \n",
            " Accuracy: 75.6%, Avg loss: 1.435625 \n",
            "\n",
            "Test Error: \n",
            " Accuracy: 66.1%, Avg loss: 1.229702 \n",
            "\n",
            "---------------------Model saved base correct:0.6614\n",
            "Epoch 300\n",
            "-------------------------------\n"
          ]
        },
        {
          "metadata": {
            "tags": null
          },
          "name": "stderr",
          "output_type": "stream",
          "text": [
            "704it [01:00, 11.64it/s]\n"
          ]
        },
        {
          "metadata": {
            "tags": null
          },
          "name": "stdout",
          "output_type": "stream",
          "text": [
            "lr :0.0009929679189326548\n",
            "Train Error: \n",
            " Accuracy: 76.2%, Avg loss: 1.104050 \n",
            "\n",
            "Test Error: \n",
            " Accuracy: 65.1%, Avg loss: 1.257979 \n",
            "\n",
            "Epoch 301\n",
            "-------------------------------\n"
          ]
        },
        {
          "metadata": {
            "tags": null
          },
          "name": "stderr",
          "output_type": "stream",
          "text": [
            "704it [01:01, 11.51it/s]\n"
          ]
        },
        {
          "metadata": {
            "tags": null
          },
          "name": "stdout",
          "output_type": "stream",
          "text": [
            "lr :0.0009549512084651508\n",
            "Train Error: \n",
            " Accuracy: 76.0%, Avg loss: 0.713933 \n",
            "\n",
            "Test Error: \n",
            " Accuracy: 65.0%, Avg loss: 1.254629 \n",
            "\n",
            "Epoch 302\n",
            "-------------------------------\n"
          ]
        },
        {
          "metadata": {
            "tags": null
          },
          "name": "stderr",
          "output_type": "stream",
          "text": [
            "704it [01:01, 11.54it/s]\n"
          ]
        },
        {
          "metadata": {
            "tags": null
          },
          "name": "stdout",
          "output_type": "stream",
          "text": [
            "lr :0.0009175995989009299\n",
            "Train Error: \n",
            " Accuracy: 76.1%, Avg loss: 0.710271 \n",
            "\n",
            "Test Error: \n",
            " Accuracy: 64.6%, Avg loss: 1.260110 \n",
            "\n",
            "Epoch 303\n",
            "-------------------------------\n"
          ]
        },
        {
          "metadata": {
            "tags": null
          },
          "name": "stderr",
          "output_type": "stream",
          "text": [
            "704it [01:02, 11.25it/s]\n"
          ]
        },
        {
          "metadata": {
            "tags": null
          },
          "name": "stdout",
          "output_type": "stream",
          "text": [
            "lr :0.0008809192316903707\n",
            "Train Error: \n",
            " Accuracy: 76.4%, Avg loss: 1.608670 \n",
            "\n",
            "Test Error: \n",
            " Accuracy: 65.2%, Avg loss: 1.262149 \n",
            "\n",
            "Epoch 304\n",
            "-------------------------------\n"
          ]
        },
        {
          "metadata": {
            "tags": null
          },
          "name": "stderr",
          "output_type": "stream",
          "text": [
            "704it [01:00, 11.58it/s]\n"
          ]
        },
        {
          "metadata": {
            "tags": null
          },
          "name": "stdout",
          "output_type": "stream",
          "text": [
            "lr :0.0008449161379164106\n",
            "Train Error: \n",
            " Accuracy: 76.5%, Avg loss: 0.613214 \n",
            "\n",
            "Test Error: \n",
            " Accuracy: 65.3%, Avg loss: 1.252913 \n",
            "\n",
            "Epoch 305\n",
            "-------------------------------\n"
          ]
        },
        {
          "metadata": {
            "tags": null
          },
          "name": "stderr",
          "output_type": "stream",
          "text": [
            "704it [01:00, 11.56it/s]\n"
          ]
        },
        {
          "metadata": {
            "tags": null
          },
          "name": "stdout",
          "output_type": "stream",
          "text": [
            "lr :0.0008095962373028949\n",
            "Train Error: \n",
            " Accuracy: 76.9%, Avg loss: 1.225941 \n",
            "\n",
            "Test Error: \n",
            " Accuracy: 65.8%, Avg loss: 1.233805 \n",
            "\n",
            "Epoch 306\n",
            "-------------------------------\n"
          ]
        },
        {
          "metadata": {
            "tags": null
          },
          "name": "stderr",
          "output_type": "stream",
          "text": [
            "704it [01:00, 11.55it/s]\n"
          ]
        },
        {
          "metadata": {
            "tags": null
          },
          "name": "stdout",
          "output_type": "stream",
          "text": [
            "lr :0.0007749653372412475\n",
            "Train Error: \n",
            " Accuracy: 76.6%, Avg loss: 1.052704 \n",
            "\n",
            "Test Error: \n",
            " Accuracy: 65.7%, Avg loss: 1.234786 \n",
            "\n",
            "Epoch 307\n",
            "-------------------------------\n"
          ]
        },
        {
          "metadata": {
            "tags": null
          },
          "name": "stderr",
          "output_type": "stream",
          "text": [
            "704it [01:02, 11.26it/s]\n"
          ]
        },
        {
          "metadata": {
            "tags": null
          },
          "name": "stdout",
          "output_type": "stream",
          "text": [
            "lr :0.0007410291318355963\n",
            "Train Error: \n",
            " Accuracy: 77.4%, Avg loss: 1.112443 \n",
            "\n",
            "Test Error: \n",
            " Accuracy: 65.4%, Avg loss: 1.248766 \n",
            "\n",
            "Epoch 308\n",
            "-------------------------------\n"
          ]
        },
        {
          "metadata": {
            "tags": null
          },
          "name": "stderr",
          "output_type": "stream",
          "text": [
            "704it [01:00, 11.59it/s]\n"
          ]
        },
        {
          "metadata": {
            "tags": null
          },
          "name": "stdout",
          "output_type": "stream",
          "text": [
            "lr :0.0007077932009665415\n",
            "Train Error: \n",
            " Accuracy: 77.0%, Avg loss: 1.522101 \n",
            "\n",
            "Test Error: \n",
            " Accuracy: 66.5%, Avg loss: 1.213780 \n",
            "\n",
            "---------------------Model saved base correct:0.6646\n",
            "Epoch 309\n",
            "-------------------------------\n"
          ]
        },
        {
          "output_type": "stream",
          "name": "stderr",
          "text": [
            "704it [01:00, 11.62it/s]\n"
          ]
        },
        {
          "output_type": "stream",
          "name": "stdout",
          "text": [
            "lr :0.0006752630093736913\n",
            "Train Error: \n",
            " Accuracy: 77.3%, Avg loss: 1.824416 \n",
            "\n",
            "Test Error: \n",
            " Accuracy: 65.2%, Avg loss: 1.227748 \n",
            "\n",
            "Epoch 310\n",
            "-------------------------------\n"
          ]
        },
        {
          "output_type": "stream",
          "name": "stderr",
          "text": [
            "375it [00:32, 11.47it/s]"
          ]
        }
      ],
      "source": [
        "\n",
        "base_correct = 0\n",
        "for t in range(args['epochs']):\n",
        "    print(f\"Epoch {t+1}\\n-------------------------------\")\n",
        "    train_loop(train_loader, model, loss_fn, optimizer)\n",
        "#     print(\"test loop\")\n",
        "    correct = test_loop(valid_loader, model, loss_fn)\n",
        "    if correct > base_correct:\n",
        "        print('---------------------Model saved base correct:' + str(correct))\n",
        "        torch.save(model.state_dict(), 'fixmodel_keep.pt')\n",
        "        base_correct = correct\n",
        "print(\"Done!\")"
      ]
    },
    {
      "cell_type": "code",
      "execution_count": null,
      "metadata": {
        "id": "CtvBsa-mArVr"
      },
      "outputs": [],
      "source": [
        "plt.plot(train_acc)\n",
        "plt.plot(val_acc)\n",
        "plt.show()"
      ]
    },
    {
      "cell_type": "code",
      "execution_count": null,
      "metadata": {
        "id": "fm5q5v7eArVr"
      },
      "outputs": [],
      "source": [
        "plt.plot(lrs)"
      ]
    },
    {
      "cell_type": "code",
      "execution_count": null,
      "metadata": {
        "id": "YtY1vtasArVs"
      },
      "outputs": [],
      "source": [
        "import pandas as pd\n",
        "model.load_state_dict(torch.load('fixmodelkeep.pt'))\n",
        "id_list = []\n",
        "pred_list = []\n",
        "_id = 0\n",
        "model.eval()\n",
        "with torch.no_grad():\n",
        "    for x in test_loader:\n",
        "        preds = model(x.cuda())\n",
        "        preds = preds.argmax(1)\n",
        "        for pred in preds:\n",
        "            id_list.append(_id)\n",
        "            pred_list.append(pred.item())\n",
        "            _id += 1\n",
        "\n",
        "res = pd.DataFrame({\n",
        "    'id_idx': id_list,\n",
        "    'label': pred_list\n",
        "}) \n",
        "\n",
        "res.sort_values(by='id_idx', inplace=True)\n",
        "\n",
        "res.to_csv('./Fixresultkeep.csv', index=False) \n",
        "print(\"result saved\")"
      ]
    },
    {
      "cell_type": "code",
      "execution_count": null,
      "metadata": {
        "id": "RWocKYVFArVs"
      },
      "outputs": [],
      "source": [
        "!nvidia-smi --query | fgrep 'Product Name'\n"
      ]
    }
  ],
  "metadata": {
    "accelerator": "GPU",
    "colab": {
      "provenance": []
    },
    "gpuClass": "standard",
    "kernelspec": {
      "display_name": "Python 3",
      "language": "python",
      "name": "python3"
    },
    "language_info": {
      "codemirror_mode": {
        "name": "ipython",
        "version": 3
      },
      "file_extension": ".py",
      "mimetype": "text/x-python",
      "name": "python",
      "nbconvert_exporter": "python",
      "pygments_lexer": "ipython3",
      "version": "3.8.10"
    },
    "vscode": {
      "interpreter": {
        "hash": "52ee2977380704a66854748a73250e0671a9318bd5b3fd45a3df9f851ae61629"
      }
    }
  },
  "nbformat": 4,
  "nbformat_minor": 0
}