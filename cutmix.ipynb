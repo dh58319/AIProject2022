{
  "cells": [
    {
      "cell_type": "code",
      "execution_count": 1,
      "metadata": {
        "id": "NhjEdgyRArVe"
      },
      "outputs": [],
      "source": [
        "import glob\n",
        "import torch\n",
        "from PIL import Image\n",
        "from torch.utils.data import Dataset, DataLoader,random_split,SubsetRandomSampler, ConcatDataset\n",
        "import torch.nn as nn\n",
        "import torch.optim as optim\n",
        "from torchvision import datasets, transforms\n",
        "from torch.autograd import Variable\n",
        "import torch.nn.functional as F\n",
        "import numpy as np\n",
        "import matplotlib.pyplot as plt\n",
        "from torchvision.utils import make_grid\n",
        "from torchsummary import summary\n",
        "import tqdm\n",
        "\n"
      ]
    },
    {
      "cell_type": "code",
      "execution_count": 2,
      "metadata": {
        "colab": {
          "base_uri": "https://localhost:8080/"
        },
        "id": "jLPpYyQbArVg",
        "outputId": "651c27b3-ee5d-47cc-86b9-86f7dbf39e42"
      },
      "outputs": [
        {
          "ename": "ModuleNotFoundError",
          "evalue": "No module named 'google.colab'",
          "output_type": "error",
          "traceback": [
            "\u001b[0;31m---------------------------------------------------------------------------\u001b[0m",
            "\u001b[0;31mModuleNotFoundError\u001b[0m                       Traceback (most recent call last)",
            "Cell \u001b[0;32mIn [2], line 1\u001b[0m\n\u001b[0;32m----> 1\u001b[0m \u001b[39mfrom\u001b[39;00m \u001b[39mgoogle\u001b[39;00m\u001b[39m.\u001b[39;00m\u001b[39mcolab\u001b[39;00m \u001b[39mimport\u001b[39;00m drive\n\u001b[1;32m      2\u001b[0m drive\u001b[39m.\u001b[39mmount(\u001b[39m'\u001b[39m\u001b[39m/gdrive\u001b[39m\u001b[39m'\u001b[39m)\n\u001b[1;32m      3\u001b[0m get_ipython()\u001b[39m.\u001b[39mrun_line_magic(\u001b[39m'\u001b[39m\u001b[39mcd\u001b[39m\u001b[39m'\u001b[39m, \u001b[39m'\u001b[39m\u001b[39m/gdrive/MyDrive/challenge\u001b[39m\u001b[39m'\u001b[39m)\n",
            "\u001b[0;31mModuleNotFoundError\u001b[0m: No module named 'google.colab'"
          ]
        }
      ],
      "source": [
        "from google.colab import drive\n",
        "drive.mount('/gdrive')\n",
        "%cd /gdrive/MyDrive/challenge\n",
        "!pwd\n"
      ]
    },
    {
      "cell_type": "code",
      "execution_count": 3,
      "metadata": {
        "id": "wdktrK6AArVh"
      },
      "outputs": [],
      "source": [
        "args = {\"TRAIN_LABEL_CSV\" : './train_labels.csv',\n",
        "        \"TRAIN_PATH\" : \"../input/invasivespecies/train\",\n",
        "        \"TEST_PATH\" : \"../input/invasivespecies/test\",\n",
        "        \"RESIZE\" : 224,#(224,224),\n",
        "        \"LEARNING_RATE\" : 0.001,\n",
        "        \"WEIGHT_DECAY\" : 0.003,\n",
        "        \"BATCH_SIZE\" : 32,\n",
        "        \"FEATURE_EXTRACTING\" : True,\n",
        "        \"NUM_EPOCHS\" : 50,\n",
        "        \"MEAN\" : (0.485, 0.456, 0.406),\n",
        "        \"STD\" : (0.229, 0.224, 0.225),\n",
        "        \"BETA\" : 1.0,\n",
        "        \"MODEL\" : \"efficient\",\n",
        "        \"MODEL_PATH\" : \".\",\n",
        "        \"NUM_FOLDS\" : 5,\n",
        "        \"DEVICE\" : torch.device(\"cuda:0\" if torch.cuda.is_available() else 'cpu')}\n"
      ]
    },
    {
      "cell_type": "code",
      "execution_count": 4,
      "metadata": {
        "colab": {
          "base_uri": "https://localhost:8080/"
        },
        "id": "C3MDGaZfArVi",
        "outputId": "01ef5899-e23d-49a7-bc58-7998d0a21bfe"
      },
      "outputs": [
        {
          "name": "stdout",
          "output_type": "stream",
          "text": [
            "(50000, 32, 32, 3)\n"
          ]
        }
      ],
      "source": [
        "#load npy files\n",
        "train_dataset = np.load('trainset.npy')\n",
        "train_label = np.load('trainlabel.npy')\n",
        "test_dataset = np.load('testset.npy')\n",
        "\n",
        "print(train_dataset.shape)\n"
      ]
    },
    {
      "cell_type": "code",
      "execution_count": 5,
      "metadata": {
        "id": "EnZH06ebArVi"
      },
      "outputs": [],
      "source": [
        "train_data=[]\n",
        "for idx, data in enumerate(train_dataset):\n",
        "    train_data.append([data,train_label[idx]])"
      ]
    },
    {
      "cell_type": "code",
      "execution_count": 6,
      "metadata": {
        "id": "RLQVUW2AArVj"
      },
      "outputs": [],
      "source": [
        "# Function: Split Data\n",
        "def shuffle_train_valid_split(X, test_size=0.1, shuffle=True, random_state=1004):\n",
        "    test_num = int(len(X) * test_size)\n",
        "    train_num = len(X) - test_num\n",
        "    \n",
        "    if shuffle:\n",
        "        np.random.seed(random_state)\n",
        "        np.random.shuffle(X)\n",
        "        X_train = X[:train_num]\n",
        "        X_valid = X[train_num:]\n",
        "    else:\n",
        "        X_train = X[:train_num]\n",
        "        X_valid = X[train_num:]\n",
        "        \n",
        "    return X_train, X_valid"
      ]
    },
    {
      "cell_type": "code",
      "execution_count": 7,
      "metadata": {
        "colab": {
          "base_uri": "https://localhost:8080/"
        },
        "id": "SgDWQlzVArVj",
        "outputId": "04b44379-0d2b-409f-befb-cc847517a9ab"
      },
      "outputs": [
        {
          "name": "stdout",
          "output_type": "stream",
          "text": [
            "45000\n"
          ]
        }
      ],
      "source": [
        "train_data, valid_data = shuffle_train_valid_split(train_data)\n",
        "\n",
        "print(len(train_data))"
      ]
    },
    {
      "cell_type": "code",
      "execution_count": 25,
      "metadata": {
        "id": "00umWBVsArVl"
      },
      "outputs": [],
      "source": [
        "#custom dataset \n",
        "class CustomDataset(Dataset):\n",
        "    def __init__(self, input, transform=None):\n",
        "        super().__init__()\n",
        "        self.x_data = [data[0] for data in input]\n",
        "        self.y_data = [data[1] for data in input]\n",
        "        self.transform = transform \n",
        "\n",
        "    def __len__(self):\n",
        "        return len(self.x_data)\n",
        "\n",
        "    def __getitem__(self, idx):\n",
        "        x = self.x_data[idx]\n",
        "        y = self.y_data[idx]\n",
        "        if self.transform:\n",
        "            x = self.transform(x)\n",
        "\n",
        "        return x, y\n",
        "        "
      ]
    },
    {
      "cell_type": "code",
      "execution_count": 26,
      "metadata": {
        "id": "unLi3eY2ArVl"
      },
      "outputs": [],
      "source": [
        "#custom dataset \n",
        "class testDataset(Dataset):\n",
        "    def __init__(self, input, transform=None):\n",
        "        super().__init__()\n",
        "        self.x_data =input\n",
        "        self.transform = transform \n",
        "\n",
        "    def __len__(self):\n",
        "        return len(self.x_data)\n",
        "\n",
        "    def __getitem__(self, idx):\n",
        "        x = self.x_data[idx]\n",
        "        if self.transform:\n",
        "            x = self.transform(x)\n",
        "\n",
        "        return x\n",
        "        "
      ]
    },
    {
      "cell_type": "code",
      "execution_count": 27,
      "metadata": {
        "id": "QBJb85RMArVm"
      },
      "outputs": [],
      "source": [
        "transform_train = transforms.Compose([\n",
        "    transforms.ToTensor(),\n",
        "    transforms.RandomHorizontalFlip(p = 0.3),\n",
        "    transforms.RandomCrop(32, padding=4),\n",
        "    transforms.Normalize(mean=args[\"MEAN\"], std=args[\"STD\"])\n",
        "    #transforms.Normalize([0.5071, 0.4867, 0.4408], [0.2675, 0.2565, 0.2761])\n",
        "])\n",
        "transform_test = transforms.Compose([\n",
        "    transforms.ToTensor(),\n",
        "    transforms.Normalize(mean=args[\"MEAN\"], std=args[\"STD\"])\n",
        "    #transforms.Normalize([0.5071, 0.4867, 0.4408], [0.2675, 0.2565, 0.2761])\n",
        "])\n"
      ]
    },
    {
      "cell_type": "code",
      "execution_count": 29,
      "metadata": {
        "id": "SLo_fQJnArVm"
      },
      "outputs": [],
      "source": [
        "traindata = CustomDataset(train_data, transform=transform_train)\n",
        "validdata = CustomDataset(valid_data, transform=transform_test)\n",
        "testdata = testDataset(test_dataset, transform=transform_test)\n",
        "\n",
        "\n",
        "#data loader\n",
        "train_loader = DataLoader(traindata, batch_size=args[\"BATCH_SIZE\"], shuffle=True)\n",
        "valid_loader = DataLoader(validdata, batch_size=args[\"BATCH_SIZE\"], shuffle=True)\n",
        "test_loader = DataLoader(testdata, batch_size=args[\"BATCH_SIZE\"], shuffle=False)\n"
      ]
    },
    {
      "cell_type": "code",
      "execution_count": 30,
      "metadata": {},
      "outputs": [
        {
          "name": "stderr",
          "output_type": "stream",
          "text": [
            "Clipping input data to the valid range for imshow with RGB data ([0..1] for floats or [0..255] for integers).\n"
          ]
        },
        {
          "name": "stdout",
          "output_type": "stream",
          "text": [
            "Image batch dimensions: torch.Size([32, 3, 32, 32])\n",
            "Image label dimensions: torch.Size([32])\n"
          ]
        },
        {
          "data": {
            "image/png": "[encoded data removed]",
            "text/plain": [
              "<Figure size 2000x2000 with 1 Axes>"
            ]
          },
          "metadata": {},
          "output_type": "display_data"
        }
      ],
      "source": [
        "#print sample image with label from train_loader\n",
        "\n",
        "\n",
        "for i, (images, labels) in enumerate(train_loader):\n",
        "    print('Image batch dimensions:', images.shape)\n",
        "    print('Image label dimensions:', labels.shape)\n",
        "    plt.figure(figsize=(20,20))\n",
        "    plt.axis('off')\n",
        "    plt.imshow(make_grid(images, nrow=9).permute((1, 2, 0)))\n",
        "    break\n"
      ]
    },
    {
      "cell_type": "code",
      "execution_count": 31,
      "metadata": {},
      "outputs": [],
      "source": [
        "def rand_bbox(size, lam): # size : [B, C, W, H]\n",
        "    W = size[2] # 이미지의 width\n",
        "    H = size[3] # 이미지의 height\n",
        "    cut_rat = np.sqrt(1. - lam)  # 패치 크기의 비율 정하기\n",
        "    cut_w = np.int(W * cut_rat)  # 패치의 너비\n",
        "    cut_h = np.int(H * cut_rat)  # 패치의 높이\n",
        "\n",
        "    # uniform\n",
        "    # 기존 이미지의 크기에서 랜덤하게 값을 가져옵니다.(중간 좌표 추출)\n",
        "    cx = np.random.randint(W)\n",
        "    cy = np.random.randint(H)\n",
        "\n",
        "    # 패치 부분에 대한 좌표값을 추출합니다.\n",
        "    bbx1 = np.clip(cx - cut_w // 2, 0, W)\n",
        "    bby1 = np.clip(cy - cut_h // 2, 0, H)\n",
        "    bbx2 = np.clip(cx + cut_w // 2, 0, W)\n",
        "    bby2 = np.clip(cy + cut_h // 2, 0, H)\n",
        "\n",
        "    return bbx1, bby1, bbx2, bby2"
      ]
    },
    {
      "cell_type": "code",
      "execution_count": 32,
      "metadata": {
        "id": "zZRiIEmDArVn"
      },
      "outputs": [],
      "source": [
        "class Mish(nn.Module):\n",
        "\n",
        "\n",
        "    def __init__(self):\n",
        "        super().__init__()\n",
        "\n",
        "    def forward(self, x):\n",
        "        return x * torch.tanh(F.softplus(x))"
      ]
    },
    {
      "cell_type": "code",
      "execution_count": 33,
      "metadata": {
        "id": "NZedeWDoArVn"
      },
      "outputs": [],
      "source": [
        "import torch\n",
        "import torch.nn as nn\n",
        "class SEUnit(nn.Sequential):\n",
        "    \"\"\" Squeeze and Excitation def.\n",
        "    (hint 1): change nn.Identity() to appropriate class name\n",
        "    \"\"\"\n",
        "    def __init__(self, ch, r=16):\n",
        "        super().__init__()\n",
        "        self.avg_pool = nn.AdaptiveAvgPool2d(1)\n",
        "        self.fc = nn.Sequential(\n",
        "            nn.Linear(ch, int(ch/r), bias=False),\n",
        "            nn.Mish(),\n",
        "            nn.Linear(int(ch / r), ch, bias=False),\n",
        "            nn.Sigmoid()\n",
        "        )\n",
        "\n",
        "    def forward(self, x):\n",
        "        b, c, _, _ = x.size()\n",
        "        y = self.avg_pool(x).view(b, c)\n",
        "        y = self.fc(y).view(b, c, 1, 1)\n",
        "        return x * y.expand_as(x)\n",
        "\n",
        "class DepthSeperabelConv2d(nn.Module):\n",
        "\n",
        "    def __init__(self, input_channels, output_channels, kernel_size, **kwargs):\n",
        "        super().__init__()\n",
        "        self.depthwise = nn.Sequential(\n",
        "            nn.Conv2d(\n",
        "                input_channels,\n",
        "                input_channels,\n",
        "                kernel_size,\n",
        "                groups=input_channels,\n",
        "                **kwargs),\n",
        "            nn.BatchNorm2d(input_channels),\n",
        "            nn.Mish()\n",
        "        )\n",
        "\n",
        "        self.pointwise = nn.Sequential(\n",
        "            nn.Conv2d(input_channels, output_channels, 1),\n",
        "            nn.BatchNorm2d(output_channels),\n",
        "            nn.Mish()\n",
        "        )\n",
        "\n",
        "    def forward(self, x):\n",
        "        x = self.depthwise(x)\n",
        "        x = self.pointwise(x)\n",
        "\n",
        "        return x\n",
        "\n",
        "\n",
        "class BasicConv2d(nn.Module):\n",
        "\n",
        "    def __init__(self, input_channels, output_channels, kernel_size, **kwargs):\n",
        "\n",
        "        super().__init__()\n",
        "        self.conv = nn.Conv2d(\n",
        "            input_channels, output_channels, kernel_size, **kwargs)\n",
        "        self.bn = nn.BatchNorm2d(output_channels)\n",
        "        self.relu = nn.Mish()\n",
        "\n",
        "    def forward(self, x):\n",
        "        x = self.conv(x)\n",
        "        x = self.bn(x)\n",
        "        x = self.relu(x)\n",
        "\n",
        "        return x\n",
        "\n",
        "\n",
        "class MobileNet(nn.Module):\n",
        "\n",
        "    def __init__(self, width_multiplier=1, class_num=100):\n",
        "       super().__init__()\n",
        "\n",
        "       alpha = width_multiplier\n",
        "       self.stem = nn.Sequential(\n",
        "           BasicConv2d(3, int(32 * alpha), 3, padding=1, bias=False),\n",
        "           DepthSeperabelConv2d(\n",
        "               int(32 * alpha),\n",
        "               int(32 * alpha),\n",
        "               3,\n",
        "               padding=1,\n",
        "               bias=False\n",
        "           )\n",
        "       )\n",
        "\n",
        "       #downsample\n",
        "       self.conv1 = nn.Sequential(\n",
        "           DepthSeperabelConv2d(\n",
        "               int(32 * alpha),\n",
        "               int(32 * alpha),\n",
        "               3,\n",
        "               stride=1,\n",
        "               padding=1,\n",
        "               bias=False\n",
        "           ),\n",
        "           DepthSeperabelConv2d(\n",
        "               int(32 * alpha),\n",
        "               int(32 * alpha),\n",
        "               3,\n",
        "               padding=1,\n",
        "               bias=False\n",
        "           )\n",
        "       )\n",
        "\n",
        "       #downsample\n",
        "       self.conv2 = nn.Sequential(\n",
        "           DepthSeperabelConv2d(\n",
        "               int(32 * alpha),\n",
        "               int(32 * alpha),\n",
        "               3,\n",
        "               stride=1,\n",
        "               padding=1,\n",
        "               bias=False\n",
        "           ),\n",
        "           DepthSeperabelConv2d(\n",
        "               int(32 * alpha),\n",
        "               int(64 * alpha),\n",
        "               3,\n",
        "               padding=1,\n",
        "               bias=False\n",
        "           )\n",
        "       )\n",
        "\n",
        "       #downsample\n",
        "       self.conv3 = nn.Sequential(\n",
        "           DepthSeperabelConv2d(\n",
        "               int(64 * alpha),\n",
        "               int(64 * alpha),\n",
        "               3,\n",
        "               stride=1,\n",
        "               padding=1,\n",
        "               bias=False\n",
        "           ),\n",
        "\n",
        "           DepthSeperabelConv2d(\n",
        "               int(64 * alpha),\n",
        "               int(64 * alpha),\n",
        "               3,\n",
        "               padding=1,\n",
        "               bias=False\n",
        "           ),\n",
        "           DepthSeperabelConv2d(\n",
        "               int(64 * alpha),\n",
        "               int(64 * alpha),\n",
        "               3,\n",
        "               padding=1,\n",
        "               bias=False\n",
        "           ),\n",
        "           DepthSeperabelConv2d(\n",
        "               int(64 * alpha),\n",
        "               int(64 * alpha),\n",
        "               3,\n",
        "               padding=1,\n",
        "               bias=False\n",
        "           ),\n",
        "           DepthSeperabelConv2d(\n",
        "               int(64 * alpha),\n",
        "               int(64 * alpha),\n",
        "               3,\n",
        "               padding=1,\n",
        "               bias=False\n",
        "           ),\n",
        "           DepthSeperabelConv2d(\n",
        "               int(64 * alpha),\n",
        "               int(128 * alpha),\n",
        "               3,\n",
        "               padding=1,\n",
        "               bias=False\n",
        "           ),SEUnit(128)\n",
        "       )\n",
        "\n",
        "       #downsample\n",
        "       self.conv4 = nn.Sequential(\n",
        "           DepthSeperabelConv2d(\n",
        "               int(128 * alpha),\n",
        "               int(128 * alpha),\n",
        "               3,\n",
        "               stride=1,\n",
        "               padding=1,\n",
        "               bias=False\n",
        "           ),SEUnit(128),\n",
        "           DepthSeperabelConv2d(\n",
        "               int(128 * alpha),\n",
        "               int(128 * alpha),\n",
        "               3,\n",
        "               padding=1,\n",
        "               bias=False\n",
        "           ),SEUnit(128)\n",
        "       )\n",
        "        \n",
        "       self.fc = nn.Linear(int(128 * alpha), class_num)\n",
        "       self.avg = nn.AdaptiveAvgPool2d(1)\n",
        "       self.pool = nn.MaxPool2d(2, 2)\n",
        "       self.dropout = nn.Dropout(0.2)\n",
        "      #  weight initialization with he_normal\n",
        "       for m in self.modules():\n",
        "        if isinstance(m, nn.Conv2d):\n",
        "            nn.init.kaiming_normal_(m.weight, mode='fan_out')\n",
        "        elif isinstance(m, nn.BatchNorm2d):\n",
        "            m.weight.data.fill_(1)\n",
        "            m.bias.data.zero_()\n",
        "        \n",
        "\n",
        "    def forward(self, x):\n",
        "        x = self.stem(x)\n",
        "\n",
        "        x = self.conv1(x)\n",
        "        x = self.conv2(x)\n",
        "        x = self.conv3(x)\n",
        "        #x = self.pool(x)\n",
        "        x = self.conv4(x)\n",
        "        #x = self.pool(x)\n",
        "        x = self.avg(x)\n",
        "        x = x.view(x.size(0), -1)\n",
        "        x = self.dropout(x)\n",
        "        x = self.fc(x)\n",
        "        return x\n",
        "\n",
        "\n",
        "def mobilenet(alpha=1, class_num=100):\n",
        "    return MobileNet(alpha, class_num)"
      ]
    },
    {
      "cell_type": "code",
      "execution_count": 34,
      "metadata": {
        "colab": {
          "base_uri": "https://localhost:8080/"
        },
        "id": "5KU_Y5aKArVo",
        "outputId": "3fc47758-e7c3-4a7a-9354-2cfe131ca116"
      },
      "outputs": [
        {
          "name": "stdout",
          "output_type": "stream",
          "text": [
            "0\n",
            "torch.Size([32, 3, 32, 32])\n",
            "torch.Size([32])\n"
          ]
        }
      ],
      "source": [
        "for batch, (X,y)in enumerate(train_loader):\n",
        "    print(batch)\n",
        "    print(X.shape)\n",
        "    print(y.shape)\n",
        "    break"
      ]
    },
    {
      "cell_type": "code",
      "execution_count": 35,
      "metadata": {
        "id": "pSplgy9NArVp"
      },
      "outputs": [],
      "source": [
        "device =  \"cuda\" if torch.cuda.is_available() else \"cpu\""
      ]
    },
    {
      "cell_type": "code",
      "execution_count": 37,
      "metadata": {
        "colab": {
          "base_uri": "https://localhost:8080/"
        },
        "id": "3hDJho0WArVq",
        "outputId": "6d477e6a-6bea-4213-946e-772a43733e7f"
      },
      "outputs": [
        {
          "name": "stdout",
          "output_type": "stream",
          "text": [
            "Using cpu device\n"
          ]
        }
      ],
      "source": [
        "\n",
        "print(\"Using {} device\".format(device))\n",
        "\n",
        "model = mobilenet().to(device)\n",
        "#model.load_state_dict(torch.load('./fixmodel3.pt'))\n",
        "\n",
        "\n",
        "optimizer = optim.AdamW(model.parameters(), lr=0.001)\n",
        "criterion = nn.CrossEntropyLoss()\n",
        "scheduler = optim.lr_scheduler.OneCycleLR(optimizer, max_lr=0.01,total_steps=args[\"NUM_EPOCHS\"],steps_per_epoch=len(train_loader), epochs=args[\"NUM_EPOCHS\"])\n",
        "lrs = []\n",
        "train_acc=[]\n",
        "val_acc =[]"
      ]
    },
    {
      "cell_type": "code",
      "execution_count": 38,
      "metadata": {},
      "outputs": [
        {
          "name": "stdout",
          "output_type": "stream",
          "text": [
            "0.3681160265708517\n",
            "tensor([15, 19,  9, 21, 16, 22, 27,  2, 31, 10, 30, 23,  4, 29,  5,  3,  1, 14,\n",
            "         0, 25, 26, 20,  6, 28, 11, 13, 17,  7, 12, 18, 24,  8])\n"
          ]
        }
      ],
      "source": [
        "X,y = next(iter(train_loader))\n",
        "X = X.to(device)\n",
        "y = y.to(device)\n",
        "\n",
        "lam = np.random.beta(1.0, 1.0)  # 베타 분포에서 lam 값을 가져옵나다.\n",
        "rand_index = torch.randperm(X.size()[0]).to(device) # batch_size 내의 인덱스가 랜덤하게 셔플됩니다.\n",
        "shuffled_y = y[rand_index] # 타겟 레이블을 랜덤하게 셔플합니다.\n",
        "\n",
        "print(lam)\n",
        "print(rand_index)\n"
      ]
    },
    {
      "cell_type": "code",
      "execution_count": 39,
      "metadata": {},
      "outputs": [
        {
          "name": "stderr",
          "output_type": "stream",
          "text": [
            "/var/folders/28/mxz_d7ln5bs9tv85nsl3xf040000gn/T/ipykernel_33565/3290787242.py:5: DeprecationWarning: `np.int` is a deprecated alias for the builtin `int`. To silence this warning, use `int` by itself. Doing this will not modify any behavior and is safe. When replacing `np.int`, you may wish to use e.g. `np.int64` or `np.int32` to specify the precision. If you wish to review your current use, check the release note link for additional information.\n",
            "Deprecated in NumPy 1.20; for more details and guidance: https://numpy.org/devdocs/release/1.20.0-notes.html#deprecations\n",
            "  cut_w = np.int(W * cut_rat)  # 패치의 너비\n",
            "/var/folders/28/mxz_d7ln5bs9tv85nsl3xf040000gn/T/ipykernel_33565/3290787242.py:6: DeprecationWarning: `np.int` is a deprecated alias for the builtin `int`. To silence this warning, use `int` by itself. Doing this will not modify any behavior and is safe. When replacing `np.int`, you may wish to use e.g. `np.int64` or `np.int32` to specify the precision. If you wish to review your current use, check the release note link for additional information.\n",
            "Deprecated in NumPy 1.20; for more details and guidance: https://numpy.org/devdocs/release/1.20.0-notes.html#deprecations\n",
            "  cut_h = np.int(H * cut_rat)  # 패치의 높이\n"
          ]
        }
      ],
      "source": [
        "bbx1, bby1, bbx2, bby2 = rand_bbox(X.size(), lam)\n",
        "X[:,:,bbx1:bbx2, bby1:bby2] = X[rand_index,:,bbx1:bbx2, bby1:bby2]"
      ]
    },
    {
      "cell_type": "code",
      "execution_count": 40,
      "metadata": {},
      "outputs": [
        {
          "name": "stdout",
          "output_type": "stream",
          "text": [
            "0.671875\n"
          ]
        }
      ],
      "source": [
        "lam = 1 - ((bbx2 - bbx1) * (bby2 - bby1) / (X.size()[-1] * X.size()[-2]))\n",
        "print(lam)"
      ]
    },
    {
      "cell_type": "code",
      "execution_count": 41,
      "metadata": {},
      "outputs": [
        {
          "name": "stderr",
          "output_type": "stream",
          "text": [
            "Clipping input data to the valid range for imshow with RGB data ([0..1] for floats or [0..255] for integers).\n"
          ]
        },
        {
          "data": {
            "text/plain": [
              "<matplotlib.image.AxesImage at 0x136d71bb0>"
            ]
          },
          "execution_count": 41,
          "metadata": {},
          "output_type": "execute_result"
        },
        {
          "data": {
            "image/png": "[encoded data removed]",
            "text/plain": [
              "<Figure size 640x480 with 1 Axes>"
            ]
          },
          "metadata": {},
          "output_type": "display_data"
        }
      ],
      "source": [
        "plt.imshow(X[0].permute(1, 2, 0).cpu())"
      ]
    },
    {
      "cell_type": "code",
      "execution_count": 42,
      "metadata": {},
      "outputs": [
        {
          "name": "stderr",
          "output_type": "stream",
          "text": [
            "/var/folders/28/mxz_d7ln5bs9tv85nsl3xf040000gn/T/ipykernel_33565/3290787242.py:5: DeprecationWarning: `np.int` is a deprecated alias for the builtin `int`. To silence this warning, use `int` by itself. Doing this will not modify any behavior and is safe. When replacing `np.int`, you may wish to use e.g. `np.int64` or `np.int32` to specify the precision. If you wish to review your current use, check the release note link for additional information.\n",
            "Deprecated in NumPy 1.20; for more details and guidance: https://numpy.org/devdocs/release/1.20.0-notes.html#deprecations\n",
            "  cut_w = np.int(W * cut_rat)  # 패치의 너비\n",
            "/var/folders/28/mxz_d7ln5bs9tv85nsl3xf040000gn/T/ipykernel_33565/3290787242.py:6: DeprecationWarning: `np.int` is a deprecated alias for the builtin `int`. To silence this warning, use `int` by itself. Doing this will not modify any behavior and is safe. When replacing `np.int`, you may wish to use e.g. `np.int64` or `np.int32` to specify the precision. If you wish to review your current use, check the release note link for additional information.\n",
            "Deprecated in NumPy 1.20; for more details and guidance: https://numpy.org/devdocs/release/1.20.0-notes.html#deprecations\n",
            "  cut_h = np.int(H * cut_rat)  # 패치의 높이\n",
            "Clipping input data to the valid range for imshow with RGB data ([0..1] for floats or [0..255] for integers).\n",
            "Clipping input data to the valid range for imshow with RGB data ([0..1] for floats or [0..255] for integers).\n",
            "Clipping input data to the valid range for imshow with RGB data ([0..1] for floats or [0..255] for integers).\n"
          ]
        },
        {
          "data": {
            "image/png": "[encoded data removed]",
            "text/plain": [
              "<Figure size 1500x1200 with 3 Axes>"
            ]
          },
          "metadata": {},
          "output_type": "display_data"
        }
      ],
      "source": [
        "def cutmix_plot(train_loader):\n",
        "    fig , axes = plt.subplots(1,3)\n",
        "    fig.set_size_inches(15,12)\n",
        "    \n",
        "    for i in range(3):\n",
        "        for inputs, targets in train_loader:\n",
        "            inputs = inputs\n",
        "            targets = targets\n",
        "            break\n",
        "\n",
        "        lam = np.random.beta(1.0, 1.0) \n",
        "        rand_index = torch.randperm(inputs.size()[0])\n",
        "        bbx1, bby1, bbx2, bby2 = rand_bbox(inputs.size(), lam)\n",
        "        inputs[:, :, bbx1:bbx2, bby1:bby2] = inputs[rand_index, :, bbx1:bbx2, bby1:bby2]\n",
        "        lam = 1 - ((bbx2 - bbx1) * (bby2 - bby1) / (inputs.size()[-1] * inputs.size()[-2]))\n",
        "        axes[i].imshow(inputs[1].permute(1, 2, 0).cpu())\n",
        "        axes[i].set_title(f'λ : {np.round(lam,3)}')\n",
        "        axes[i].axis('off')\n",
        "    return\n",
        "\n",
        "cutmix_plot(train_loader)"
      ]
    },
    {
      "cell_type": "code",
      "execution_count": 43,
      "metadata": {},
      "outputs": [],
      "source": [
        "def validation(model, valid_loader, criterion):\n",
        "\n",
        "    accuracy = 0\n",
        "    valid_loss = 0\n",
        "    y_score = []\n",
        "\n",
        "    for i, (X, y) in enumerate(valid_loader):\n",
        "        if torch.cuda.is_available():\n",
        "            X = X.to('cuda')\n",
        "            y = y.to('cuda')\n",
        "\n",
        "        outputs = model(X)\n",
        "        loss = criterion(outputs, y)\n",
        "        valid_loss += loss.item()\n",
        "        outputs_ = torch.argmax(outputs, dim=1)\n",
        "        \n",
        "        accuracy += (outputs_ == y).float().sum()\n",
        "        \n",
        "        # For roc_auc_score\n",
        "        outputs = F.softmax(outputs, dim=-1)\n",
        "        y_score.append(outputs.detach().cpu().numpy())\n",
        "    \n",
        "    y_score = np.array([i for sub in y_score for i in sub])\n",
        "\n",
        "    return valid_loss, accuracy, y_score"
      ]
    },
    {
      "cell_type": "code",
      "execution_count": 44,
      "metadata": {},
      "outputs": [],
      "source": [
        "import os\n",
        "def train_model(model, train_loader, valid_loader, criterion, optimizer, args, fold_num=1):\n",
        "    steps = 0\n",
        "    total_step = len(train_loader)\n",
        "    train_losses, validation_losses = [], []\n",
        "    best_val = np.inf\n",
        "    \n",
        "    scheduler = optim.lr_scheduler.OneCycleLR(optimizer, max_lr=0.01,total_steps=args[\"NUM_EPOCHS\"],steps_per_epoch=len(train_loader), epochs=args[\"NUM_EPOCHS\"])\n",
        "    \n",
        "    if torch.cuda.is_available():\n",
        "        model = model.to(args[\"DEVICE\"])\n",
        "\n",
        "    for epoch in range(args['NUM_EPOCHS']):\n",
        "        running_loss = 0\n",
        "        for i, (X, y) in enumerate(train_loader):\n",
        "            \n",
        "            if torch.cuda.is_available():\n",
        "                X = X.to(args[\"DEVICE\"])\n",
        "                y = y.to(args[\"DEVICE\"])\n",
        "\n",
        "                \n",
        "            if args[\"BETA\"] > 0 and np.random.random()>0.5: # cutmix 작동될 확률      \n",
        "                lam = np.random.beta(args[\"BETA\"], args[\"BETA\"])\n",
        "                rand_index = torch.randperm(X.size()[0]).to(args[\"DEVICE\"])\n",
        "                target_a = y\n",
        "                target_b = y[rand_index]            \n",
        "                bbx1, bby1, bbx2, bby2 = rand_bbox(X.size(), lam)\n",
        "                X[:, :, bbx1:bbx2, bby1:bby2] = X[rand_index, :, bbx1:bbx2, bby1:bby2]\n",
        "                lam = 1 - ((bbx2 - bbx1) * (bby2 - bby1) / (X.size()[-1] * X.size()[-2]))\n",
        "                outputs = model(X)\n",
        "                loss = criterion(outputs, target_a) * lam + criterion(outputs, target_b) * (1. - lam)\n",
        "                \n",
        "            else:\n",
        "                outputs = model(X)\n",
        "                loss = criterion(outputs, y)                  \n",
        "                \n",
        "            steps += 1\n",
        "            optimizer.zero_grad()\n",
        "            loss.backward()\n",
        "            optimizer.step()\n",
        "\n",
        "            running_loss += loss.item()\n",
        "            \n",
        "            if steps % total_step == 0:\n",
        "                model.eval()\n",
        "                with torch.no_grad():\n",
        "                    valid_loss, accuracy, y_score = validation(model, valid_loader, criterion)\n",
        "\n",
        "                print(\"Epoch: {}/{}.. \".format(epoch + 1, args['NUM_EPOCHS']) +\n",
        "                      \"Training Loss: {:.5f}.. \".format(running_loss / total_step) +\n",
        "                      \"Valid Loss: {:.5f}.. \".format(valid_loss / len(valid_loader)) +\n",
        "                      \"Valid Accuracy: {:.5f}.. \".format(accuracy / len(valid_loader.dataset)) )\n",
        "                \n",
        "                # Save Model\n",
        "                if (valid_loss / len(valid_loader)) < best_val:\n",
        "                    best_val = (valid_loss / len(valid_loader))\n",
        "                    torch.save(model.state_dict(), f\"{args['MODEL_PATH']}/{fold_num}_best_checkpoint_{str(epoch + 1).zfill(3)}epoch.tar\")\n",
        "                    try:\n",
        "                        os.remove(f_pth)\n",
        "                    except:\n",
        "                        pass\n",
        "                    f_pth = f\"{args['MODEL_PATH']}/{fold_num}_best_checkpoint_{str(epoch + 1).zfill(3)}epoch.tar\"\n",
        "                \n",
        "                train_losses.append(running_loss / len(train_loader))\n",
        "                validation_losses.append(valid_loss / len(valid_loader))\n",
        "                steps = 0\n",
        "                running_loss = 0\n",
        "                model.train()\n",
        "                \n",
        "        scheduler.step(valid_loss / len(valid_loader))\n",
        "\n",
        "    return \n"
      ]
    },
    {
      "cell_type": "code",
      "execution_count": 45,
      "metadata": {},
      "outputs": [
        {
          "name": "stderr",
          "output_type": "stream",
          "text": [
            "/var/folders/28/mxz_d7ln5bs9tv85nsl3xf040000gn/T/ipykernel_33565/3290787242.py:5: DeprecationWarning: `np.int` is a deprecated alias for the builtin `int`. To silence this warning, use `int` by itself. Doing this will not modify any behavior and is safe. When replacing `np.int`, you may wish to use e.g. `np.int64` or `np.int32` to specify the precision. If you wish to review your current use, check the release note link for additional information.\n",
            "Deprecated in NumPy 1.20; for more details and guidance: https://numpy.org/devdocs/release/1.20.0-notes.html#deprecations\n",
            "  cut_w = np.int(W * cut_rat)  # 패치의 너비\n",
            "/var/folders/28/mxz_d7ln5bs9tv85nsl3xf040000gn/T/ipykernel_33565/3290787242.py:6: DeprecationWarning: `np.int` is a deprecated alias for the builtin `int`. To silence this warning, use `int` by itself. Doing this will not modify any behavior and is safe. When replacing `np.int`, you may wish to use e.g. `np.int64` or `np.int32` to specify the precision. If you wish to review your current use, check the release note link for additional information.\n",
            "Deprecated in NumPy 1.20; for more details and guidance: https://numpy.org/devdocs/release/1.20.0-notes.html#deprecations\n",
            "  cut_h = np.int(H * cut_rat)  # 패치의 높이\n"
          ]
        }
      ],
      "source": [
        "train_model(model, train_loader, valid_loader, criterion, optimizer, args, fold_num=1)"
      ]
    },
    {
      "cell_type": "code",
      "execution_count": null,
      "metadata": {
        "colab": {
          "base_uri": "https://localhost:8080/"
        },
        "id": "HGvkb-5aArVq",
        "outputId": "04487756-1c73-4b19-f298-3739fe15afae"
      },
      "outputs": [
        {
          "name": "stdout",
          "output_type": "stream",
          "text": [
            "----------------------------------------------------------------\n",
            "        Layer (type)               Output Shape         Param #\n",
            "================================================================\n",
            "            Conv2d-1           [-1, 32, 32, 32]             864\n",
            "       BatchNorm2d-2           [-1, 32, 32, 32]              64\n",
            "              Mish-3           [-1, 32, 32, 32]               0\n",
            "       BasicConv2d-4           [-1, 32, 32, 32]               0\n",
            "            Conv2d-5           [-1, 32, 32, 32]             288\n",
            "       BatchNorm2d-6           [-1, 32, 32, 32]              64\n",
            "              Mish-7           [-1, 32, 32, 32]               0\n",
            "            Conv2d-8           [-1, 32, 32, 32]           1,056\n",
            "       BatchNorm2d-9           [-1, 32, 32, 32]              64\n",
            "             Mish-10           [-1, 32, 32, 32]               0\n",
            "DepthSeperabelConv2d-11           [-1, 32, 32, 32]               0\n",
            "           Conv2d-12           [-1, 32, 32, 32]             288\n",
            "      BatchNorm2d-13           [-1, 32, 32, 32]              64\n",
            "             Mish-14           [-1, 32, 32, 32]               0\n",
            "           Conv2d-15           [-1, 32, 32, 32]           1,056\n",
            "      BatchNorm2d-16           [-1, 32, 32, 32]              64\n",
            "             Mish-17           [-1, 32, 32, 32]               0\n",
            "DepthSeperabelConv2d-18           [-1, 32, 32, 32]               0\n",
            "           Conv2d-19           [-1, 32, 32, 32]             288\n",
            "      BatchNorm2d-20           [-1, 32, 32, 32]              64\n",
            "             Mish-21           [-1, 32, 32, 32]               0\n",
            "           Conv2d-22           [-1, 32, 32, 32]           1,056\n",
            "      BatchNorm2d-23           [-1, 32, 32, 32]              64\n",
            "             Mish-24           [-1, 32, 32, 32]               0\n",
            "DepthSeperabelConv2d-25           [-1, 32, 32, 32]               0\n",
            "           Conv2d-26           [-1, 32, 32, 32]             288\n",
            "      BatchNorm2d-27           [-1, 32, 32, 32]              64\n",
            "             Mish-28           [-1, 32, 32, 32]               0\n",
            "           Conv2d-29           [-1, 32, 32, 32]           1,056\n",
            "      BatchNorm2d-30           [-1, 32, 32, 32]              64\n",
            "             Mish-31           [-1, 32, 32, 32]               0\n",
            "DepthSeperabelConv2d-32           [-1, 32, 32, 32]               0\n",
            "           Conv2d-33           [-1, 32, 32, 32]             288\n",
            "      BatchNorm2d-34           [-1, 32, 32, 32]              64\n",
            "             Mish-35           [-1, 32, 32, 32]               0\n",
            "           Conv2d-36           [-1, 64, 32, 32]           2,112\n",
            "      BatchNorm2d-37           [-1, 64, 32, 32]             128\n",
            "             Mish-38           [-1, 64, 32, 32]               0\n",
            "DepthSeperabelConv2d-39           [-1, 64, 32, 32]               0\n",
            "           Conv2d-40           [-1, 64, 32, 32]             576\n",
            "      BatchNorm2d-41           [-1, 64, 32, 32]             128\n",
            "             Mish-42           [-1, 64, 32, 32]               0\n",
            "           Conv2d-43           [-1, 64, 32, 32]           4,160\n",
            "      BatchNorm2d-44           [-1, 64, 32, 32]             128\n",
            "             Mish-45           [-1, 64, 32, 32]               0\n",
            "DepthSeperabelConv2d-46           [-1, 64, 32, 32]               0\n",
            "           Conv2d-47           [-1, 64, 32, 32]             576\n",
            "      BatchNorm2d-48           [-1, 64, 32, 32]             128\n",
            "             Mish-49           [-1, 64, 32, 32]               0\n",
            "           Conv2d-50           [-1, 64, 32, 32]           4,160\n",
            "      BatchNorm2d-51           [-1, 64, 32, 32]             128\n",
            "             Mish-52           [-1, 64, 32, 32]               0\n",
            "DepthSeperabelConv2d-53           [-1, 64, 32, 32]               0\n",
            "           Conv2d-54           [-1, 64, 32, 32]             576\n",
            "      BatchNorm2d-55           [-1, 64, 32, 32]             128\n",
            "             Mish-56           [-1, 64, 32, 32]               0\n",
            "           Conv2d-57           [-1, 64, 32, 32]           4,160\n",
            "      BatchNorm2d-58           [-1, 64, 32, 32]             128\n",
            "             Mish-59           [-1, 64, 32, 32]               0\n",
            "DepthSeperabelConv2d-60           [-1, 64, 32, 32]               0\n",
            "           Conv2d-61           [-1, 64, 32, 32]             576\n",
            "      BatchNorm2d-62           [-1, 64, 32, 32]             128\n",
            "             Mish-63           [-1, 64, 32, 32]               0\n",
            "           Conv2d-64           [-1, 64, 32, 32]           4,160\n",
            "      BatchNorm2d-65           [-1, 64, 32, 32]             128\n",
            "             Mish-66           [-1, 64, 32, 32]               0\n",
            "DepthSeperabelConv2d-67           [-1, 64, 32, 32]               0\n",
            "           Conv2d-68           [-1, 64, 32, 32]             576\n",
            "      BatchNorm2d-69           [-1, 64, 32, 32]             128\n",
            "             Mish-70           [-1, 64, 32, 32]               0\n",
            "           Conv2d-71           [-1, 64, 32, 32]           4,160\n",
            "      BatchNorm2d-72           [-1, 64, 32, 32]             128\n",
            "             Mish-73           [-1, 64, 32, 32]               0\n",
            "DepthSeperabelConv2d-74           [-1, 64, 32, 32]               0\n",
            "           Conv2d-75           [-1, 64, 32, 32]             576\n",
            "      BatchNorm2d-76           [-1, 64, 32, 32]             128\n",
            "             Mish-77           [-1, 64, 32, 32]               0\n",
            "           Conv2d-78          [-1, 128, 32, 32]           8,320\n",
            "      BatchNorm2d-79          [-1, 128, 32, 32]             256\n",
            "             Mish-80          [-1, 128, 32, 32]               0\n",
            "DepthSeperabelConv2d-81          [-1, 128, 32, 32]               0\n",
            "AdaptiveAvgPool2d-82            [-1, 128, 1, 1]               0\n",
            "           Linear-83                    [-1, 8]           1,024\n",
            "             Mish-84                    [-1, 8]               0\n",
            "           Linear-85                  [-1, 128]           1,024\n",
            "          Sigmoid-86                  [-1, 128]               0\n",
            "           Conv2d-87          [-1, 128, 32, 32]           1,152\n",
            "      BatchNorm2d-88          [-1, 128, 32, 32]             256\n",
            "             Mish-89          [-1, 128, 32, 32]               0\n",
            "           Conv2d-90          [-1, 128, 32, 32]          16,512\n",
            "      BatchNorm2d-91          [-1, 128, 32, 32]             256\n",
            "             Mish-92          [-1, 128, 32, 32]               0\n",
            "DepthSeperabelConv2d-93          [-1, 128, 32, 32]               0\n",
            "AdaptiveAvgPool2d-94            [-1, 128, 1, 1]               0\n",
            "           Linear-95                    [-1, 8]           1,024\n",
            "             Mish-96                    [-1, 8]               0\n",
            "           Linear-97                  [-1, 128]           1,024\n",
            "          Sigmoid-98                  [-1, 128]               0\n",
            "           Conv2d-99          [-1, 128, 32, 32]           1,152\n",
            "     BatchNorm2d-100          [-1, 128, 32, 32]             256\n",
            "            Mish-101          [-1, 128, 32, 32]               0\n",
            "          Conv2d-102          [-1, 128, 32, 32]          16,512\n",
            "     BatchNorm2d-103          [-1, 128, 32, 32]             256\n",
            "            Mish-104          [-1, 128, 32, 32]               0\n",
            "DepthSeperabelConv2d-105          [-1, 128, 32, 32]               0\n",
            "AdaptiveAvgPool2d-106            [-1, 128, 1, 1]               0\n",
            "          Linear-107                    [-1, 8]           1,024\n",
            "            Mish-108                    [-1, 8]               0\n",
            "          Linear-109                  [-1, 128]           1,024\n",
            "         Sigmoid-110                  [-1, 128]               0\n",
            "AdaptiveAvgPool2d-111            [-1, 128, 1, 1]               0\n",
            "         Dropout-112                  [-1, 128]               0\n",
            "          Linear-113                  [-1, 100]          12,900\n",
            "================================================================\n",
            "Total params: 99,044\n",
            "Trainable params: 99,044\n",
            "Non-trainable params: 0\n",
            "----------------------------------------------------------------\n",
            "Input size (MB): 0.01\n",
            "Forward/backward pass size (MB): 47.76\n",
            "Params size (MB): 0.38\n",
            "Estimated Total Size (MB): 48.15\n",
            "----------------------------------------------------------------\n"
          ]
        }
      ],
      "source": [
        "pytorch_total_params = sum(p.numel() for p in model.parameters())\n",
        "pytorch_total_params\n",
        "\n",
        "summary(model, (3, 32, 32))"
      ]
    },
    {
      "cell_type": "code",
      "execution_count": null,
      "metadata": {
        "id": "CtvBsa-mArVr"
      },
      "outputs": [],
      "source": [
        "plt.plot(train_acc)\n",
        "plt.plot(val_acc)\n",
        "plt.show()"
      ]
    },
    {
      "cell_type": "code",
      "execution_count": null,
      "metadata": {
        "id": "fm5q5v7eArVr"
      },
      "outputs": [],
      "source": [
        "plt.plot(lrs)"
      ]
    },
    {
      "cell_type": "code",
      "execution_count": null,
      "metadata": {
        "id": "YtY1vtasArVs"
      },
      "outputs": [],
      "source": [
        "import pandas as pd\n",
        "#model.load_state_dict(torch.load('cutmix.pt'))\n",
        "id_list = []\n",
        "pred_list = []\n",
        "_id = 0\n",
        "model.eval()\n",
        "with torch.no_grad():\n",
        "    for x in test_loader:\n",
        "        preds = model(x.cuda())\n",
        "        preds = preds.argmax(1)\n",
        "        for pred in preds:\n",
        "            id_list.append(_id)\n",
        "            pred_list.append(pred.item())\n",
        "            _id += 1\n",
        "\n",
        "res = pd.DataFrame({\n",
        "    'id_idx': id_list,\n",
        "    'label': pred_list\n",
        "}) \n",
        "\n",
        "res.sort_values(by='id_idx', inplace=True)\n",
        "\n",
        "res.to_csv('./cutmix.csv', index=False) \n",
        "print(\"result saved\")"
      ]
    },
    {
      "cell_type": "code",
      "execution_count": null,
      "metadata": {
        "id": "RWocKYVFArVs"
      },
      "outputs": [],
      "source": [
        "!nvidia-smi --query | fgrep 'Product Name'\n"
      ]
    }
  ],
  "metadata": {
    "accelerator": "GPU",
    "colab": {
      "provenance": []
    },
    "gpuClass": "standard",
    "kernelspec": {
      "display_name": "Python 3",
      "language": "python",
      "name": "python3"
    },
    "language_info": {
      "codemirror_mode": {
        "name": "ipython",
        "version": 3
      },
      "file_extension": ".py",
      "mimetype": "text/x-python",
      "name": "python",
      "nbconvert_exporter": "python",
      "pygments_lexer": "ipython3",
      "version": "3.8.13"
    },
    "vscode": {
      "interpreter": {
        "hash": "52ee2977380704a66854748a73250e0671a9318bd5b3fd45a3df9f851ae61629"
      }
    }
  },
  "nbformat": 4,
  "nbformat_minor": 0
}
